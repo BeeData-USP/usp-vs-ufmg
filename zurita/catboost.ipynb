{
 "cells": [
  {
   "cell_type": "code",
   "execution_count": 74,
   "metadata": {},
   "outputs": [],
   "source": [
    "import xgboost as xgb\n",
    "import pandas as pd\n",
    "from datetime import date\n",
    "from catboost import CatBoostRegressor, Pool\n",
    "from sklearn.model_selection import TimeSeriesSplit\n",
    "import numpy as np\n",
    "import matplotlib.pyplot as plt\n",
    "import seaborn as sns\n",
    "\n",
    "sns.set()"
   ]
  },
  {
   "cell_type": "code",
   "execution_count": 68,
   "metadata": {},
   "outputs": [
    {
     "data": {
      "text/plain": [
       "(73644, 34)"
      ]
     },
     "execution_count": 68,
     "metadata": {},
     "output_type": "execute_result"
    }
   ],
   "source": [
    "df = pd.read_csv(\"data/faturamento_consolidade_com_feriado_e_receita_da_categoria.csv\", parse_dates=[\"datetime\"])\n",
    "df.shape"
   ]
  },
  {
   "cell_type": "code",
   "execution_count": 76,
   "metadata": {},
   "outputs": [],
   "source": [
    "#df = pd.read_csv(\"data/faturamento_consolidade_sem_feriado.csv\", parse_dates=[\"datetime\"])\n",
    "#print(\"Exibindo df..\")\n",
    "#print(df.head())\n",
    "#dummies_df = pd.get_dummies(df, columns=[\"feature_05\", \"feature_01\", \"feature_02\", \"feature_11\", \"feature_12\"])\n",
    "dummies_df = pd.get_dummies(df, columns=[\"feature_05\"])\n",
    "\n",
    "train_df = dummies_df[~dummies_df[\"datetime\"].isin([date(2017,10,1), date(2017,11,1), date(2017,12,1)])]\n",
    "test_df =  dummies_df[dummies_df[\"datetime\"].isin([date(2017,10,1), date(2017,11,1), date(2017,12,1)])]\n",
    "\n",
    "str_cols = []\n",
    "str_cols.append(\"datetime\")\n",
    "str_cols.append(\"receita\")\n",
    "\n",
    "str_cols.append(\"feature_01\")\n",
    "str_cols.append(\"feature_02\")\n",
    "str_cols.append(\"feature_11\")\n",
    "str_cols.append(\"feature_12\")\n",
    "str_cols.append(\"receita_trim1\")\n",
    "str_cols.append(\"receita_trim2\")\n",
    "str_cols.append(\"receita_trim3\")\n",
    "str_cols.append('receita_ano_passado')\n",
    "#str_cols.append('cod_loja')\n",
    "#str_cols.append('categoria_loja')\n",
    "#str_cols.append('receita_media')\n",
    "\n",
    "X_train = train_df.drop(str_cols, axis=1, errors=\"ignore\")\n",
    "y_train = train_df[\"receita\"]\n",
    "\n",
    "X_test = test_df.drop(str_cols, axis=1, errors=\"ignore\")\n",
    "y_test = test_df[\"receita\"]\n"
   ]
  },
  {
   "cell_type": "code",
   "execution_count": 77,
   "metadata": {},
   "outputs": [
    {
     "data": {
      "text/plain": [
       "<catboost.core.CatBoostRegressor at 0x7fe8a855c350>"
      ]
     },
     "execution_count": 77,
     "metadata": {},
     "output_type": "execute_result"
    }
   ],
   "source": [
    "model = CatBoostRegressor()\n",
    "\n",
    "model.load_model(\"modelo_catboost_otimizado\")"
   ]
  },
  {
   "cell_type": "code",
   "execution_count": 71,
   "metadata": {},
   "outputs": [
    {
     "name": "stdout",
     "output_type": "stream",
     "text": [
      "<class 'pandas.core.frame.DataFrame'>\n",
      "Int64Index: 9331 entries, 19 to 73643\n",
      "Data columns (total 30 columns):\n",
      " #   Column                          Non-Null Count  Dtype  \n",
      "---  ------                          --------------  -----  \n",
      " 0   cod_ap                          9331 non-null   int64  \n",
      " 1   cod_municipio                   9331 non-null   int64  \n",
      " 2   feature_03                      9331 non-null   int64  \n",
      " 3   feature_04                      9331 non-null   float64\n",
      " 4   feature_06                      9331 non-null   int64  \n",
      " 5   feature_07                      9331 non-null   float64\n",
      " 6   feature_08                      9331 non-null   float64\n",
      " 7   feature_09                      9331 non-null   float64\n",
      " 8   feature_10                      9331 non-null   float64\n",
      " 9   feature_13                      9331 non-null   float64\n",
      " 10  feature_14                      9331 non-null   float64\n",
      " 11  feature_15                      9331 non-null   float64\n",
      " 12  feature_16                      9331 non-null   float64\n",
      " 13  feature_17                      9331 non-null   float64\n",
      " 14  feature_18                      9331 non-null   float64\n",
      " 15  quarter                         9331 non-null   int64  \n",
      " 16  ano                             9331 non-null   int64  \n",
      " 17  mes                             9331 non-null   int64  \n",
      " 18  categoria_loja                  9331 non-null   int64  \n",
      " 19  receita_media                   9331 non-null   float64\n",
      " 20  cnt_feriados                    9331 non-null   float64\n",
      " 21  receita_minha_categoria         9331 non-null   float64\n",
      " 22  feature_05_FEATURE_05_VALUE_01  9331 non-null   uint8  \n",
      " 23  feature_05_FEATURE_05_VALUE_02  9331 non-null   uint8  \n",
      " 24  feature_05_FEATURE_05_VALUE_03  9331 non-null   uint8  \n",
      " 25  feature_05_FEATURE_05_VALUE_04  9331 non-null   uint8  \n",
      " 26  feature_05_FEATURE_05_VALUE_05  9331 non-null   uint8  \n",
      " 27  feature_05_FEATURE_05_VALUE_06  9331 non-null   uint8  \n",
      " 28  feature_05_FEATURE_05_VALUE_07  9331 non-null   uint8  \n",
      " 29  feature_05_FEATURE_05_VALUE_08  9331 non-null   uint8  \n",
      "dtypes: float64(14), int64(8), uint8(8)\n",
      "memory usage: 1.7 MB\n"
     ]
    }
   ],
   "source": [
    "X_test.info()"
   ]
  },
  {
   "cell_type": "code",
   "execution_count": 78,
   "metadata": {},
   "outputs": [
    {
     "ename": "NameError",
     "evalue": "name 'plt' is not defined",
     "output_type": "error",
     "traceback": [
      "\u001b[0;31m---------------------------------------------------------------------------\u001b[0m",
      "\u001b[0;31mNameError\u001b[0m                                 Traceback (most recent call last)",
      "\u001b[0;32m<ipython-input-78-bc2186efe439>\u001b[0m in \u001b[0;36m<module>\u001b[0;34m\u001b[0m\n\u001b[1;32m     12\u001b[0m     \u001b[0my_pred\u001b[0m \u001b[0;34m=\u001b[0m \u001b[0mmodel\u001b[0m\u001b[0;34m.\u001b[0m\u001b[0mpredict\u001b[0m\u001b[0;34m(\u001b[0m\u001b[0mtest_df\u001b[0m\u001b[0;34m[\u001b[0m\u001b[0mtest_index\u001b[0m\u001b[0;34m]\u001b[0m\u001b[0;34m.\u001b[0m\u001b[0mdrop\u001b[0m\u001b[0;34m(\u001b[0m\u001b[0mcol_to_drop\u001b[0m\u001b[0;34m,\u001b[0m \u001b[0maxis\u001b[0m\u001b[0;34m=\u001b[0m\u001b[0;36m1\u001b[0m\u001b[0;34m,\u001b[0m \u001b[0merrors\u001b[0m\u001b[0;34m=\u001b[0m\u001b[0;34m\"ignore\"\u001b[0m\u001b[0;34m)\u001b[0m\u001b[0;34m)\u001b[0m\u001b[0;34m\u001b[0m\u001b[0;34m\u001b[0m\u001b[0m\n\u001b[1;32m     13\u001b[0m \u001b[0;34m\u001b[0m\u001b[0m\n\u001b[0;32m---> 14\u001b[0;31m     \u001b[0mplt\u001b[0m\u001b[0;34m.\u001b[0m\u001b[0mfigure\u001b[0m\u001b[0;34m(\u001b[0m\u001b[0mfigsize\u001b[0m\u001b[0;34m=\u001b[0m\u001b[0;34m(\u001b[0m\u001b[0;36m9\u001b[0m\u001b[0;34m,\u001b[0m \u001b[0;36m5\u001b[0m\u001b[0;34m)\u001b[0m\u001b[0;34m)\u001b[0m\u001b[0;34m\u001b[0m\u001b[0;34m\u001b[0m\u001b[0m\n\u001b[0m\u001b[1;32m     15\u001b[0m     \u001b[0mplt\u001b[0m\u001b[0;34m.\u001b[0m\u001b[0mplot\u001b[0m\u001b[0;34m(\u001b[0m\u001b[0m_train\u001b[0m\u001b[0;34m[\u001b[0m\u001b[0;34m\"datetime\"\u001b[0m\u001b[0;34m]\u001b[0m\u001b[0;34m,\u001b[0m \u001b[0m_train\u001b[0m\u001b[0;34m[\u001b[0m\u001b[0;34m\"receita\"\u001b[0m\u001b[0;34m]\u001b[0m\u001b[0;34m)\u001b[0m\u001b[0;34m\u001b[0m\u001b[0;34m\u001b[0m\u001b[0m\n\u001b[1;32m     16\u001b[0m     \u001b[0mplt\u001b[0m\u001b[0;34m.\u001b[0m\u001b[0mplot\u001b[0m\u001b[0;34m(\u001b[0m\u001b[0m_test\u001b[0m\u001b[0;34m[\u001b[0m\u001b[0;34m\"datetime\"\u001b[0m\u001b[0;34m]\u001b[0m\u001b[0;34m,\u001b[0m \u001b[0m_test\u001b[0m\u001b[0;34m[\u001b[0m\u001b[0;34m\"receita\"\u001b[0m\u001b[0;34m]\u001b[0m\u001b[0;34m,\u001b[0m \u001b[0mlabel\u001b[0m\u001b[0;34m=\u001b[0m\u001b[0;34m\"Real\"\u001b[0m\u001b[0;34m,\u001b[0m \u001b[0mmarker\u001b[0m\u001b[0;34m=\u001b[0m\u001b[0;34m\".\"\u001b[0m\u001b[0;34m)\u001b[0m\u001b[0;34m\u001b[0m\u001b[0;34m\u001b[0m\u001b[0m\n",
      "\u001b[0;31mNameError\u001b[0m: name 'plt' is not defined"
     ]
    }
   ],
   "source": [
    "##model.predict(X_test)\n",
    "for _ in range(20):\n",
    "    cod_loja = np.random.choice(X_train[\"cod_loja\"].unique())\n",
    "    train_index = (X_train[\"cod_loja\"] == cod_loja)\n",
    "    test_index = (X_test[\"cod_loja\"] == cod_loja)\n",
    "\n",
    "    _train = train_df[train_index].sort_values(\"datetime\")\n",
    "    _test = test_df[test_index].sort_values(\"datetime\")\n",
    "    \n",
    "    col_to_drop = str_cols\n",
    "    col_to_drop.append(\"cod_loja\")\n",
    "    y_pred = model.predict(test_df[test_index].drop(col_to_drop, axis=1, errors=\"ignore\"))\n",
    "\n",
    "    plt.figure(figsize=(9, 5))\n",
    "    plt.plot(_train[\"datetime\"], _train[\"receita\"])\n",
    "    plt.plot(_test[\"datetime\"], _test[\"receita\"], label=\"Real\", marker=\".\")\n",
    "    plt.plot(_test[\"datetime\"], y_pred, label=\"Predict\", marker=\"x\")\n",
    "    plt.legend()\n",
    "    plt.plot()\n",
    "    plt.show()"
   ]
  }
 ],
 "metadata": {
  "kernelspec": {
   "display_name": "Python 3",
   "language": "python",
   "name": "python3"
  },
  "language_info": {
   "codemirror_mode": {
    "name": "ipython",
    "version": 3
   },
   "file_extension": ".py",
   "mimetype": "text/x-python",
   "name": "python",
   "nbconvert_exporter": "python",
   "pygments_lexer": "ipython3",
   "version": "3.7.6"
  }
 },
 "nbformat": 4,
 "nbformat_minor": 4
}
