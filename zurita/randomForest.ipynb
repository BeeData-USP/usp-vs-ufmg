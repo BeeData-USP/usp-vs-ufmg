{
 "cells": [
  {
   "cell_type": "code",
   "execution_count": 175,
   "metadata": {},
   "outputs": [],
   "source": [
    "import pandas as pd\n",
    "import numpy as np\n",
    "from datetime import date, timedelta\n",
    "from sklearn.ensemble import RandomForestRegressor\n",
    "from sklearn.metrics import mean_squared_error, r2_score"
   ]
  },
  {
   "cell_type": "code",
   "execution_count": 2,
   "metadata": {},
   "outputs": [],
   "source": [
    "faturamento_df = pd.read_csv(\"data/faturamento_lojas_atuais.csv\")\n",
    "lojas_df = pd.read_csv(\"data/lojas_atuais.csv\")"
   ]
  },
  {
   "cell_type": "markdown",
   "metadata": {},
   "source": [
    "### Tratamento dos dados"
   ]
  },
  {
   "cell_type": "code",
   "execution_count": 147,
   "metadata": {},
   "outputs": [],
   "source": [
    "faturamento_df[\"datetime\"] = pd.to_datetime(faturamento_df.ano*100 + faturamento_df.mes, format='%Y%m')\n",
    "fat_df = faturamento_df.groupby([\"cod_loja\", \"datetime\"] , as_index=False).sum()\n",
    "fat_df.drop([\"ano\", \"mes\", \"qtde\"], axis=1, inplace=True)\n",
    "\n",
    "df = fat_df.merge(lojas_df, left_on=\"cod_loja\", right_on=\"cod_loja\")\n",
    "df[\"quarter\"] = df[\"datetime\"].dt.quarter\n",
    "df[\"ano\"] = df[\"datetime\"].dt.year\n",
    "df[\"mes\"] = df[\"datetime\"].dt.month\n",
    "df[\"feature_03\"] = df[\"feature_03\"].apply(lambda x: 1 if x else 0)"
   ]
  },
  {
   "cell_type": "code",
   "execution_count": 148,
   "metadata": {},
   "outputs": [
    {
     "name": "stdout",
     "output_type": "stream",
     "text": [
      "<class 'pandas.core.frame.DataFrame'>\n",
      "Int64Index: 73644 entries, 0 to 73643\n",
      "Data columns (total 26 columns):\n",
      " #   Column         Non-Null Count  Dtype         \n",
      "---  ------         --------------  -----         \n",
      " 0   cod_loja       73644 non-null  int64         \n",
      " 1   datetime       73644 non-null  datetime64[ns]\n",
      " 2   receita        73644 non-null  float64       \n",
      " 3   cod_ap         73644 non-null  int64         \n",
      " 4   cod_municipio  73644 non-null  int64         \n",
      " 5   feature_01     26972 non-null  object        \n",
      " 6   feature_02     73644 non-null  object        \n",
      " 7   feature_03     73644 non-null  int64         \n",
      " 8   feature_04     73644 non-null  float64       \n",
      " 9   feature_05     73644 non-null  object        \n",
      " 10  feature_06     73644 non-null  int64         \n",
      " 11  feature_07     73644 non-null  float64       \n",
      " 12  feature_08     73644 non-null  float64       \n",
      " 13  feature_09     73644 non-null  float64       \n",
      " 14  feature_10     73644 non-null  float64       \n",
      " 15  feature_11     5849 non-null   object        \n",
      " 16  feature_12     5849 non-null   object        \n",
      " 17  feature_13     20949 non-null  float64       \n",
      " 18  feature_14     20949 non-null  float64       \n",
      " 19  feature_15     20949 non-null  float64       \n",
      " 20  feature_16     20949 non-null  float64       \n",
      " 21  feature_17     20949 non-null  float64       \n",
      " 22  feature_18     20949 non-null  float64       \n",
      " 23  quarter        73644 non-null  int64         \n",
      " 24  ano            73644 non-null  int64         \n",
      " 25  mes            73644 non-null  int64         \n",
      "dtypes: datetime64[ns](1), float64(12), int64(8), object(5)\n",
      "memory usage: 15.2+ MB\n"
     ]
    }
   ],
   "source": [
    "df.info()"
   ]
  },
  {
   "cell_type": "code",
   "execution_count": 149,
   "metadata": {},
   "outputs": [
    {
     "data": {
      "text/plain": [
       "['feature_01',\n",
       " 'feature_11',\n",
       " 'feature_12',\n",
       " 'feature_13',\n",
       " 'feature_14',\n",
       " 'feature_15',\n",
       " 'feature_16',\n",
       " 'feature_17',\n",
       " 'feature_18']"
      ]
     },
     "execution_count": 149,
     "metadata": {},
     "output_type": "execute_result"
    }
   ],
   "source": [
    "has_na_cols = list()\n",
    "for col in df.columns:\n",
    "    if df[col].isnull().values.any():\n",
    "        has_na_cols.append(col)\n",
    "has_na_cols"
   ]
  },
  {
   "cell_type": "code",
   "execution_count": 150,
   "metadata": {},
   "outputs": [
    {
     "name": "stdout",
     "output_type": "stream",
     "text": [
      "FEATURE_01_VALUE_10\n",
      "FEATURE_11_VALUE_02\n",
      "FEATURE_12_VALUE_01\n"
     ]
    }
   ],
   "source": [
    "for na_col in has_na_cols:\n",
    "    if df[na_col].dtype == object:\n",
    "        print(df[na_col].mode()[0])\n",
    "        df[na_col].fillna(df[na_col].mode()[0], inplace=True)\n",
    "    else:\n",
    "        df[na_col].fillna(df[na_col].median(), inplace=True)"
   ]
  },
  {
   "cell_type": "code",
   "execution_count": 151,
   "metadata": {},
   "outputs": [
    {
     "name": "stdout",
     "output_type": "stream",
     "text": [
      "<class 'pandas.core.frame.DataFrame'>\n",
      "Int64Index: 73644 entries, 0 to 73643\n",
      "Data columns (total 26 columns):\n",
      " #   Column         Non-Null Count  Dtype         \n",
      "---  ------         --------------  -----         \n",
      " 0   cod_loja       73644 non-null  int64         \n",
      " 1   datetime       73644 non-null  datetime64[ns]\n",
      " 2   receita        73644 non-null  float64       \n",
      " 3   cod_ap         73644 non-null  int64         \n",
      " 4   cod_municipio  73644 non-null  int64         \n",
      " 5   feature_01     73644 non-null  object        \n",
      " 6   feature_02     73644 non-null  object        \n",
      " 7   feature_03     73644 non-null  int64         \n",
      " 8   feature_04     73644 non-null  float64       \n",
      " 9   feature_05     73644 non-null  object        \n",
      " 10  feature_06     73644 non-null  int64         \n",
      " 11  feature_07     73644 non-null  float64       \n",
      " 12  feature_08     73644 non-null  float64       \n",
      " 13  feature_09     73644 non-null  float64       \n",
      " 14  feature_10     73644 non-null  float64       \n",
      " 15  feature_11     73644 non-null  object        \n",
      " 16  feature_12     73644 non-null  object        \n",
      " 17  feature_13     73644 non-null  float64       \n",
      " 18  feature_14     73644 non-null  float64       \n",
      " 19  feature_15     73644 non-null  float64       \n",
      " 20  feature_16     73644 non-null  float64       \n",
      " 21  feature_17     73644 non-null  float64       \n",
      " 22  feature_18     73644 non-null  float64       \n",
      " 23  quarter        73644 non-null  int64         \n",
      " 24  ano            73644 non-null  int64         \n",
      " 25  mes            73644 non-null  int64         \n",
      "dtypes: datetime64[ns](1), float64(12), int64(8), object(5)\n",
      "memory usage: 15.2+ MB\n"
     ]
    }
   ],
   "source": [
    "df.info()"
   ]
  },
  {
   "cell_type": "markdown",
   "metadata": {},
   "source": [
    "## Adicionar a receita do ultimo trimestre"
   ]
  },
  {
   "cell_type": "code",
   "execution_count": 153,
   "metadata": {},
   "outputs": [
    {
     "data": {
      "text/html": [
       "<div>\n",
       "<style scoped>\n",
       "    .dataframe tbody tr th:only-of-type {\n",
       "        vertical-align: middle;\n",
       "    }\n",
       "\n",
       "    .dataframe tbody tr th {\n",
       "        vertical-align: top;\n",
       "    }\n",
       "\n",
       "    .dataframe thead th {\n",
       "        text-align: right;\n",
       "    }\n",
       "</style>\n",
       "<table border=\"1\" class=\"dataframe\">\n",
       "  <thead>\n",
       "    <tr style=\"text-align: right;\">\n",
       "      <th></th>\n",
       "      <th>cod_loja</th>\n",
       "      <th>datetime</th>\n",
       "      <th>receita</th>\n",
       "      <th>cod_ap</th>\n",
       "      <th>cod_municipio</th>\n",
       "      <th>feature_01</th>\n",
       "      <th>feature_02</th>\n",
       "      <th>feature_03</th>\n",
       "      <th>feature_04</th>\n",
       "      <th>feature_05</th>\n",
       "      <th>...</th>\n",
       "      <th>feature_12</th>\n",
       "      <th>feature_13</th>\n",
       "      <th>feature_14</th>\n",
       "      <th>feature_15</th>\n",
       "      <th>feature_16</th>\n",
       "      <th>feature_17</th>\n",
       "      <th>feature_18</th>\n",
       "      <th>quarter</th>\n",
       "      <th>ano</th>\n",
       "      <th>mes</th>\n",
       "    </tr>\n",
       "  </thead>\n",
       "  <tbody>\n",
       "    <tr>\n",
       "      <th>0</th>\n",
       "      <td>1</td>\n",
       "      <td>2016-01-01</td>\n",
       "      <td>441833.37</td>\n",
       "      <td>4125506005002</td>\n",
       "      <td>4125506</td>\n",
       "      <td>FEATURE_01_VALUE_10</td>\n",
       "      <td>FEATURE_02_VALUE_04</td>\n",
       "      <td>1</td>\n",
       "      <td>21.76</td>\n",
       "      <td>FEATURE_05_VALUE_04</td>\n",
       "      <td>...</td>\n",
       "      <td>FEATURE_12_VALUE_01</td>\n",
       "      <td>100.0</td>\n",
       "      <td>86.9</td>\n",
       "      <td>100.0</td>\n",
       "      <td>100.0</td>\n",
       "      <td>91.1</td>\n",
       "      <td>90.5</td>\n",
       "      <td>1</td>\n",
       "      <td>2016</td>\n",
       "      <td>1</td>\n",
       "    </tr>\n",
       "    <tr>\n",
       "      <th>1</th>\n",
       "      <td>1</td>\n",
       "      <td>2016-02-01</td>\n",
       "      <td>395340.22</td>\n",
       "      <td>4125506005002</td>\n",
       "      <td>4125506</td>\n",
       "      <td>FEATURE_01_VALUE_10</td>\n",
       "      <td>FEATURE_02_VALUE_04</td>\n",
       "      <td>1</td>\n",
       "      <td>21.76</td>\n",
       "      <td>FEATURE_05_VALUE_04</td>\n",
       "      <td>...</td>\n",
       "      <td>FEATURE_12_VALUE_01</td>\n",
       "      <td>100.0</td>\n",
       "      <td>86.9</td>\n",
       "      <td>100.0</td>\n",
       "      <td>100.0</td>\n",
       "      <td>91.1</td>\n",
       "      <td>90.5</td>\n",
       "      <td>1</td>\n",
       "      <td>2016</td>\n",
       "      <td>2</td>\n",
       "    </tr>\n",
       "    <tr>\n",
       "      <th>2</th>\n",
       "      <td>1</td>\n",
       "      <td>2016-03-01</td>\n",
       "      <td>587810.18</td>\n",
       "      <td>4125506005002</td>\n",
       "      <td>4125506</td>\n",
       "      <td>FEATURE_01_VALUE_10</td>\n",
       "      <td>FEATURE_02_VALUE_04</td>\n",
       "      <td>1</td>\n",
       "      <td>21.76</td>\n",
       "      <td>FEATURE_05_VALUE_04</td>\n",
       "      <td>...</td>\n",
       "      <td>FEATURE_12_VALUE_01</td>\n",
       "      <td>100.0</td>\n",
       "      <td>86.9</td>\n",
       "      <td>100.0</td>\n",
       "      <td>100.0</td>\n",
       "      <td>91.1</td>\n",
       "      <td>90.5</td>\n",
       "      <td>1</td>\n",
       "      <td>2016</td>\n",
       "      <td>3</td>\n",
       "    </tr>\n",
       "    <tr>\n",
       "      <th>3</th>\n",
       "      <td>1</td>\n",
       "      <td>2016-04-01</td>\n",
       "      <td>534618.84</td>\n",
       "      <td>4125506005002</td>\n",
       "      <td>4125506</td>\n",
       "      <td>FEATURE_01_VALUE_10</td>\n",
       "      <td>FEATURE_02_VALUE_04</td>\n",
       "      <td>1</td>\n",
       "      <td>21.76</td>\n",
       "      <td>FEATURE_05_VALUE_04</td>\n",
       "      <td>...</td>\n",
       "      <td>FEATURE_12_VALUE_01</td>\n",
       "      <td>100.0</td>\n",
       "      <td>86.9</td>\n",
       "      <td>100.0</td>\n",
       "      <td>100.0</td>\n",
       "      <td>91.1</td>\n",
       "      <td>90.5</td>\n",
       "      <td>2</td>\n",
       "      <td>2016</td>\n",
       "      <td>4</td>\n",
       "    </tr>\n",
       "    <tr>\n",
       "      <th>4</th>\n",
       "      <td>1</td>\n",
       "      <td>2016-05-01</td>\n",
       "      <td>595477.92</td>\n",
       "      <td>4125506005002</td>\n",
       "      <td>4125506</td>\n",
       "      <td>FEATURE_01_VALUE_10</td>\n",
       "      <td>FEATURE_02_VALUE_04</td>\n",
       "      <td>1</td>\n",
       "      <td>21.76</td>\n",
       "      <td>FEATURE_05_VALUE_04</td>\n",
       "      <td>...</td>\n",
       "      <td>FEATURE_12_VALUE_01</td>\n",
       "      <td>100.0</td>\n",
       "      <td>86.9</td>\n",
       "      <td>100.0</td>\n",
       "      <td>100.0</td>\n",
       "      <td>91.1</td>\n",
       "      <td>90.5</td>\n",
       "      <td>2</td>\n",
       "      <td>2016</td>\n",
       "      <td>5</td>\n",
       "    </tr>\n",
       "  </tbody>\n",
       "</table>\n",
       "<p>5 rows × 26 columns</p>\n",
       "</div>"
      ],
      "text/plain": [
       "   cod_loja   datetime    receita         cod_ap  cod_municipio  \\\n",
       "0         1 2016-01-01  441833.37  4125506005002        4125506   \n",
       "1         1 2016-02-01  395340.22  4125506005002        4125506   \n",
       "2         1 2016-03-01  587810.18  4125506005002        4125506   \n",
       "3         1 2016-04-01  534618.84  4125506005002        4125506   \n",
       "4         1 2016-05-01  595477.92  4125506005002        4125506   \n",
       "\n",
       "            feature_01           feature_02  feature_03  feature_04  \\\n",
       "0  FEATURE_01_VALUE_10  FEATURE_02_VALUE_04           1       21.76   \n",
       "1  FEATURE_01_VALUE_10  FEATURE_02_VALUE_04           1       21.76   \n",
       "2  FEATURE_01_VALUE_10  FEATURE_02_VALUE_04           1       21.76   \n",
       "3  FEATURE_01_VALUE_10  FEATURE_02_VALUE_04           1       21.76   \n",
       "4  FEATURE_01_VALUE_10  FEATURE_02_VALUE_04           1       21.76   \n",
       "\n",
       "            feature_05  ...           feature_12  feature_13  feature_14  \\\n",
       "0  FEATURE_05_VALUE_04  ...  FEATURE_12_VALUE_01       100.0        86.9   \n",
       "1  FEATURE_05_VALUE_04  ...  FEATURE_12_VALUE_01       100.0        86.9   \n",
       "2  FEATURE_05_VALUE_04  ...  FEATURE_12_VALUE_01       100.0        86.9   \n",
       "3  FEATURE_05_VALUE_04  ...  FEATURE_12_VALUE_01       100.0        86.9   \n",
       "4  FEATURE_05_VALUE_04  ...  FEATURE_12_VALUE_01       100.0        86.9   \n",
       "\n",
       "   feature_15  feature_16 feature_17 feature_18  quarter   ano  mes  \n",
       "0       100.0       100.0       91.1       90.5        1  2016    1  \n",
       "1       100.0       100.0       91.1       90.5        1  2016    2  \n",
       "2       100.0       100.0       91.1       90.5        1  2016    3  \n",
       "3       100.0       100.0       91.1       90.5        2  2016    4  \n",
       "4       100.0       100.0       91.1       90.5        2  2016    5  \n",
       "\n",
       "[5 rows x 26 columns]"
      ]
     },
     "execution_count": 153,
     "metadata": {},
     "output_type": "execute_result"
    }
   ],
   "source": [
    "df.head()"
   ]
  },
  {
   "cell_type": "code",
   "execution_count": 154,
   "metadata": {
    "scrolled": false
   },
   "outputs": [
    {
     "data": {
      "text/html": [
       "<div>\n",
       "<style scoped>\n",
       "    .dataframe tbody tr th:only-of-type {\n",
       "        vertical-align: middle;\n",
       "    }\n",
       "\n",
       "    .dataframe tbody tr th {\n",
       "        vertical-align: top;\n",
       "    }\n",
       "\n",
       "    .dataframe thead th {\n",
       "        text-align: right;\n",
       "    }\n",
       "</style>\n",
       "<table border=\"1\" class=\"dataframe\">\n",
       "  <thead>\n",
       "    <tr style=\"text-align: right;\">\n",
       "      <th></th>\n",
       "      <th>receita_trim1</th>\n",
       "      <th>receita_trim2</th>\n",
       "      <th>receita_trim3</th>\n",
       "      <th>receita_media</th>\n",
       "    </tr>\n",
       "    <tr>\n",
       "      <th>index</th>\n",
       "      <th></th>\n",
       "      <th></th>\n",
       "      <th></th>\n",
       "      <th></th>\n",
       "    </tr>\n",
       "  </thead>\n",
       "  <tbody>\n",
       "    <tr>\n",
       "      <th>0</th>\n",
       "      <td>0.00</td>\n",
       "      <td>0.00</td>\n",
       "      <td>0.00</td>\n",
       "      <td>0.00</td>\n",
       "    </tr>\n",
       "    <tr>\n",
       "      <th>1</th>\n",
       "      <td>0.00</td>\n",
       "      <td>0.00</td>\n",
       "      <td>0.00</td>\n",
       "      <td>0.00</td>\n",
       "    </tr>\n",
       "    <tr>\n",
       "      <th>2</th>\n",
       "      <td>0.00</td>\n",
       "      <td>0.00</td>\n",
       "      <td>0.00</td>\n",
       "      <td>0.00</td>\n",
       "    </tr>\n",
       "    <tr>\n",
       "      <th>3</th>\n",
       "      <td>441833.37</td>\n",
       "      <td>395340.22</td>\n",
       "      <td>587810.18</td>\n",
       "      <td>474994.59</td>\n",
       "    </tr>\n",
       "    <tr>\n",
       "      <th>4</th>\n",
       "      <td>441833.37</td>\n",
       "      <td>395340.22</td>\n",
       "      <td>587810.18</td>\n",
       "      <td>474994.59</td>\n",
       "    </tr>\n",
       "  </tbody>\n",
       "</table>\n",
       "</div>"
      ],
      "text/plain": [
       "       receita_trim1  receita_trim2  receita_trim3  receita_media\n",
       "index                                                            \n",
       "0               0.00           0.00           0.00           0.00\n",
       "1               0.00           0.00           0.00           0.00\n",
       "2               0.00           0.00           0.00           0.00\n",
       "3          441833.37      395340.22      587810.18      474994.59\n",
       "4          441833.37      395340.22      587810.18      474994.59"
      ]
     },
     "execution_count": 154,
     "metadata": {},
     "output_type": "execute_result"
    }
   ],
   "source": [
    "##loja_1_df = df[df[\"cod_loja\"] == np.random.choice(df[\"cod_loja\"].unique())]\n",
    "##t = loja_1_df.sort_values([\"cod_loja\", \"datetime\"]).reset_index().head(30)\n",
    "#print(t.head(30))\n",
    "\n",
    "receita_ultimo_trimestre = []\n",
    "\n",
    "for index, row in df.iterrows():\n",
    "    if row[\"ano\"] == 2016 and row[\"quarter\"] == 1:\n",
    "        receita_ultimo_trimestre.append([index, 0,0,0,0])\n",
    "    # Há semestre anterior\n",
    "    else:\n",
    "        #ultimo trimestre do ano passado\n",
    "        quarter = row[\"quarter\"] - 1\n",
    "        ano = row[\"ano\"]\n",
    "        \n",
    "        if quarter == 0:\n",
    "            ano = row[\"ano\"]-1\n",
    "            quarter = 4\n",
    "            \n",
    "        last_quarter_df = df[(df[\"cod_loja\"] == row[\"cod_loja\"]) & (df[\"quarter\"] == quarter) & (df[\"ano\"] == ano)] \\\n",
    "                          .sort_values(\"datetime\")[[\"datetime\", \"receita\"]]\n",
    "        receita = last_quarter_df[\"receita\"].values\n",
    "        if len(receita) == 3:\n",
    "            receita_ultimo_trimestre.append([index, receita[0], receita[1], receita[2], np.mean(receita)])\n",
    "        else:\n",
    "            ## rever\n",
    "            receita_ultimo_trimestre.append([index, 0, 0, 0, 0])\n",
    "            \n",
    "    \n",
    "receita_ultimo_trimestre_df = pd.DataFrame(receita_ultimo_trimestre, columns=[\"index\", \"receita_trim1\", \"receita_trim2\", \"receita_trim3\", \"receita_media\"]).set_index(\"index\")\n",
    "receita_ultimo_trimestre_df.head()\n",
    "df = df.merge(receita_ultimo_trimestre_df, left_index=True, right_index=True)"
   ]
  },
  {
   "cell_type": "code",
   "execution_count": 181,
   "metadata": {},
   "outputs": [
    {
     "data": {
      "text/html": [
       "<div>\n",
       "<style scoped>\n",
       "    .dataframe tbody tr th:only-of-type {\n",
       "        vertical-align: middle;\n",
       "    }\n",
       "\n",
       "    .dataframe tbody tr th {\n",
       "        vertical-align: top;\n",
       "    }\n",
       "\n",
       "    .dataframe thead th {\n",
       "        text-align: right;\n",
       "    }\n",
       "</style>\n",
       "<table border=\"1\" class=\"dataframe\">\n",
       "  <thead>\n",
       "    <tr style=\"text-align: right;\">\n",
       "      <th></th>\n",
       "      <th>receita_ano_passado</th>\n",
       "    </tr>\n",
       "    <tr>\n",
       "      <th>index</th>\n",
       "      <th></th>\n",
       "    </tr>\n",
       "  </thead>\n",
       "  <tbody>\n",
       "    <tr>\n",
       "      <th>0</th>\n",
       "      <td>0.0</td>\n",
       "    </tr>\n",
       "    <tr>\n",
       "      <th>1</th>\n",
       "      <td>0.0</td>\n",
       "    </tr>\n",
       "    <tr>\n",
       "      <th>2</th>\n",
       "      <td>0.0</td>\n",
       "    </tr>\n",
       "    <tr>\n",
       "      <th>3</th>\n",
       "      <td>0.0</td>\n",
       "    </tr>\n",
       "    <tr>\n",
       "      <th>4</th>\n",
       "      <td>0.0</td>\n",
       "    </tr>\n",
       "  </tbody>\n",
       "</table>\n",
       "</div>"
      ],
      "text/plain": [
       "       receita_ano_passado\n",
       "index                     \n",
       "0                      0.0\n",
       "1                      0.0\n",
       "2                      0.0\n",
       "3                      0.0\n",
       "4                      0.0"
      ]
     },
     "execution_count": 181,
     "metadata": {},
     "output_type": "execute_result"
    }
   ],
   "source": [
    "## receita no mesmo mês do ana passado\n",
    "receita_ano_passado = []\n",
    "\n",
    "for index, row in df.iterrows():\n",
    "    year_ago = row[\"datetime\"].replace(year=row[\"ano\"]-1)\n",
    "    \n",
    "    year_agora_df = df[(df[\"cod_loja\"] == row[\"cod_loja\"]) & (df[\"datetime\"] == year_ago)]\n",
    "    \n",
    "    if year_agora_df.shape[0] == 1:\n",
    "        receita_ano_passado.append([index, year_agora_df[\"receita\"].values[0]])\n",
    "    else:\n",
    "        receita_ano_passado.append([index, 0])\n",
    "        \n",
    "receita_ultimo_ano_df = pd.DataFrame(receita_ano_passado, columns=[\"index\", \"receita_ano_passado\"]).set_index(\"index\")\n",
    "receita_ultimo_ano_df.head()\n",
    "df = df.merge(receita_ultimo_ano_df, left_index=True, right_index=True)"
   ]
  },
  {
   "cell_type": "code",
   "execution_count": 225,
   "metadata": {},
   "outputs": [
    {
     "data": {
      "text/plain": [
       "['feature_01', 'feature_02', 'feature_05', 'feature_11', 'feature_12']"
      ]
     },
     "execution_count": 225,
     "metadata": {},
     "output_type": "execute_result"
    }
   ],
   "source": [
    "str_cols = list()\n",
    "for col in df.columns.values.tolist():\n",
    "    if df[col].dtype == object:\n",
    "        str_cols.append(col)\n",
    "        \n",
    "str_cols\n",
    "##df = pd.get_dummies(df, columns=str_cols)\n",
    "##df.info()"
   ]
  },
  {
   "cell_type": "code",
   "execution_count": 235,
   "metadata": {},
   "outputs": [],
   "source": [
    "train_df = df[~df[\"datetime\"].isin([date(2017,10,1), date(2017,11,1), date(2017,12,1)])]\n",
    "test_df = df[df[\"datetime\"].isin([date(2017,10,1), date(2017,11,1), date(2017,12,1)])]"
   ]
  },
  {
   "cell_type": "code",
   "execution_count": 236,
   "metadata": {},
   "outputs": [],
   "source": [
    "str_cols = list()\n",
    "for col in df.columns.values.tolist():\n",
    "    if df[col].dtype == object:\n",
    "        str_cols.append(col)\n",
    "        \n",
    "str_cols.append(\"datetime\")\n",
    "str_cols.append(\"receita\")\n",
    "str_cols.append(\"receita_trim1\")\n",
    "str_cols.append(\"receita_trim2\")\n",
    "str_cols.append(\"receita_trim3\")\n",
    "\n",
    "X_train = train_df.drop(str_cols, axis=1, errors=\"ignore\")\n",
    "y_train = train_df[\"receita\"]\n",
    "\n",
    "X_test = test_df.drop(str_cols, axis=1, errors=\"ignore\")\n",
    "y_test = test_df[\"receita\"]"
   ]
  },
  {
   "cell_type": "code",
   "execution_count": 237,
   "metadata": {},
   "outputs": [
    {
     "data": {
      "text/plain": [
       "Index(['cod_loja', 'cod_ap', 'cod_municipio', 'feature_03', 'feature_04',\n",
       "       'feature_06', 'feature_07', 'feature_08', 'feature_09', 'feature_10',\n",
       "       'feature_13', 'feature_14', 'feature_15', 'feature_16', 'feature_17',\n",
       "       'feature_18', 'quarter', 'ano', 'mes', 'receita_media',\n",
       "       'receita_ano_passado'],\n",
       "      dtype='object')"
      ]
     },
     "execution_count": 237,
     "metadata": {},
     "output_type": "execute_result"
    }
   ],
   "source": [
    "X_test.columns"
   ]
  },
  {
   "cell_type": "code",
   "execution_count": 238,
   "metadata": {},
   "outputs": [
    {
     "data": {
      "text/plain": [
       "Index(['cod_loja', 'cod_ap', 'cod_municipio', 'feature_03', 'feature_04',\n",
       "       'feature_06', 'feature_07', 'feature_08', 'feature_09', 'feature_10',\n",
       "       'feature_13', 'feature_14', 'feature_15', 'feature_16', 'feature_17',\n",
       "       'feature_18', 'quarter', 'ano', 'mes', 'receita_media',\n",
       "       'receita_ano_passado'],\n",
       "      dtype='object')"
      ]
     },
     "execution_count": 238,
     "metadata": {},
     "output_type": "execute_result"
    }
   ],
   "source": [
    "X_train.columns"
   ]
  },
  {
   "cell_type": "markdown",
   "metadata": {},
   "source": [
    "### Treinar o modelo"
   ]
  },
  {
   "cell_type": "code",
   "execution_count": 239,
   "metadata": {},
   "outputs": [
    {
     "data": {
      "text/plain": [
       "RandomForestRegressor(bootstrap=True, ccp_alpha=0.0, criterion='mse',\n",
       "                      max_depth=None, max_features='auto', max_leaf_nodes=None,\n",
       "                      max_samples=None, min_impurity_decrease=0.0,\n",
       "                      min_impurity_split=None, min_samples_leaf=1,\n",
       "                      min_samples_split=2, min_weight_fraction_leaf=0.0,\n",
       "                      n_estimators=500, n_jobs=None, oob_score=False,\n",
       "                      random_state=None, verbose=0, warm_start=False)"
      ]
     },
     "execution_count": 239,
     "metadata": {},
     "output_type": "execute_result"
    }
   ],
   "source": [
    "rf = RandomForestRegressor(n_estimators=500)\n",
    "rf.fit(X_train, y_train)"
   ]
  },
  {
   "cell_type": "code",
   "execution_count": 240,
   "metadata": {},
   "outputs": [
    {
     "data": {
      "text/plain": [
       "31302.305566470157"
      ]
     },
     "execution_count": 240,
     "metadata": {},
     "output_type": "execute_result"
    }
   ],
   "source": [
    "y_pred = rf.predict(X_test)\n",
    "np.sqrt(mean_squared_error(y_test, y_pred))"
   ]
  }
 ],
 "metadata": {
  "kernelspec": {
   "display_name": "Python 3",
   "language": "python",
   "name": "python3"
  },
  "language_info": {
   "codemirror_mode": {
    "name": "ipython",
    "version": 3
   },
   "file_extension": ".py",
   "mimetype": "text/x-python",
   "name": "python",
   "nbconvert_exporter": "python",
   "pygments_lexer": "ipython3",
   "version": "3.7.6"
  }
 },
 "nbformat": 4,
 "nbformat_minor": 4
}
