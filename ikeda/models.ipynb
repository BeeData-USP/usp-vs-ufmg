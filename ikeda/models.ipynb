{
 "cells": [
  {
   "cell_type": "code",
   "execution_count": 27,
   "metadata": {},
   "outputs": [],
   "source": [
    "# basic imports\n",
    "import matplotlib.pyplot as plt\n",
    "import seaborn as sns\n",
    "import pandas as pd\n",
    "import numpy as np\n",
    "\n",
    "# sklearn\n",
    "# preprocessing, model selection and metrics\n",
    "from sklearn.preprocessing import LabelEncoder, OneHotEncoder\n",
    "from sklearn.model_selection import train_test_split, KFold, cross_val_score\n",
    "from sklearn.metrics import mean_squared_error, mean_absolute_error\n",
    "\n",
    "# models\n",
    "from sklearn.linear_model import Lasso, Ridge\n",
    "from sklearn.ensemble import RandomForestRegressor\n",
    "from sklearn.ensemble import AdaBoostRegressor\n",
    "\n",
    "# visualize importances\n",
    "import shap\n",
    "\n",
    "pd.set_option('max_columns', None)\n",
    "plt.style.use('ggplot')"
   ]
  },
  {
   "cell_type": "code",
   "execution_count": 28,
   "metadata": {},
   "outputs": [],
   "source": [
    "from datetime import date\n",
    "import gc"
   ]
  },
  {
   "cell_type": "code",
   "execution_count": 29,
   "metadata": {},
   "outputs": [],
   "source": [
    "my_data = '../ikeda/data/'\n",
    "fat_ljs_atual = pd.read_csv(my_data + 'faturamento_lojas_atuais.csv')\n",
    "cen_exp = pd.read_csv(my_data + 'cenarios_expansao.csv')\n",
    "ljs_atual = pd.read_csv(my_data + 'lojas_atuais.csv')"
   ]
  },
  {
   "cell_type": "code",
   "execution_count": 30,
   "metadata": {},
   "outputs": [
    {
     "data": {
      "text/plain": [
       "3130"
      ]
     },
     "execution_count": 30,
     "metadata": {},
     "output_type": "execute_result"
    }
   ],
   "source": [
    "ljs_atual.cod_loja.nunique()"
   ]
  },
  {
   "cell_type": "code",
   "execution_count": 31,
   "metadata": {},
   "outputs": [
    {
     "data": {
      "text/html": [
       "<div>\n",
       "<style scoped>\n",
       "    .dataframe tbody tr th:only-of-type {\n",
       "        vertical-align: middle;\n",
       "    }\n",
       "\n",
       "    .dataframe tbody tr th {\n",
       "        vertical-align: top;\n",
       "    }\n",
       "\n",
       "    .dataframe thead th {\n",
       "        text-align: right;\n",
       "    }\n",
       "</style>\n",
       "<table border=\"1\" class=\"dataframe\">\n",
       "  <thead>\n",
       "    <tr style=\"text-align: right;\">\n",
       "      <th></th>\n",
       "      <th>cod_loja</th>\n",
       "      <th>cod_ap</th>\n",
       "      <th>cod_municipio</th>\n",
       "      <th>feature_01</th>\n",
       "      <th>feature_02</th>\n",
       "      <th>feature_03</th>\n",
       "      <th>feature_04</th>\n",
       "      <th>feature_05</th>\n",
       "      <th>feature_06</th>\n",
       "      <th>feature_07</th>\n",
       "      <th>feature_08</th>\n",
       "      <th>feature_09</th>\n",
       "      <th>feature_10</th>\n",
       "      <th>feature_11</th>\n",
       "      <th>feature_12</th>\n",
       "      <th>feature_13</th>\n",
       "      <th>feature_14</th>\n",
       "      <th>feature_15</th>\n",
       "      <th>feature_16</th>\n",
       "      <th>feature_17</th>\n",
       "      <th>feature_18</th>\n",
       "    </tr>\n",
       "  </thead>\n",
       "  <tbody>\n",
       "    <tr>\n",
       "      <th>0</th>\n",
       "      <td>10</td>\n",
       "      <td>2933307005008</td>\n",
       "      <td>2933307</td>\n",
       "      <td>FEATURE_01_VALUE_08</td>\n",
       "      <td>FEATURE_02_VALUE_02</td>\n",
       "      <td>False</td>\n",
       "      <td>50.00</td>\n",
       "      <td>FEATURE_05_VALUE_03</td>\n",
       "      <td>6</td>\n",
       "      <td>0.134654</td>\n",
       "      <td>0.131481</td>\n",
       "      <td>116.194058</td>\n",
       "      <td>2.913498</td>\n",
       "      <td>FEATURE_11_VALUE_01</td>\n",
       "      <td>FEATURE_12_VALUE_01</td>\n",
       "      <td>100.0</td>\n",
       "      <td>93.4</td>\n",
       "      <td>100.0</td>\n",
       "      <td>100.0</td>\n",
       "      <td>71.7</td>\n",
       "      <td>88.8</td>\n",
       "    </tr>\n",
       "    <tr>\n",
       "      <th>1</th>\n",
       "      <td>13</td>\n",
       "      <td>2916401003002</td>\n",
       "      <td>2916401</td>\n",
       "      <td>FEATURE_01_VALUE_10</td>\n",
       "      <td>FEATURE_02_VALUE_04</td>\n",
       "      <td>False</td>\n",
       "      <td>41.00</td>\n",
       "      <td>FEATURE_05_VALUE_03</td>\n",
       "      <td>4</td>\n",
       "      <td>0.116662</td>\n",
       "      <td>0.114995</td>\n",
       "      <td>26.345742</td>\n",
       "      <td>1.312612</td>\n",
       "      <td>NaN</td>\n",
       "      <td>NaN</td>\n",
       "      <td>84.3</td>\n",
       "      <td>77.5</td>\n",
       "      <td>100.0</td>\n",
       "      <td>100.0</td>\n",
       "      <td>63.5</td>\n",
       "      <td>78.8</td>\n",
       "    </tr>\n",
       "    <tr>\n",
       "      <th>2</th>\n",
       "      <td>16</td>\n",
       "      <td>2928703003003</td>\n",
       "      <td>2928703</td>\n",
       "      <td>NaN</td>\n",
       "      <td>FEATURE_02_VALUE_04</td>\n",
       "      <td>False</td>\n",
       "      <td>42.12</td>\n",
       "      <td>FEATURE_05_VALUE_05</td>\n",
       "      <td>2</td>\n",
       "      <td>0.104162</td>\n",
       "      <td>0.087807</td>\n",
       "      <td>35.362788</td>\n",
       "      <td>1.969512</td>\n",
       "      <td>NaN</td>\n",
       "      <td>NaN</td>\n",
       "      <td>NaN</td>\n",
       "      <td>NaN</td>\n",
       "      <td>NaN</td>\n",
       "      <td>NaN</td>\n",
       "      <td>NaN</td>\n",
       "      <td>NaN</td>\n",
       "    </tr>\n",
       "    <tr>\n",
       "      <th>3</th>\n",
       "      <td>21</td>\n",
       "      <td>2906006003001</td>\n",
       "      <td>2906006</td>\n",
       "      <td>NaN</td>\n",
       "      <td>FEATURE_02_VALUE_04</td>\n",
       "      <td>False</td>\n",
       "      <td>30.00</td>\n",
       "      <td>FEATURE_05_VALUE_03</td>\n",
       "      <td>6</td>\n",
       "      <td>0.132954</td>\n",
       "      <td>0.131330</td>\n",
       "      <td>9.862757</td>\n",
       "      <td>1.383681</td>\n",
       "      <td>NaN</td>\n",
       "      <td>NaN</td>\n",
       "      <td>85.0</td>\n",
       "      <td>76.9</td>\n",
       "      <td>100.0</td>\n",
       "      <td>100.0</td>\n",
       "      <td>100.0</td>\n",
       "      <td>92.9</td>\n",
       "    </tr>\n",
       "    <tr>\n",
       "      <th>4</th>\n",
       "      <td>28</td>\n",
       "      <td>3550308005058</td>\n",
       "      <td>3550308</td>\n",
       "      <td>FEATURE_01_VALUE_10</td>\n",
       "      <td>FEATURE_02_VALUE_02</td>\n",
       "      <td>True</td>\n",
       "      <td>44.31</td>\n",
       "      <td>FEATURE_05_VALUE_03</td>\n",
       "      <td>8</td>\n",
       "      <td>0.190102</td>\n",
       "      <td>0.179140</td>\n",
       "      <td>5593.905463</td>\n",
       "      <td>2.815883</td>\n",
       "      <td>FEATURE_11_VALUE_02</td>\n",
       "      <td>FEATURE_12_VALUE_01</td>\n",
       "      <td>NaN</td>\n",
       "      <td>NaN</td>\n",
       "      <td>NaN</td>\n",
       "      <td>NaN</td>\n",
       "      <td>NaN</td>\n",
       "      <td>NaN</td>\n",
       "    </tr>\n",
       "  </tbody>\n",
       "</table>\n",
       "</div>"
      ],
      "text/plain": [
       "   cod_loja         cod_ap  cod_municipio           feature_01  \\\n",
       "0        10  2933307005008        2933307  FEATURE_01_VALUE_08   \n",
       "1        13  2916401003002        2916401  FEATURE_01_VALUE_10   \n",
       "2        16  2928703003003        2928703                  NaN   \n",
       "3        21  2906006003001        2906006                  NaN   \n",
       "4        28  3550308005058        3550308  FEATURE_01_VALUE_10   \n",
       "\n",
       "            feature_02  feature_03  feature_04           feature_05  \\\n",
       "0  FEATURE_02_VALUE_02       False       50.00  FEATURE_05_VALUE_03   \n",
       "1  FEATURE_02_VALUE_04       False       41.00  FEATURE_05_VALUE_03   \n",
       "2  FEATURE_02_VALUE_04       False       42.12  FEATURE_05_VALUE_05   \n",
       "3  FEATURE_02_VALUE_04       False       30.00  FEATURE_05_VALUE_03   \n",
       "4  FEATURE_02_VALUE_02        True       44.31  FEATURE_05_VALUE_03   \n",
       "\n",
       "   feature_06  feature_07  feature_08   feature_09  feature_10  \\\n",
       "0           6    0.134654    0.131481   116.194058    2.913498   \n",
       "1           4    0.116662    0.114995    26.345742    1.312612   \n",
       "2           2    0.104162    0.087807    35.362788    1.969512   \n",
       "3           6    0.132954    0.131330     9.862757    1.383681   \n",
       "4           8    0.190102    0.179140  5593.905463    2.815883   \n",
       "\n",
       "            feature_11           feature_12  feature_13  feature_14  \\\n",
       "0  FEATURE_11_VALUE_01  FEATURE_12_VALUE_01       100.0        93.4   \n",
       "1                  NaN                  NaN        84.3        77.5   \n",
       "2                  NaN                  NaN         NaN         NaN   \n",
       "3                  NaN                  NaN        85.0        76.9   \n",
       "4  FEATURE_11_VALUE_02  FEATURE_12_VALUE_01         NaN         NaN   \n",
       "\n",
       "   feature_15  feature_16  feature_17  feature_18  \n",
       "0       100.0       100.0        71.7        88.8  \n",
       "1       100.0       100.0        63.5        78.8  \n",
       "2         NaN         NaN         NaN         NaN  \n",
       "3       100.0       100.0       100.0        92.9  \n",
       "4         NaN         NaN         NaN         NaN  "
      ]
     },
     "execution_count": 31,
     "metadata": {},
     "output_type": "execute_result"
    }
   ],
   "source": [
    "cen_exp.head()"
   ]
  },
  {
   "cell_type": "code",
   "execution_count": 32,
   "metadata": {},
   "outputs": [],
   "source": [
    "df = fat_ljs_atual.merge(ljs_atual, on='cod_loja', how='inner')\n",
    "df[\"datetime\"] = pd.to_datetime(df.ano*100 + df.mes, format='%Y%m')\n",
    "df.drop([\"ano\", \"mes\"], axis=1, inplace=True)"
   ]
  },
  {
   "cell_type": "code",
   "execution_count": 33,
   "metadata": {},
   "outputs": [
    {
     "data": {
      "text/plain": [
       "{'categoria', 'cod_loja', 'datetime', 'qtde', 'receita'}"
      ]
     },
     "execution_count": 33,
     "metadata": {},
     "output_type": "execute_result"
    }
   ],
   "source": [
    "s = set(fat_ljs_atual.columns) - set(['ano', 'mes'])\n",
    "s.add('datetime')\n",
    "s"
   ]
  },
  {
   "cell_type": "code",
   "execution_count": 34,
   "metadata": {},
   "outputs": [],
   "source": [
    "fat_mes_df = df[list(s)].groupby([\"cod_loja\", \"datetime\"] , as_index=False).sum()"
   ]
  },
  {
   "cell_type": "code",
   "execution_count": 35,
   "metadata": {},
   "outputs": [],
   "source": [
    "df_fat_mes = fat_mes_df.merge(ljs_atual, on=\"cod_loja\", how='inner')"
   ]
  },
  {
   "cell_type": "code",
   "execution_count": 36,
   "metadata": {},
   "outputs": [],
   "source": [
    "lojas_sem_24_meses = []\n",
    "for i in df_fat_mes[\"cod_loja\"].unique():\n",
    "    if df_fat_mes[df_fat_mes[\"cod_loja\"] == i].shape[0] != 24:\n",
    "        lojas_sem_24_meses.append(i)\n",
    "\n",
    "train_df = df_fat_mes[~df_fat_mes[\"cod_loja\"].isin(lojas_sem_24_meses).values]"
   ]
  },
  {
   "cell_type": "markdown",
   "metadata": {},
   "source": [
    "# Imputing"
   ]
  },
  {
   "cell_type": "code",
   "execution_count": 37,
   "metadata": {
    "jupyter": {
     "outputs_hidden": true,
     "source_hidden": true
    }
   },
   "outputs": [
    {
     "name": "stdout",
     "output_type": "stream",
     "text": [
      "## FEATURE 1 ##\n",
      "count                   25440\n",
      "unique                      3\n",
      "top       FEATURE_01_VALUE_10\n",
      "freq                    14808\n",
      "Name: feature_01, dtype: object\n",
      "## FEATURE 11 ##\n",
      "count                    5760\n",
      "unique                      7\n",
      "top       FEATURE_11_VALUE_02\n",
      "freq                     2304\n",
      "Name: feature_11, dtype: object\n",
      "## FEATURE 12 ##\n",
      "count                    5760\n",
      "unique                      2\n",
      "top       FEATURE_12_VALUE_01\n",
      "freq                     3600\n",
      "Name: feature_12, dtype: object\n",
      "## FEATURE 13 ##\n",
      "count    20736.000000\n",
      "mean        94.813310\n",
      "std          8.602639\n",
      "min         44.100000\n",
      "25%         92.200000\n",
      "50%        100.000000\n",
      "75%        100.000000\n",
      "max        100.000000\n",
      "Name: feature_13, dtype: float64\n",
      "## FEATURE 14 ##\n",
      "count    20736.000000\n",
      "mean        83.698727\n",
      "std         13.575930\n",
      "min          0.000000\n",
      "25%         79.675000\n",
      "50%         86.900000\n",
      "75%         91.900000\n",
      "max        100.000000\n",
      "Name: feature_14, dtype: float64\n",
      "## FEATURE 15 ##\n",
      "count    20736.000000\n",
      "mean        82.664931\n",
      "std         34.417464\n",
      "min          0.000000\n",
      "25%        100.000000\n",
      "50%        100.000000\n",
      "75%        100.000000\n",
      "max        100.000000\n",
      "Name: feature_15, dtype: float64\n",
      "## FEATURE 16 ##\n",
      "count    20736.000000\n",
      "mean        96.244213\n",
      "std         12.936005\n",
      "min         50.000000\n",
      "25%        100.000000\n",
      "50%        100.000000\n",
      "75%        100.000000\n",
      "max        100.000000\n",
      "Name: feature_16, dtype: float64\n",
      "## FEATURE 17 ##\n",
      "count    20736.000000\n",
      "mean        83.374074\n",
      "std         17.351895\n",
      "min         13.100000\n",
      "25%         71.975000\n",
      "50%         91.050000\n",
      "75%         97.600000\n",
      "max        100.000000\n",
      "Name: feature_17, dtype: float64\n",
      "## FEATURE 18 ##\n",
      "count    20736.000000\n",
      "mean        88.324537\n",
      "std          9.176220\n",
      "min         42.100000\n",
      "25%         83.500000\n",
      "50%         90.500000\n",
      "75%         95.600000\n",
      "max         99.900000\n",
      "Name: feature_18, dtype: float64\n"
     ]
    }
   ],
   "source": [
    "print('## FEATURE 1 ##')\n",
    "print(train_df.feature_01.describe())\n",
    "print('## FEATURE 11 ##')\n",
    "print(train_df.feature_11.describe())\n",
    "print('## FEATURE 12 ##')\n",
    "print(train_df.feature_12.describe())\n",
    "print('## FEATURE 13 ##')\n",
    "print(train_df.feature_13.describe())\n",
    "print('## FEATURE 14 ##')\n",
    "print(train_df.feature_14.describe())\n",
    "print('## FEATURE 15 ##')\n",
    "print(train_df.feature_15.describe())\n",
    "print('## FEATURE 16 ##')\n",
    "print(train_df.feature_16.describe())\n",
    "print('## FEATURE 17 ##')\n",
    "print(train_df.feature_17.describe())\n",
    "print('## FEATURE 18 ##')\n",
    "print(train_df.feature_18.describe())"
   ]
  },
  {
   "cell_type": "code",
   "execution_count": 38,
   "metadata": {},
   "outputs": [
    {
     "data": {
      "text/plain": [
       "['feature_01',\n",
       " 'feature_11',\n",
       " 'feature_12',\n",
       " 'feature_13',\n",
       " 'feature_14',\n",
       " 'feature_15',\n",
       " 'feature_16',\n",
       " 'feature_17',\n",
       " 'feature_18']"
      ]
     },
     "execution_count": 38,
     "metadata": {},
     "output_type": "execute_result"
    }
   ],
   "source": [
    "has_na_cols = list()\n",
    "for col in train_df.columns:\n",
    "    if train_df[col].isnull().values.any():\n",
    "        has_na_cols.append(col)\n",
    "has_na_cols"
   ]
  },
  {
   "cell_type": "code",
   "execution_count": 39,
   "metadata": {},
   "outputs": [
    {
     "name": "stdout",
     "output_type": "stream",
     "text": [
      "FEATURE_01_VALUE_10\n",
      "FEATURE_11_VALUE_02\n",
      "FEATURE_12_VALUE_01\n"
     ]
    },
    {
     "name": "stderr",
     "output_type": "stream",
     "text": [
      "\n",
      "A value is trying to be set on a copy of a slice from a DataFrame\n",
      "\n",
      "See the caveats in the documentation: https://pandas.pydata.org/pandas-docs/stable/user_guide/indexing.html#returning-a-view-versus-a-copy\n"
     ]
    }
   ],
   "source": [
    "for na_col in has_na_cols:\n",
    "    if train_df[na_col].dtype == object:\n",
    "        print(train_df[na_col].mode()[0])\n",
    "        train_df[na_col].fillna(train_df[na_col].mode()[0], inplace=True)\n",
    "    else:\n",
    "        train_df[na_col].fillna(train_df[na_col].median(), inplace=True)"
   ]
  },
  {
   "cell_type": "code",
   "execution_count": 40,
   "metadata": {},
   "outputs": [],
   "source": [
    "cols = train_df.columns"
   ]
  },
  {
   "cell_type": "code",
   "execution_count": 41,
   "metadata": {},
   "outputs": [],
   "source": [
    "model_df = train_df[cols]\n",
    "model_df[\"month\"] = model_df[\"datetime\"].dt.month\n",
    "model_df[\"quarter\"] = model_df[\"datetime\"].dt.quarter\n",
    "model_df[\"year\"] = model_df[\"datetime\"].dt.year"
   ]
  },
  {
   "cell_type": "markdown",
   "metadata": {},
   "source": [
    "## Adicionando coluna para proporção percentual na microrregião"
   ]
  },
  {
   "cell_type": "code",
   "execution_count": 42,
   "metadata": {},
   "outputs": [],
   "source": [
    "micro_df = pd.read_csv(my_data + \"dados_ppib_micro.csv\")\n",
    "model_df = model_df.merge(micro_df, how='left', left_on='cod_municipio', right_on='cod_mun')\n",
    "model_df.drop(columns=['cod_mun', 'nome_mun'], inplace=True)"
   ]
  },
  {
   "cell_type": "code",
   "execution_count": 43,
   "metadata": {},
   "outputs": [],
   "source": [
    "model_df['pct_micro'].fillna(model_df['pct_micro'].median(), inplace=True)"
   ]
  },
  {
   "cell_type": "markdown",
   "metadata": {},
   "source": [
    "## Adicionando proporção de jovens e jovens adultos"
   ]
  },
  {
   "cell_type": "code",
   "execution_count": 44,
   "metadata": {},
   "outputs": [],
   "source": [
    "pop_id_df = pd.read_csv(my_data + \"dados_popidade.csv\")"
   ]
  },
  {
   "cell_type": "code",
   "execution_count": 45,
   "metadata": {},
   "outputs": [],
   "source": [
    "jovem_df = pop_id_df[pop_id_df.Idade == '0 a 4 anos'][['cod_municipio','Total']].rename(columns={'Total':'t1'})\n",
    "k2_df = pop_id_df[pop_id_df.Idade == '5 a 9 anos'][['cod_municipio','Total']].rename(columns={'Total':'t2'})\n",
    "k3_df = pop_id_df[pop_id_df.Idade == '10 a 14 anos'][['cod_municipio','Total']].rename(columns={'Total':'t3'})\n",
    "k4_df = pop_id_df[pop_id_df.Idade == '15 a 17 anos'][['cod_municipio','Total']].rename(columns={'Total':'t4'})\n",
    "jovem_df = jovem_df.merge(k2_df, on='cod_municipio')\n",
    "jovem_df = jovem_df.merge(k3_df, on='cod_municipio')\n",
    "jovem_df = jovem_df.merge(k4_df, on='cod_municipio')\n",
    "jovem_df['jov_total'] = jovem_df.t1 + jovem_df.t2 + jovem_df.t3 + jovem_df.t4\n",
    "jovem_df.drop(columns=['t1','t2','t3','t4'], inplace=True)"
   ]
  },
  {
   "cell_type": "code",
   "execution_count": 46,
   "metadata": {},
   "outputs": [],
   "source": [
    "jv_ad_df = pop_id_df[pop_id_df.Idade == '18 ou 19 anos'][['cod_municipio','Total']].rename(columns={'Total':'t1'})\n",
    "k2_df = pop_id_df[pop_id_df.Idade == '20 a 24 anos'][['cod_municipio','Total']].rename(columns={'Total':'t2'})\n",
    "k3_df = pop_id_df[pop_id_df.Idade == '25 a 29 anos'][['cod_municipio','Total']].rename(columns={'Total':'t3'})\n",
    "jv_ad_df = jv_ad_df.merge(k2_df, on='cod_municipio')\n",
    "jv_ad_df = jv_ad_df.merge(k3_df, on='cod_municipio')\n",
    "jv_ad_df['jv_ad_total'] = jv_ad_df.t1 + jv_ad_df.t2 + jv_ad_df.t3\n",
    "jv_ad_df.drop(columns=['t1','t2','t3'], inplace=True)\n",
    "del(k2_df)\n",
    "del(k3_df)\n",
    "del(k4_df)"
   ]
  },
  {
   "cell_type": "code",
   "execution_count": 47,
   "metadata": {},
   "outputs": [],
   "source": [
    "model_df = model_df.merge(jovem_df, on='cod_municipio', how='left')\n",
    "model_df = model_df.merge(jv_ad_df, on='cod_municipio', how='left')\n",
    "pop_df = pd.read_csv(my_data + \"dados_pop.csv\")\n",
    "model_df = model_df.merge(pop_df, how='left', on='cod_municipio')\n",
    "model_df['prop_jov'] = model_df.jov_total / model_df.Total\n",
    "model_df['prop_jadulto'] = model_df.jv_ad_total / model_df.Total\n",
    "model_df.drop(columns=['jov_total', 'jv_ad_total', 'Total', 'Homens', 'Mulheres'], inplace=True)\n",
    "model_df['prop_jov'].fillna(model_df['prop_jov'].median(), inplace=True)\n",
    "model_df['prop_jadulto'].fillna(model_df['prop_jadulto'].median(), inplace=True)"
   ]
  },
  {
   "cell_type": "code",
   "execution_count": 48,
   "metadata": {},
   "outputs": [],
   "source": [
    "str_cols = list()\n",
    "for col in model_df.columns.values.tolist():\n",
    "    if model_df[col].dtype == object:\n",
    "        str_cols.append(col)"
   ]
  },
  {
   "cell_type": "code",
   "execution_count": 49,
   "metadata": {},
   "outputs": [],
   "source": [
    "str_cols.append('datetime') \n",
    "str_cols.append('receita')\n",
    "str_cols.append('qtde')"
   ]
  },
  {
   "cell_type": "code",
   "execution_count": 50,
   "metadata": {},
   "outputs": [
    {
     "data": {
      "text/plain": [
       "['feature_01',\n",
       " 'feature_02',\n",
       " 'feature_05',\n",
       " 'feature_11',\n",
       " 'feature_12',\n",
       " 'Município',\n",
       " 'Idade',\n",
       " 'Condição no domicílio e o compartilhamento da responsabilidade pelo domicílio',\n",
       " 'datetime',\n",
       " 'receita',\n",
       " 'qtde']"
      ]
     },
     "execution_count": 50,
     "metadata": {},
     "output_type": "execute_result"
    }
   ],
   "source": [
    "str_cols"
   ]
  },
  {
   "cell_type": "code",
   "execution_count": 51,
   "metadata": {},
   "outputs": [],
   "source": [
    "train = model_df[~model_df[\"datetime\"].isin([date(2017,10,1), date(2017,11,1), date(2017,12,1)])]\n",
    "test = model_df[model_df[\"datetime\"].isin([date(2017,10,1), date(2017,11,1), date(2017,12,1)])]\n",
    "\n",
    "X_train = train.drop(str_cols, axis=1)\n",
    "y_train = train[\"receita\"]\n",
    "\n",
    "X_test = test.drop(str_cols, axis=1)\n",
    "y_test = test[\"receita\"]"
   ]
  },
  {
   "cell_type": "code",
   "execution_count": 52,
   "metadata": {},
   "outputs": [
    {
     "data": {
      "text/plain": [
       "Index(['cod_loja', 'cod_ap', 'cod_municipio', 'feature_03', 'feature_04',\n",
       "       'feature_06', 'feature_07', 'feature_08', 'feature_09', 'feature_10',\n",
       "       'feature_13', 'feature_14', 'feature_15', 'feature_16', 'feature_17',\n",
       "       'feature_18', 'month', 'quarter', 'year', 'pct_micro', 'prop_jov',\n",
       "       'prop_jadulto'],\n",
       "      dtype='object')"
      ]
     },
     "execution_count": 52,
     "metadata": {},
     "output_type": "execute_result"
    }
   ],
   "source": [
    "X_train.columns"
   ]
  },
  {
   "cell_type": "markdown",
   "metadata": {},
   "source": [
    "# Train"
   ]
  },
  {
   "cell_type": "code",
   "execution_count": 53,
   "metadata": {},
   "outputs": [],
   "source": [
    "errors = list()"
   ]
  },
  {
   "cell_type": "code",
   "execution_count": 54,
   "metadata": {},
   "outputs": [
    {
     "data": {
      "text/plain": [
       "34549.05181536012"
      ]
     },
     "execution_count": 54,
     "metadata": {},
     "output_type": "execute_result"
    }
   ],
   "source": [
    "rf = RandomForestRegressor(n_estimators=200, n_jobs=-1)\n",
    "\n",
    "rf.fit(X_train.values, y_train.values)\n",
    "y_pred = rf.predict(X_test)\n",
    "m = np.sqrt(mean_squared_error(y_test, y_pred))\n",
    "errors.append(m)\n",
    "m"
   ]
  },
  {
   "cell_type": "code",
   "execution_count": 36,
   "metadata": {},
   "outputs": [],
   "source": [
    "lojas = ljs_atual.cod_loja.unique()"
   ]
  },
  {
   "cell_type": "code",
   "execution_count": 37,
   "metadata": {},
   "outputs": [
    {
     "data": {
      "text/plain": [
       "3130"
      ]
     },
     "execution_count": 37,
     "metadata": {},
     "output_type": "execute_result"
    }
   ],
   "source": [
    "len(lojas)"
   ]
  },
  {
   "cell_type": "code",
   "execution_count": 41,
   "metadata": {},
   "outputs": [
    {
     "data": {
      "text/html": [
       "<div>\n",
       "<style scoped>\n",
       "    .dataframe tbody tr th:only-of-type {\n",
       "        vertical-align: middle;\n",
       "    }\n",
       "\n",
       "    .dataframe tbody tr th {\n",
       "        vertical-align: top;\n",
       "    }\n",
       "\n",
       "    .dataframe thead th {\n",
       "        text-align: right;\n",
       "    }\n",
       "</style>\n",
       "<table border=\"1\" class=\"dataframe\">\n",
       "  <thead>\n",
       "    <tr style=\"text-align: right;\">\n",
       "      <th></th>\n",
       "      <th>cod_loja</th>\n",
       "      <th>cod_ap</th>\n",
       "      <th>cod_municipio</th>\n",
       "      <th>feature_03</th>\n",
       "      <th>feature_04</th>\n",
       "      <th>feature_06</th>\n",
       "      <th>feature_07</th>\n",
       "      <th>feature_08</th>\n",
       "      <th>feature_09</th>\n",
       "      <th>feature_10</th>\n",
       "      <th>feature_13</th>\n",
       "      <th>feature_14</th>\n",
       "      <th>feature_15</th>\n",
       "      <th>feature_16</th>\n",
       "      <th>feature_17</th>\n",
       "      <th>feature_18</th>\n",
       "      <th>month</th>\n",
       "      <th>quarter</th>\n",
       "      <th>year</th>\n",
       "      <th>pct_micro</th>\n",
       "      <th>feature_01_FEATURE_01_VALUE_03</th>\n",
       "      <th>feature_01_FEATURE_01_VALUE_08</th>\n",
       "      <th>feature_01_FEATURE_01_VALUE_10</th>\n",
       "      <th>feature_02_FEATURE_02_VALUE_02</th>\n",
       "      <th>feature_02_FEATURE_02_VALUE_03</th>\n",
       "      <th>feature_02_FEATURE_02_VALUE_04</th>\n",
       "      <th>feature_02_FEATURE_02_VALUE_06</th>\n",
       "      <th>feature_05_FEATURE_05_VALUE_01</th>\n",
       "      <th>feature_05_FEATURE_05_VALUE_02</th>\n",
       "      <th>feature_05_FEATURE_05_VALUE_03</th>\n",
       "      <th>feature_05_FEATURE_05_VALUE_04</th>\n",
       "      <th>feature_05_FEATURE_05_VALUE_05</th>\n",
       "      <th>feature_05_FEATURE_05_VALUE_06</th>\n",
       "      <th>feature_05_FEATURE_05_VALUE_07</th>\n",
       "      <th>feature_05_FEATURE_05_VALUE_08</th>\n",
       "      <th>feature_11_FEATURE_11_VALUE_01</th>\n",
       "      <th>feature_11_FEATURE_11_VALUE_02</th>\n",
       "      <th>feature_11_FEATURE_11_VALUE_03</th>\n",
       "      <th>feature_11_FEATURE_11_VALUE_04</th>\n",
       "      <th>feature_11_FEATURE_11_VALUE_05</th>\n",
       "      <th>feature_11_FEATURE_11_VALUE_06</th>\n",
       "      <th>feature_11_FEATURE_11_VALUE_07</th>\n",
       "      <th>feature_12_FEATURE_12_VALUE_01</th>\n",
       "      <th>feature_12_FEATURE_12_VALUE_02</th>\n",
       "      <th>prop_jov</th>\n",
       "      <th>prop_jadulto</th>\n",
       "    </tr>\n",
       "  </thead>\n",
       "  <tbody>\n",
       "    <tr>\n",
       "      <th>68373</th>\n",
       "      <td>3520</td>\n",
       "      <td>2611606005018</td>\n",
       "      <td>2611606</td>\n",
       "      <td>False</td>\n",
       "      <td>36.0</td>\n",
       "      <td>2</td>\n",
       "      <td>0.124266</td>\n",
       "      <td>0.072713</td>\n",
       "      <td>889.577909</td>\n",
       "      <td>5.256053</td>\n",
       "      <td>100.0</td>\n",
       "      <td>86.9</td>\n",
       "      <td>100.0</td>\n",
       "      <td>100.0</td>\n",
       "      <td>91.05</td>\n",
       "      <td>90.5</td>\n",
       "      <td>10</td>\n",
       "      <td>4</td>\n",
       "      <td>2017</td>\n",
       "      <td>64.49</td>\n",
       "      <td>0</td>\n",
       "      <td>0</td>\n",
       "      <td>1</td>\n",
       "      <td>0</td>\n",
       "      <td>1</td>\n",
       "      <td>0</td>\n",
       "      <td>0</td>\n",
       "      <td>0</td>\n",
       "      <td>0</td>\n",
       "      <td>0</td>\n",
       "      <td>0</td>\n",
       "      <td>0</td>\n",
       "      <td>1</td>\n",
       "      <td>0</td>\n",
       "      <td>0</td>\n",
       "      <td>0</td>\n",
       "      <td>1</td>\n",
       "      <td>0</td>\n",
       "      <td>0</td>\n",
       "      <td>0</td>\n",
       "      <td>0</td>\n",
       "      <td>0</td>\n",
       "      <td>1</td>\n",
       "      <td>0</td>\n",
       "      <td>0.258325</td>\n",
       "      <td>0.21546</td>\n",
       "    </tr>\n",
       "    <tr>\n",
       "      <th>68374</th>\n",
       "      <td>3520</td>\n",
       "      <td>2611606005018</td>\n",
       "      <td>2611606</td>\n",
       "      <td>False</td>\n",
       "      <td>36.0</td>\n",
       "      <td>2</td>\n",
       "      <td>0.124266</td>\n",
       "      <td>0.072713</td>\n",
       "      <td>889.577909</td>\n",
       "      <td>5.256053</td>\n",
       "      <td>100.0</td>\n",
       "      <td>86.9</td>\n",
       "      <td>100.0</td>\n",
       "      <td>100.0</td>\n",
       "      <td>91.05</td>\n",
       "      <td>90.5</td>\n",
       "      <td>11</td>\n",
       "      <td>4</td>\n",
       "      <td>2017</td>\n",
       "      <td>64.49</td>\n",
       "      <td>0</td>\n",
       "      <td>0</td>\n",
       "      <td>1</td>\n",
       "      <td>0</td>\n",
       "      <td>1</td>\n",
       "      <td>0</td>\n",
       "      <td>0</td>\n",
       "      <td>0</td>\n",
       "      <td>0</td>\n",
       "      <td>0</td>\n",
       "      <td>0</td>\n",
       "      <td>0</td>\n",
       "      <td>1</td>\n",
       "      <td>0</td>\n",
       "      <td>0</td>\n",
       "      <td>0</td>\n",
       "      <td>1</td>\n",
       "      <td>0</td>\n",
       "      <td>0</td>\n",
       "      <td>0</td>\n",
       "      <td>0</td>\n",
       "      <td>0</td>\n",
       "      <td>1</td>\n",
       "      <td>0</td>\n",
       "      <td>0.258325</td>\n",
       "      <td>0.21546</td>\n",
       "    </tr>\n",
       "    <tr>\n",
       "      <th>68375</th>\n",
       "      <td>3520</td>\n",
       "      <td>2611606005018</td>\n",
       "      <td>2611606</td>\n",
       "      <td>False</td>\n",
       "      <td>36.0</td>\n",
       "      <td>2</td>\n",
       "      <td>0.124266</td>\n",
       "      <td>0.072713</td>\n",
       "      <td>889.577909</td>\n",
       "      <td>5.256053</td>\n",
       "      <td>100.0</td>\n",
       "      <td>86.9</td>\n",
       "      <td>100.0</td>\n",
       "      <td>100.0</td>\n",
       "      <td>91.05</td>\n",
       "      <td>90.5</td>\n",
       "      <td>12</td>\n",
       "      <td>4</td>\n",
       "      <td>2017</td>\n",
       "      <td>64.49</td>\n",
       "      <td>0</td>\n",
       "      <td>0</td>\n",
       "      <td>1</td>\n",
       "      <td>0</td>\n",
       "      <td>1</td>\n",
       "      <td>0</td>\n",
       "      <td>0</td>\n",
       "      <td>0</td>\n",
       "      <td>0</td>\n",
       "      <td>0</td>\n",
       "      <td>0</td>\n",
       "      <td>0</td>\n",
       "      <td>1</td>\n",
       "      <td>0</td>\n",
       "      <td>0</td>\n",
       "      <td>0</td>\n",
       "      <td>1</td>\n",
       "      <td>0</td>\n",
       "      <td>0</td>\n",
       "      <td>0</td>\n",
       "      <td>0</td>\n",
       "      <td>0</td>\n",
       "      <td>1</td>\n",
       "      <td>0</td>\n",
       "      <td>0.258325</td>\n",
       "      <td>0.21546</td>\n",
       "    </tr>\n",
       "  </tbody>\n",
       "</table>\n",
       "</div>"
      ],
      "text/plain": [
       "       cod_loja         cod_ap  cod_municipio  feature_03  feature_04  \\\n",
       "68373      3520  2611606005018        2611606       False        36.0   \n",
       "68374      3520  2611606005018        2611606       False        36.0   \n",
       "68375      3520  2611606005018        2611606       False        36.0   \n",
       "\n",
       "       feature_06  feature_07  feature_08  feature_09  feature_10  feature_13  \\\n",
       "68373           2    0.124266    0.072713  889.577909    5.256053       100.0   \n",
       "68374           2    0.124266    0.072713  889.577909    5.256053       100.0   \n",
       "68375           2    0.124266    0.072713  889.577909    5.256053       100.0   \n",
       "\n",
       "       feature_14  feature_15  feature_16  feature_17  feature_18  month  \\\n",
       "68373        86.9       100.0       100.0       91.05        90.5     10   \n",
       "68374        86.9       100.0       100.0       91.05        90.5     11   \n",
       "68375        86.9       100.0       100.0       91.05        90.5     12   \n",
       "\n",
       "       quarter  year  pct_micro  feature_01_FEATURE_01_VALUE_03  \\\n",
       "68373        4  2017      64.49                               0   \n",
       "68374        4  2017      64.49                               0   \n",
       "68375        4  2017      64.49                               0   \n",
       "\n",
       "       feature_01_FEATURE_01_VALUE_08  feature_01_FEATURE_01_VALUE_10  \\\n",
       "68373                               0                               1   \n",
       "68374                               0                               1   \n",
       "68375                               0                               1   \n",
       "\n",
       "       feature_02_FEATURE_02_VALUE_02  feature_02_FEATURE_02_VALUE_03  \\\n",
       "68373                               0                               1   \n",
       "68374                               0                               1   \n",
       "68375                               0                               1   \n",
       "\n",
       "       feature_02_FEATURE_02_VALUE_04  feature_02_FEATURE_02_VALUE_06  \\\n",
       "68373                               0                               0   \n",
       "68374                               0                               0   \n",
       "68375                               0                               0   \n",
       "\n",
       "       feature_05_FEATURE_05_VALUE_01  feature_05_FEATURE_05_VALUE_02  \\\n",
       "68373                               0                               0   \n",
       "68374                               0                               0   \n",
       "68375                               0                               0   \n",
       "\n",
       "       feature_05_FEATURE_05_VALUE_03  feature_05_FEATURE_05_VALUE_04  \\\n",
       "68373                               0                               0   \n",
       "68374                               0                               0   \n",
       "68375                               0                               0   \n",
       "\n",
       "       feature_05_FEATURE_05_VALUE_05  feature_05_FEATURE_05_VALUE_06  \\\n",
       "68373                               0                               1   \n",
       "68374                               0                               1   \n",
       "68375                               0                               1   \n",
       "\n",
       "       feature_05_FEATURE_05_VALUE_07  feature_05_FEATURE_05_VALUE_08  \\\n",
       "68373                               0                               0   \n",
       "68374                               0                               0   \n",
       "68375                               0                               0   \n",
       "\n",
       "       feature_11_FEATURE_11_VALUE_01  feature_11_FEATURE_11_VALUE_02  \\\n",
       "68373                               0                               1   \n",
       "68374                               0                               1   \n",
       "68375                               0                               1   \n",
       "\n",
       "       feature_11_FEATURE_11_VALUE_03  feature_11_FEATURE_11_VALUE_04  \\\n",
       "68373                               0                               0   \n",
       "68374                               0                               0   \n",
       "68375                               0                               0   \n",
       "\n",
       "       feature_11_FEATURE_11_VALUE_05  feature_11_FEATURE_11_VALUE_06  \\\n",
       "68373                               0                               0   \n",
       "68374                               0                               0   \n",
       "68375                               0                               0   \n",
       "\n",
       "       feature_11_FEATURE_11_VALUE_07  feature_12_FEATURE_12_VALUE_01  \\\n",
       "68373                               0                               1   \n",
       "68374                               0                               1   \n",
       "68375                               0                               1   \n",
       "\n",
       "       feature_12_FEATURE_12_VALUE_02  prop_jov  prop_jadulto  \n",
       "68373                               0  0.258325       0.21546  \n",
       "68374                               0  0.258325       0.21546  \n",
       "68375                               0  0.258325       0.21546  "
      ]
     },
     "execution_count": 41,
     "metadata": {},
     "output_type": "execute_result"
    }
   ],
   "source": [
    "X"
   ]
  },
  {
   "cell_type": "code",
   "execution_count": 105,
   "metadata": {},
   "outputs": [
    {
     "data": {
      "text/html": [
       "<div>\n",
       "<style scoped>\n",
       "    .dataframe tbody tr th:only-of-type {\n",
       "        vertical-align: middle;\n",
       "    }\n",
       "\n",
       "    .dataframe tbody tr th {\n",
       "        vertical-align: top;\n",
       "    }\n",
       "\n",
       "    .dataframe thead th {\n",
       "        text-align: right;\n",
       "    }\n",
       "</style>\n",
       "<table border=\"1\" class=\"dataframe\">\n",
       "  <thead>\n",
       "    <tr style=\"text-align: right;\">\n",
       "      <th></th>\n",
       "      <th>cod_loja</th>\n",
       "      <th>cod_ap</th>\n",
       "      <th>cod_municipio</th>\n",
       "      <th>feature_01</th>\n",
       "      <th>feature_02</th>\n",
       "      <th>feature_03</th>\n",
       "      <th>feature_04</th>\n",
       "      <th>feature_05</th>\n",
       "      <th>feature_06</th>\n",
       "      <th>feature_07</th>\n",
       "      <th>feature_08</th>\n",
       "      <th>feature_09</th>\n",
       "      <th>feature_10</th>\n",
       "      <th>feature_11</th>\n",
       "      <th>feature_12</th>\n",
       "      <th>feature_13</th>\n",
       "      <th>feature_14</th>\n",
       "      <th>feature_15</th>\n",
       "      <th>feature_16</th>\n",
       "      <th>feature_17</th>\n",
       "      <th>feature_18</th>\n",
       "    </tr>\n",
       "  </thead>\n",
       "  <tbody>\n",
       "    <tr>\n",
       "      <th>2125</th>\n",
       "      <td>2507</td>\n",
       "      <td>2303709005010</td>\n",
       "      <td>2303709</td>\n",
       "      <td>NaN</td>\n",
       "      <td>FEATURE_02_VALUE_03</td>\n",
       "      <td>False</td>\n",
       "      <td>31.0</td>\n",
       "      <td>FEATURE_05_VALUE_03</td>\n",
       "      <td>16</td>\n",
       "      <td>0.15355</td>\n",
       "      <td>0.141161</td>\n",
       "      <td>129.320673</td>\n",
       "      <td>0.84762</td>\n",
       "      <td>NaN</td>\n",
       "      <td>NaN</td>\n",
       "      <td>NaN</td>\n",
       "      <td>NaN</td>\n",
       "      <td>NaN</td>\n",
       "      <td>NaN</td>\n",
       "      <td>NaN</td>\n",
       "      <td>NaN</td>\n",
       "    </tr>\n",
       "  </tbody>\n",
       "</table>\n",
       "</div>"
      ],
      "text/plain": [
       "      cod_loja         cod_ap  cod_municipio feature_01           feature_02  \\\n",
       "2125      2507  2303709005010        2303709        NaN  FEATURE_02_VALUE_03   \n",
       "\n",
       "      feature_03  feature_04           feature_05  feature_06  feature_07  \\\n",
       "2125       False        31.0  FEATURE_05_VALUE_03          16     0.15355   \n",
       "\n",
       "      feature_08  feature_09  feature_10 feature_11 feature_12  feature_13  \\\n",
       "2125    0.141161  129.320673     0.84762        NaN        NaN         NaN   \n",
       "\n",
       "      feature_14  feature_15  feature_16  feature_17  feature_18  \n",
       "2125         NaN         NaN         NaN         NaN         NaN  "
      ]
     },
     "execution_count": 105,
     "metadata": {},
     "output_type": "execute_result"
    }
   ],
   "source": [
    "lojas_int = [2507, 3490, 1912, 3635, 2795, 2549, 2076, 297]\n",
    "lint_df = ljs_atual[ljs_atual['cod_loja'] == lojas_int[0]]\n",
    "lint_df"
   ]
  },
  {
   "cell_type": "code",
   "execution_count": 121,
   "metadata": {},
   "outputs": [
    {
     "name": "stderr",
     "output_type": "stream",
     "text": [
      "\n",
      "A value is trying to be set on a copy of a slice from a DataFrame.\n",
      "Try using .loc[row_indexer,col_indexer] = value instead\n",
      "\n",
      "See the caveats in the documentation: https://pandas.pydata.org/pandas-docs/stable/user_guide/indexing.html#returning-a-view-versus-a-copy\n",
      "\n",
      "A value is trying to be set on a copy of a slice from a DataFrame.\n",
      "Try using .loc[row_indexer,col_indexer] = value instead\n",
      "\n",
      "See the caveats in the documentation: https://pandas.pydata.org/pandas-docs/stable/user_guide/indexing.html#returning-a-view-versus-a-copy\n"
     ]
    },
    {
     "data": {
      "image/png": "[encoded data removed]",
      "text/plain": [
       "<Figure size 1152x648 with 1 Axes>"
      ]
     },
     "metadata": {},
     "output_type": "display_data"
    }
   ],
   "source": [
    "cod_loja = np.random.choice(model_df[\"cod_loja\"].unique())\n",
    "t = model_df[model_df[\"cod_loja\"] == cod_loja]\n",
    "t[\"datetime\"] = pd.to_datetime(t.year*100 + t.month, format='%Y%m')\n",
    "\n",
    "X = X_test[X_test[\"cod_loja\"] == cod_loja]\n",
    "X[\"datetime\"] = pd.to_datetime(X.year*100 + X.month, format='%Y%m')\n",
    "y_pred = rf.predict(X[X_train.columns])\n",
    "\n",
    "plt.figure(figsize=(16,9))\n",
    "plt.title(\"Loja {}\".format(cod_loja))\n",
    "plt.plot(t[\"datetime\"], t[\"receita\"], label=\"real\", marker=\".\")\n",
    "plt.plot(X[\"datetime\"], y_pred, label=\"previsto\", marker=\"x\")\n",
    "plt.legend()\n",
    "plt.show()"
   ]
  },
  {
   "cell_type": "code",
   "execution_count": 26,
   "metadata": {},
   "outputs": [
    {
     "data": {
      "text/plain": [
       "181"
      ]
     },
     "execution_count": 26,
     "metadata": {},
     "output_type": "execute_result"
    }
   ],
   "source": [
    "del model_df, train, test, X_train, X_test, y_train, y_test, train_df\n",
    "gc.collect()"
   ]
  },
  {
   "cell_type": "markdown",
   "metadata": {},
   "source": [
    "# Submission"
   ]
  },
  {
   "cell_type": "code",
   "execution_count": 45,
   "metadata": {},
   "outputs": [
    {
     "name": "stdout",
     "output_type": "stream",
     "text": [
      "3130\n",
      "3130\n",
      "3130\n"
     ]
    }
   ],
   "source": [
    "# copy df_fat_mes\n",
    "train_df = df_fat_mes\n",
    "\n",
    "print(train_df.cod_loja.nunique())\n",
    "\n",
    "# get cols with nans\n",
    "has_na_cols = list()\n",
    "for col in train_df.columns:\n",
    "    if train_df[col].isnull().values.any():\n",
    "        has_na_cols.append(col)\n",
    "# input values\n",
    "for na_col in has_na_cols:\n",
    "    if train_df[na_col].dtype == object:\n",
    "        print(train_df[na_col].mode()[0])\n",
    "        train_df[na_col].fillna(train_df[na_col].mode()[0], inplace=True)\n",
    "    else:\n",
    "        train_df[na_col].fillna(train_df[na_col].median(), inplace=True)\n",
    "\n",
    "# get cols for model\n",
    "cols = train_df.columns\n",
    "model_df = train_df[cols]\n",
    "model_df[\"month\"] = model_df[\"datetime\"].dt.month\n",
    "model_df[\"quarter\"] = model_df[\"datetime\"].dt.quarter\n",
    "model_df[\"year\"] = model_df[\"datetime\"].dt.year\n",
    "\n",
    "# get str and unused cols\n",
    "str_cols = list()\n",
    "for col in model_df.columns.values.tolist():\n",
    "    if model_df[col].dtype == object:\n",
    "        str_cols.append(col)\n",
    "str_cols.append('datetime') \n",
    "str_cols.append('receita')\n",
    "str_cols.append('qtde')\n",
    "\n",
    "# train test split\n",
    "train = model_df[~model_df[\"datetime\"].isin([date(2017,10,1), date(2017,11,1), date(2017,12,1)])]\n",
    "test = model_df[model_df[\"datetime\"].isin([date(2017,10,1), date(2017,11,1), date(2017,12,1)])]\n",
    "\n",
    "print(model_df.cod_loja.nunique())\n",
    "\n",
    "# X_train = train.drop(str_cols, axis=1)\n",
    "# y_train = train[\"receita\"]\n",
    "# X_test = test.drop(str_cols, axis=1)\n",
    "# y_test = test[\"receita\"]\n",
    "\n",
    "# predict\n",
    "train_cols = X_train.columns.values.tolist()\n",
    "preds = []\n",
    "i = 0\n",
    "for loja in lojas:\n",
    "    Xloja = model_df[model_df.cod_loja == loja][:1]\n",
    "    i += 1\n",
    "    Xloja = Xloja[train_cols]\n",
    "    Xloja = pd.DataFrame(Xloja.values.tolist()*3, columns=Xloja.columns)\n",
    "    Xloja.month = pd.Series([1,2,3]).values\n",
    "    Xloja.quarter = pd.Series([1,1,1]).values\n",
    "    Xloja.year = pd.Series([2018,2018,2018]).values\n",
    "    yhat = rf.predict(Xloja)\n",
    "    preds.append((loja, yhat))\n",
    "print(i)"
   ]
  },
  {
   "cell_type": "code",
   "execution_count": 46,
   "metadata": {},
   "outputs": [
    {
     "data": {
      "text/plain": [
       "3130"
      ]
     },
     "execution_count": 46,
     "metadata": {},
     "output_type": "execute_result"
    }
   ],
   "source": [
    "submission = pd.DataFrame({'cod_loja': [i[0] for i in preds], 'faturamento': [np.sum(i[1]) for i in preds]})\n",
    "submission.cod_loja.nunique()"
   ]
  },
  {
   "cell_type": "code",
   "execution_count": 47,
   "metadata": {},
   "outputs": [],
   "source": [
    "submission.to_csv('/home/tuts/repos/others/usp-vs-ufmg/tutss/desafio_1.csv', index=False, sep=';')"
   ]
  },
  {
   "cell_type": "code",
   "execution_count": null,
   "metadata": {},
   "outputs": [],
   "source": []
  }
 ],
 "metadata": {
  "kernelspec": {
   "display_name": "Python 3",
   "language": "python",
   "name": "python3"
  },
  "language_info": {
   "codemirror_mode": {
    "name": "ipython",
    "version": 3
   },
   "file_extension": ".py",
   "mimetype": "text/x-python",
   "name": "python",
   "nbconvert_exporter": "python",
   "pygments_lexer": "ipython3",
   "version": "3.8.6"
  }
 },
 "nbformat": 4,
 "nbformat_minor": 4
}
