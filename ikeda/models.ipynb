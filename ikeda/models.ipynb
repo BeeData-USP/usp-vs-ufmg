{
 "cells": [
  {
   "cell_type": "code",
   "execution_count": 1,
   "metadata": {},
   "outputs": [],
   "source": [
    "# basic imports\n",
    "import matplotlib.pyplot as plt\n",
    "import seaborn as sns\n",
    "import pandas as pd\n",
    "import numpy as np\n",
    "\n",
    "# sklearn\n",
    "# preprocessing, model selection and metrics\n",
    "from sklearn.preprocessing import LabelEncoder, OneHotEncoder\n",
    "from sklearn.model_selection import train_test_split, KFold, cross_val_score\n",
    "from sklearn.metrics import mean_squared_error, mean_absolute_error\n",
    "\n",
    "# models\n",
    "from sklearn.linear_model import Lasso, Ridge\n",
    "from sklearn.ensemble import RandomForestRegressor\n",
    "from sklearn.ensemble import AdaBoostRegressor\n",
    "\n",
    "# visualize importances\n",
    "import shap\n",
    "\n",
    "pd.set_option('max_columns', None)\n",
    "plt.style.use('ggplot')"
   ]
  },
  {
   "cell_type": "code",
   "execution_count": 2,
   "metadata": {},
   "outputs": [],
   "source": [
    "from datetime import date\n",
    "import gc"
   ]
  },
  {
   "cell_type": "code",
   "execution_count": 3,
   "metadata": {},
   "outputs": [],
   "source": [
    "my_data = './data/'\n",
    "fat_ljs_atual = pd.read_csv(my_data + 'faturamento_lojas_atuais.csv')\n",
    "cen_exp = pd.read_csv(my_data + 'cenarios_expansao.csv')\n",
    "ljs_atual = pd.read_csv(my_data + 'lojas_atuais.csv')"
   ]
  },
  {
   "cell_type": "code",
   "execution_count": 4,
   "metadata": {},
   "outputs": [
    {
     "data": {
      "text/plain": [
       "3130"
      ]
     },
     "execution_count": 4,
     "metadata": {},
     "output_type": "execute_result"
    }
   ],
   "source": [
    "ljs_atual.cod_loja.nunique()"
   ]
  },
  {
   "cell_type": "code",
   "execution_count": 5,
   "metadata": {},
   "outputs": [
    {
     "data": {
      "text/html": [
       "<div>\n",
       "<style scoped>\n",
       "    .dataframe tbody tr th:only-of-type {\n",
       "        vertical-align: middle;\n",
       "    }\n",
       "\n",
       "    .dataframe tbody tr th {\n",
       "        vertical-align: top;\n",
       "    }\n",
       "\n",
       "    .dataframe thead th {\n",
       "        text-align: right;\n",
       "    }\n",
       "</style>\n",
       "<table border=\"1\" class=\"dataframe\">\n",
       "  <thead>\n",
       "    <tr style=\"text-align: right;\">\n",
       "      <th></th>\n",
       "      <th>cod_loja</th>\n",
       "      <th>cod_ap</th>\n",
       "      <th>cod_municipio</th>\n",
       "      <th>feature_01</th>\n",
       "      <th>feature_02</th>\n",
       "      <th>feature_03</th>\n",
       "      <th>feature_04</th>\n",
       "      <th>feature_05</th>\n",
       "      <th>feature_06</th>\n",
       "      <th>feature_07</th>\n",
       "      <th>feature_08</th>\n",
       "      <th>feature_09</th>\n",
       "      <th>feature_10</th>\n",
       "      <th>feature_11</th>\n",
       "      <th>feature_12</th>\n",
       "      <th>feature_13</th>\n",
       "      <th>feature_14</th>\n",
       "      <th>feature_15</th>\n",
       "      <th>feature_16</th>\n",
       "      <th>feature_17</th>\n",
       "      <th>feature_18</th>\n",
       "    </tr>\n",
       "  </thead>\n",
       "  <tbody>\n",
       "    <tr>\n",
       "      <th>0</th>\n",
       "      <td>10</td>\n",
       "      <td>2933307005008</td>\n",
       "      <td>2933307</td>\n",
       "      <td>FEATURE_01_VALUE_08</td>\n",
       "      <td>FEATURE_02_VALUE_02</td>\n",
       "      <td>False</td>\n",
       "      <td>50.00</td>\n",
       "      <td>FEATURE_05_VALUE_03</td>\n",
       "      <td>6</td>\n",
       "      <td>0.134654</td>\n",
       "      <td>0.131481</td>\n",
       "      <td>116.194058</td>\n",
       "      <td>2.913498</td>\n",
       "      <td>FEATURE_11_VALUE_01</td>\n",
       "      <td>FEATURE_12_VALUE_01</td>\n",
       "      <td>100.0</td>\n",
       "      <td>93.4</td>\n",
       "      <td>100.0</td>\n",
       "      <td>100.0</td>\n",
       "      <td>71.7</td>\n",
       "      <td>88.8</td>\n",
       "    </tr>\n",
       "    <tr>\n",
       "      <th>1</th>\n",
       "      <td>13</td>\n",
       "      <td>2916401003002</td>\n",
       "      <td>2916401</td>\n",
       "      <td>FEATURE_01_VALUE_10</td>\n",
       "      <td>FEATURE_02_VALUE_04</td>\n",
       "      <td>False</td>\n",
       "      <td>41.00</td>\n",
       "      <td>FEATURE_05_VALUE_03</td>\n",
       "      <td>4</td>\n",
       "      <td>0.116662</td>\n",
       "      <td>0.114995</td>\n",
       "      <td>26.345742</td>\n",
       "      <td>1.312612</td>\n",
       "      <td>NaN</td>\n",
       "      <td>NaN</td>\n",
       "      <td>84.3</td>\n",
       "      <td>77.5</td>\n",
       "      <td>100.0</td>\n",
       "      <td>100.0</td>\n",
       "      <td>63.5</td>\n",
       "      <td>78.8</td>\n",
       "    </tr>\n",
       "    <tr>\n",
       "      <th>2</th>\n",
       "      <td>16</td>\n",
       "      <td>2928703003003</td>\n",
       "      <td>2928703</td>\n",
       "      <td>NaN</td>\n",
       "      <td>FEATURE_02_VALUE_04</td>\n",
       "      <td>False</td>\n",
       "      <td>42.12</td>\n",
       "      <td>FEATURE_05_VALUE_05</td>\n",
       "      <td>2</td>\n",
       "      <td>0.104162</td>\n",
       "      <td>0.087807</td>\n",
       "      <td>35.362788</td>\n",
       "      <td>1.969512</td>\n",
       "      <td>NaN</td>\n",
       "      <td>NaN</td>\n",
       "      <td>NaN</td>\n",
       "      <td>NaN</td>\n",
       "      <td>NaN</td>\n",
       "      <td>NaN</td>\n",
       "      <td>NaN</td>\n",
       "      <td>NaN</td>\n",
       "    </tr>\n",
       "    <tr>\n",
       "      <th>3</th>\n",
       "      <td>21</td>\n",
       "      <td>2906006003001</td>\n",
       "      <td>2906006</td>\n",
       "      <td>NaN</td>\n",
       "      <td>FEATURE_02_VALUE_04</td>\n",
       "      <td>False</td>\n",
       "      <td>30.00</td>\n",
       "      <td>FEATURE_05_VALUE_03</td>\n",
       "      <td>6</td>\n",
       "      <td>0.132954</td>\n",
       "      <td>0.131330</td>\n",
       "      <td>9.862757</td>\n",
       "      <td>1.383681</td>\n",
       "      <td>NaN</td>\n",
       "      <td>NaN</td>\n",
       "      <td>85.0</td>\n",
       "      <td>76.9</td>\n",
       "      <td>100.0</td>\n",
       "      <td>100.0</td>\n",
       "      <td>100.0</td>\n",
       "      <td>92.9</td>\n",
       "    </tr>\n",
       "    <tr>\n",
       "      <th>4</th>\n",
       "      <td>28</td>\n",
       "      <td>3550308005058</td>\n",
       "      <td>3550308</td>\n",
       "      <td>FEATURE_01_VALUE_10</td>\n",
       "      <td>FEATURE_02_VALUE_02</td>\n",
       "      <td>True</td>\n",
       "      <td>44.31</td>\n",
       "      <td>FEATURE_05_VALUE_03</td>\n",
       "      <td>8</td>\n",
       "      <td>0.190102</td>\n",
       "      <td>0.179140</td>\n",
       "      <td>5593.905463</td>\n",
       "      <td>2.815883</td>\n",
       "      <td>FEATURE_11_VALUE_02</td>\n",
       "      <td>FEATURE_12_VALUE_01</td>\n",
       "      <td>NaN</td>\n",
       "      <td>NaN</td>\n",
       "      <td>NaN</td>\n",
       "      <td>NaN</td>\n",
       "      <td>NaN</td>\n",
       "      <td>NaN</td>\n",
       "    </tr>\n",
       "  </tbody>\n",
       "</table>\n",
       "</div>"
      ],
      "text/plain": [
       "   cod_loja         cod_ap  cod_municipio           feature_01  \\\n",
       "0        10  2933307005008        2933307  FEATURE_01_VALUE_08   \n",
       "1        13  2916401003002        2916401  FEATURE_01_VALUE_10   \n",
       "2        16  2928703003003        2928703                  NaN   \n",
       "3        21  2906006003001        2906006                  NaN   \n",
       "4        28  3550308005058        3550308  FEATURE_01_VALUE_10   \n",
       "\n",
       "            feature_02  feature_03  feature_04           feature_05  \\\n",
       "0  FEATURE_02_VALUE_02       False       50.00  FEATURE_05_VALUE_03   \n",
       "1  FEATURE_02_VALUE_04       False       41.00  FEATURE_05_VALUE_03   \n",
       "2  FEATURE_02_VALUE_04       False       42.12  FEATURE_05_VALUE_05   \n",
       "3  FEATURE_02_VALUE_04       False       30.00  FEATURE_05_VALUE_03   \n",
       "4  FEATURE_02_VALUE_02        True       44.31  FEATURE_05_VALUE_03   \n",
       "\n",
       "   feature_06  feature_07  feature_08   feature_09  feature_10  \\\n",
       "0           6    0.134654    0.131481   116.194058    2.913498   \n",
       "1           4    0.116662    0.114995    26.345742    1.312612   \n",
       "2           2    0.104162    0.087807    35.362788    1.969512   \n",
       "3           6    0.132954    0.131330     9.862757    1.383681   \n",
       "4           8    0.190102    0.179140  5593.905463    2.815883   \n",
       "\n",
       "            feature_11           feature_12  feature_13  feature_14  \\\n",
       "0  FEATURE_11_VALUE_01  FEATURE_12_VALUE_01       100.0        93.4   \n",
       "1                  NaN                  NaN        84.3        77.5   \n",
       "2                  NaN                  NaN         NaN         NaN   \n",
       "3                  NaN                  NaN        85.0        76.9   \n",
       "4  FEATURE_11_VALUE_02  FEATURE_12_VALUE_01         NaN         NaN   \n",
       "\n",
       "   feature_15  feature_16  feature_17  feature_18  \n",
       "0       100.0       100.0        71.7        88.8  \n",
       "1       100.0       100.0        63.5        78.8  \n",
       "2         NaN         NaN         NaN         NaN  \n",
       "3       100.0       100.0       100.0        92.9  \n",
       "4         NaN         NaN         NaN         NaN  "
      ]
     },
     "execution_count": 5,
     "metadata": {},
     "output_type": "execute_result"
    }
   ],
   "source": [
    "cen_exp.head()"
   ]
  },
  {
   "cell_type": "code",
   "execution_count": 6,
   "metadata": {},
   "outputs": [],
   "source": [
    "df = fat_ljs_atual.merge(ljs_atual, on='cod_loja', how='inner')\n",
    "df[\"datetime\"] = pd.to_datetime(df.ano*100 + df.mes, format='%Y%m')\n",
    "df.drop([\"ano\", \"mes\"], axis=1, inplace=True)"
   ]
  },
  {
   "cell_type": "code",
   "execution_count": 7,
   "metadata": {},
   "outputs": [
    {
     "data": {
      "text/plain": [
       "{'categoria', 'cod_loja', 'datetime', 'qtde', 'receita'}"
      ]
     },
     "execution_count": 7,
     "metadata": {},
     "output_type": "execute_result"
    }
   ],
   "source": [
    "s = set(fat_ljs_atual.columns) - set(['ano', 'mes'])\n",
    "s.add('datetime')\n",
    "s"
   ]
  },
  {
   "cell_type": "code",
   "execution_count": 8,
   "metadata": {},
   "outputs": [],
   "source": [
    "fat_mes_df = df[list(s)].groupby([\"cod_loja\", \"datetime\"] , as_index=False).sum()"
   ]
  },
  {
   "cell_type": "code",
   "execution_count": 9,
   "metadata": {},
   "outputs": [],
   "source": [
    "df_fat_mes = fat_mes_df.merge(ljs_atual, on=\"cod_loja\", how='inner')"
   ]
  },
  {
   "cell_type": "code",
   "execution_count": 10,
   "metadata": {},
   "outputs": [],
   "source": [
    "lojas_sem_24_meses = []\n",
    "for i in df_fat_mes[\"cod_loja\"].unique():\n",
    "    if df_fat_mes[df_fat_mes[\"cod_loja\"] == i].shape[0] != 24:\n",
    "        lojas_sem_24_meses.append(i)\n",
    "\n",
    "train_df = df_fat_mes[~df_fat_mes[\"cod_loja\"].isin(lojas_sem_24_meses).values]"
   ]
  },
  {
   "cell_type": "markdown",
   "metadata": {},
   "source": [
    "# Imputing"
   ]
  },
  {
   "cell_type": "code",
   "execution_count": 11,
   "metadata": {},
   "outputs": [
    {
     "name": "stdout",
     "output_type": "stream",
     "text": [
      "## FEATURE 1 ##\n",
      "count                   25440\n",
      "unique                      3\n",
      "top       FEATURE_01_VALUE_10\n",
      "freq                    14808\n",
      "Name: feature_01, dtype: object\n",
      "## FEATURE 11 ##\n",
      "count                    5760\n",
      "unique                      7\n",
      "top       FEATURE_11_VALUE_02\n",
      "freq                     2304\n",
      "Name: feature_11, dtype: object\n",
      "## FEATURE 12 ##\n",
      "count                    5760\n",
      "unique                      2\n",
      "top       FEATURE_12_VALUE_01\n",
      "freq                     3600\n",
      "Name: feature_12, dtype: object\n",
      "## FEATURE 13 ##\n",
      "count    20736.000000\n",
      "mean        94.813310\n",
      "std          8.602639\n",
      "min         44.100000\n",
      "25%         92.200000\n",
      "50%        100.000000\n",
      "75%        100.000000\n",
      "max        100.000000\n",
      "Name: feature_13, dtype: float64\n",
      "## FEATURE 14 ##\n",
      "count    20736.000000\n",
      "mean        83.698727\n",
      "std         13.575930\n",
      "min          0.000000\n",
      "25%         79.675000\n",
      "50%         86.900000\n",
      "75%         91.900000\n",
      "max        100.000000\n",
      "Name: feature_14, dtype: float64\n",
      "## FEATURE 15 ##\n",
      "count    20736.000000\n",
      "mean        82.664931\n",
      "std         34.417464\n",
      "min          0.000000\n",
      "25%        100.000000\n",
      "50%        100.000000\n",
      "75%        100.000000\n",
      "max        100.000000\n",
      "Name: feature_15, dtype: float64\n",
      "## FEATURE 16 ##\n",
      "count    20736.000000\n",
      "mean        96.244213\n",
      "std         12.936005\n",
      "min         50.000000\n",
      "25%        100.000000\n",
      "50%        100.000000\n",
      "75%        100.000000\n",
      "max        100.000000\n",
      "Name: feature_16, dtype: float64\n",
      "## FEATURE 17 ##\n",
      "count    20736.000000\n",
      "mean        83.374074\n",
      "std         17.351895\n",
      "min         13.100000\n",
      "25%         71.975000\n",
      "50%         91.050000\n",
      "75%         97.600000\n",
      "max        100.000000\n",
      "Name: feature_17, dtype: float64\n",
      "## FEATURE 18 ##\n",
      "count    20736.000000\n",
      "mean        88.324537\n",
      "std          9.176220\n",
      "min         42.100000\n",
      "25%         83.500000\n",
      "50%         90.500000\n",
      "75%         95.600000\n",
      "max         99.900000\n",
      "Name: feature_18, dtype: float64\n"
     ]
    }
   ],
   "source": [
    "print('## FEATURE 1 ##')\n",
    "print(train_df.feature_01.describe())\n",
    "print('## FEATURE 11 ##')\n",
    "print(train_df.feature_11.describe())\n",
    "print('## FEATURE 12 ##')\n",
    "print(train_df.feature_12.describe())\n",
    "print('## FEATURE 13 ##')\n",
    "print(train_df.feature_13.describe())\n",
    "print('## FEATURE 14 ##')\n",
    "print(train_df.feature_14.describe())\n",
    "print('## FEATURE 15 ##')\n",
    "print(train_df.feature_15.describe())\n",
    "print('## FEATURE 16 ##')\n",
    "print(train_df.feature_16.describe())\n",
    "print('## FEATURE 17 ##')\n",
    "print(train_df.feature_17.describe())\n",
    "print('## FEATURE 18 ##')\n",
    "print(train_df.feature_18.describe())"
   ]
  },
  {
   "cell_type": "code",
   "execution_count": 12,
   "metadata": {},
   "outputs": [
    {
     "data": {
      "text/plain": [
       "['feature_01',\n",
       " 'feature_11',\n",
       " 'feature_12',\n",
       " 'feature_13',\n",
       " 'feature_14',\n",
       " 'feature_15',\n",
       " 'feature_16',\n",
       " 'feature_17',\n",
       " 'feature_18']"
      ]
     },
     "execution_count": 12,
     "metadata": {},
     "output_type": "execute_result"
    }
   ],
   "source": [
    "has_na_cols = list()\n",
    "for col in train_df.columns:\n",
    "    if train_df[col].isnull().values.any():\n",
    "        has_na_cols.append(col)\n",
    "has_na_cols"
   ]
  },
  {
   "cell_type": "code",
   "execution_count": 13,
   "metadata": {},
   "outputs": [
    {
     "name": "stdout",
     "output_type": "stream",
     "text": [
      "FEATURE_01_VALUE_10\n",
      "FEATURE_11_VALUE_02\n",
      "FEATURE_12_VALUE_01\n"
     ]
    },
    {
     "name": "stderr",
     "output_type": "stream",
     "text": [
      "\n",
      "A value is trying to be set on a copy of a slice from a DataFrame\n",
      "\n",
      "See the caveats in the documentation: https://pandas.pydata.org/pandas-docs/stable/user_guide/indexing.html#returning-a-view-versus-a-copy\n"
     ]
    }
   ],
   "source": [
    "for na_col in has_na_cols:\n",
    "    if train_df[na_col].dtype == object:\n",
    "        print(train_df[na_col].mode()[0])\n",
    "        train_df[na_col].fillna(train_df[na_col].mode()[0], inplace=True)\n",
    "    else:\n",
    "        train_df[na_col].fillna(train_df[na_col].median(), inplace=True)"
   ]
  },
  {
   "cell_type": "code",
   "execution_count": 14,
   "metadata": {},
   "outputs": [
    {
     "name": "stdout",
     "output_type": "stream",
     "text": [
      "feature_01\n",
      "feature_02\n",
      "feature_05\n",
      "feature_11\n",
      "feature_12\n"
     ]
    }
   ],
   "source": [
    "cols = train_df.columns\n",
    "for col in cols:\n",
    "    if train_df[col].dtype == object:\n",
    "        print(col)\n",
    "        if train_df[col].value_counts().name == 'feature_05':\n",
    "            train_df = pd.concat([train_df, pd.get_dummies(train_df[col])], axis=1)"
   ]
  },
  {
   "cell_type": "code",
   "execution_count": 15,
   "metadata": {},
   "outputs": [
    {
     "data": {
      "text/plain": [
       "(71112, 32)"
      ]
     },
     "execution_count": 15,
     "metadata": {},
     "output_type": "execute_result"
    }
   ],
   "source": [
    "train_df.shape"
   ]
  },
  {
   "cell_type": "code",
   "execution_count": 16,
   "metadata": {},
   "outputs": [],
   "source": [
    "cols = train_df.columns"
   ]
  },
  {
   "cell_type": "code",
   "execution_count": 17,
   "metadata": {},
   "outputs": [],
   "source": [
    "model_df = train_df[cols]\n",
    "model_df[\"month\"] = model_df[\"datetime\"].dt.month\n",
    "model_df[\"quarter\"] = model_df[\"datetime\"].dt.quarter\n",
    "model_df[\"year\"] = model_df[\"datetime\"].dt.year"
   ]
  },
  {
   "cell_type": "code",
   "execution_count": 18,
   "metadata": {},
   "outputs": [],
   "source": [
    "str_cols = list()\n",
    "for col in model_df.columns.values.tolist():\n",
    "    if model_df[col].dtype == object:\n",
    "        str_cols.append(col)"
   ]
  },
  {
   "cell_type": "code",
   "execution_count": 19,
   "metadata": {},
   "outputs": [],
   "source": [
    "str_cols.append('datetime') \n",
    "str_cols.append('receita')\n",
    "str_cols.append('qtde')"
   ]
  },
  {
   "cell_type": "markdown",
   "metadata": {},
   "source": [
    "## Adiciona coluna de contagem de feriados"
   ]
  },
  {
   "cell_type": "code",
   "execution_count": 20,
   "metadata": {},
   "outputs": [],
   "source": [
    "feriados = pd.read_csv(\"../ikeda/data/feriados.csv\")"
   ]
  },
  {
   "cell_type": "code",
   "execution_count": 21,
   "metadata": {},
   "outputs": [],
   "source": [
    "model_df = model_df.merge(feriados, left_on=['cod_loja', 'month'], right_on=['cod_loja', 'mes'], how='left')\n",
    "model_df.drop(columns=['mes', 'Unnamed: 0'], inplace=True)"
   ]
  },
  {
   "cell_type": "code",
   "execution_count": 22,
   "metadata": {},
   "outputs": [],
   "source": [
    "train = model_df[~model_df[\"datetime\"].isin([date(2017,10,1), date(2017,11,1), date(2017,12,1)])]\n",
    "test = model_df[model_df[\"datetime\"].isin([date(2017,10,1), date(2017,11,1), date(2017,12,1)])]\n",
    "\n",
    "X_train = train.drop(str_cols, axis=1)\n",
    "y_train = train[\"receita\"]\n",
    "\n",
    "X_test = test.drop(str_cols, axis=1)\n",
    "y_test = test[\"receita\"]"
   ]
  },
  {
   "cell_type": "code",
   "execution_count": 23,
   "metadata": {},
   "outputs": [
    {
     "data": {
      "text/plain": [
       "Index(['cod_loja', 'cod_ap', 'cod_municipio', 'feature_03', 'feature_04',\n",
       "       'feature_06', 'feature_07', 'feature_08', 'feature_09', 'feature_10',\n",
       "       'feature_13', 'feature_14', 'feature_15', 'feature_16', 'feature_17',\n",
       "       'feature_18', 'FEATURE_01_VALUE_03', 'FEATURE_01_VALUE_08',\n",
       "       'FEATURE_01_VALUE_10', 'FEATURE_02_VALUE_02', 'FEATURE_02_VALUE_03',\n",
       "       'FEATURE_02_VALUE_04', 'FEATURE_02_VALUE_06', 'FEATURE_05_VALUE_01',\n",
       "       'FEATURE_05_VALUE_02', 'FEATURE_05_VALUE_03', 'FEATURE_05_VALUE_04',\n",
       "       'FEATURE_05_VALUE_05', 'FEATURE_05_VALUE_06', 'FEATURE_05_VALUE_07',\n",
       "       'FEATURE_05_VALUE_08', 'FEATURE_11_VALUE_01', 'FEATURE_11_VALUE_02',\n",
       "       'FEATURE_11_VALUE_03', 'FEATURE_11_VALUE_04', 'FEATURE_11_VALUE_05',\n",
       "       'FEATURE_11_VALUE_06', 'FEATURE_11_VALUE_07', 'FEATURE_12_VALUE_01',\n",
       "       'FEATURE_12_VALUE_02', 'month', 'quarter', 'year', 'cnt_feriados'],\n",
       "      dtype='object')"
      ]
     },
     "execution_count": 23,
     "metadata": {},
     "output_type": "execute_result"
    }
   ],
   "source": [
    "X_train.columns"
   ]
  },
  {
   "cell_type": "markdown",
   "metadata": {},
   "source": [
    "# Train"
   ]
  },
  {
   "cell_type": "code",
   "execution_count": 42,
   "metadata": {},
   "outputs": [],
   "source": [
    "errors = list()"
   ]
  },
  {
   "cell_type": "code",
   "execution_count": 43,
   "metadata": {},
   "outputs": [
    {
     "data": {
      "text/plain": [
       "28029.3551225496"
      ]
     },
     "execution_count": 43,
     "metadata": {},
     "output_type": "execute_result"
    }
   ],
   "source": [
    "rf = RandomForestRegressor(n_estimators=400, n_jobs=-1)\n",
    "\n",
    "rf.fit(X_train.values, y_train.values)\n",
    "y_pred = rf.predict(X_test)\n",
    "m = np.sqrt(mean_squared_error(y_test, y_pred))\n",
    "errors.append(m)\n",
    "m"
   ]
  },
  {
   "cell_type": "code",
   "execution_count": 44,
   "metadata": {},
   "outputs": [
    {
     "data": {
      "text/plain": [
       "Index(['cod_loja', 'cod_ap', 'cod_municipio', 'feature_03', 'feature_04',\n",
       "       'feature_06', 'feature_07', 'feature_08', 'feature_09', 'feature_10',\n",
       "       'feature_13', 'feature_14', 'feature_15', 'feature_16', 'feature_17',\n",
       "       'feature_18', 'FEATURE_05_VALUE_01', 'FEATURE_05_VALUE_02',\n",
       "       'FEATURE_05_VALUE_03', 'FEATURE_05_VALUE_04', 'FEATURE_05_VALUE_05',\n",
       "       'FEATURE_05_VALUE_06', 'FEATURE_05_VALUE_07', 'FEATURE_05_VALUE_08',\n",
       "       'month', 'quarter', 'year', 'cnt_feriados'],\n",
       "      dtype='object')"
      ]
     },
     "execution_count": 44,
     "metadata": {},
     "output_type": "execute_result"
    }
   ],
   "source": [
    "X_train.columns"
   ]
  },
  {
   "cell_type": "code",
   "execution_count": 45,
   "metadata": {},
   "outputs": [
    {
     "data": {
      "image/png": "[encoded data removed]",
      "text/plain": [
       "<Figure size 1440x720 with 1 Axes>"
      ]
     },
     "metadata": {},
     "output_type": "display_data"
    }
   ],
   "source": [
    "def print_feature_importances(model, cols):\n",
    "    features = cols\n",
    "    importances = model.feature_importances_\n",
    "    indices = np.argsort(importances)\n",
    "    plt.title('Feature Importances')\n",
    "    plt.barh(range(len(indices)), importances[indices], color='b', align='center')\n",
    "    plt.yticks(range(len(indices)), [features[i] for i in indices])\n",
    "    plt.xlabel('Relative Importance');\n",
    "\n",
    "plt.figure(figsize=(20,10))\n",
    "print_feature_importances(rf, X_train.columns)"
   ]
  },
  {
   "cell_type": "code",
   "execution_count": 46,
   "metadata": {},
   "outputs": [],
   "source": [
    "lojas = ljs_atual.cod_loja.unique()"
   ]
  },
  {
   "cell_type": "code",
   "execution_count": 47,
   "metadata": {},
   "outputs": [
    {
     "data": {
      "text/plain": [
       "3130"
      ]
     },
     "execution_count": 47,
     "metadata": {},
     "output_type": "execute_result"
    }
   ],
   "source": [
    "len(lojas)"
   ]
  },
  {
   "cell_type": "markdown",
   "metadata": {},
   "source": [
    "* todas as lojas:\n",
    "    - valores da loja\n",
    "    - datas tem que ser 1° trimestre de 2018\n",
    "    - preve\n",
    "    - coloca no df"
   ]
  },
  {
   "cell_type": "code",
   "execution_count": 48,
   "metadata": {},
   "outputs": [
    {
     "data": {
      "text/plain": [
       "5799"
      ]
     },
     "execution_count": 48,
     "metadata": {},
     "output_type": "execute_result"
    }
   ],
   "source": [
    "del model_df, train, test, X_train, X_test, y_train, y_test, train_df\n",
    "gc.collect()"
   ]
  },
  {
   "cell_type": "code",
   "execution_count": 76,
   "metadata": {},
   "outputs": [
    {
     "data": {
      "text/html": [
       "<div>\n",
       "<style scoped>\n",
       "    .dataframe tbody tr th:only-of-type {\n",
       "        vertical-align: middle;\n",
       "    }\n",
       "\n",
       "    .dataframe tbody tr th {\n",
       "        vertical-align: top;\n",
       "    }\n",
       "\n",
       "    .dataframe thead th {\n",
       "        text-align: right;\n",
       "    }\n",
       "</style>\n",
       "<table border=\"1\" class=\"dataframe\">\n",
       "  <thead>\n",
       "    <tr style=\"text-align: right;\">\n",
       "      <th></th>\n",
       "      <th>cod_loja</th>\n",
       "      <th>datetime</th>\n",
       "      <th>receita</th>\n",
       "      <th>qtde</th>\n",
       "      <th>cod_ap</th>\n",
       "      <th>cod_municipio</th>\n",
       "      <th>feature_01</th>\n",
       "      <th>feature_02</th>\n",
       "      <th>feature_03</th>\n",
       "      <th>feature_04</th>\n",
       "      <th>feature_05</th>\n",
       "      <th>feature_06</th>\n",
       "      <th>feature_07</th>\n",
       "      <th>feature_08</th>\n",
       "      <th>feature_09</th>\n",
       "      <th>feature_10</th>\n",
       "      <th>feature_11</th>\n",
       "      <th>feature_12</th>\n",
       "      <th>feature_13</th>\n",
       "      <th>feature_14</th>\n",
       "      <th>feature_15</th>\n",
       "      <th>feature_16</th>\n",
       "      <th>feature_17</th>\n",
       "      <th>feature_18</th>\n",
       "      <th>month</th>\n",
       "      <th>quarter</th>\n",
       "      <th>year</th>\n",
       "    </tr>\n",
       "  </thead>\n",
       "  <tbody>\n",
       "    <tr>\n",
       "      <th>0</th>\n",
       "      <td>1</td>\n",
       "      <td>2016-01-01</td>\n",
       "      <td>441833.37</td>\n",
       "      <td>13034.0</td>\n",
       "      <td>4125506005002</td>\n",
       "      <td>4125506</td>\n",
       "      <td>FEATURE_01_VALUE_10</td>\n",
       "      <td>FEATURE_02_VALUE_04</td>\n",
       "      <td>True</td>\n",
       "      <td>21.76</td>\n",
       "      <td>FEATURE_05_VALUE_04</td>\n",
       "      <td>31</td>\n",
       "      <td>0.168922</td>\n",
       "      <td>0.167659</td>\n",
       "      <td>115.958848</td>\n",
       "      <td>2.349821</td>\n",
       "      <td>FEATURE_11_VALUE_02</td>\n",
       "      <td>FEATURE_12_VALUE_01</td>\n",
       "      <td>100.0</td>\n",
       "      <td>86.9</td>\n",
       "      <td>100.0</td>\n",
       "      <td>100.0</td>\n",
       "      <td>91.1</td>\n",
       "      <td>90.5</td>\n",
       "      <td>1</td>\n",
       "      <td>1</td>\n",
       "      <td>2016</td>\n",
       "    </tr>\n",
       "    <tr>\n",
       "      <th>1</th>\n",
       "      <td>1</td>\n",
       "      <td>2016-02-01</td>\n",
       "      <td>395340.22</td>\n",
       "      <td>11411.0</td>\n",
       "      <td>4125506005002</td>\n",
       "      <td>4125506</td>\n",
       "      <td>FEATURE_01_VALUE_10</td>\n",
       "      <td>FEATURE_02_VALUE_04</td>\n",
       "      <td>True</td>\n",
       "      <td>21.76</td>\n",
       "      <td>FEATURE_05_VALUE_04</td>\n",
       "      <td>31</td>\n",
       "      <td>0.168922</td>\n",
       "      <td>0.167659</td>\n",
       "      <td>115.958848</td>\n",
       "      <td>2.349821</td>\n",
       "      <td>FEATURE_11_VALUE_02</td>\n",
       "      <td>FEATURE_12_VALUE_01</td>\n",
       "      <td>100.0</td>\n",
       "      <td>86.9</td>\n",
       "      <td>100.0</td>\n",
       "      <td>100.0</td>\n",
       "      <td>91.1</td>\n",
       "      <td>90.5</td>\n",
       "      <td>2</td>\n",
       "      <td>1</td>\n",
       "      <td>2016</td>\n",
       "    </tr>\n",
       "    <tr>\n",
       "      <th>2</th>\n",
       "      <td>1</td>\n",
       "      <td>2016-03-01</td>\n",
       "      <td>587810.18</td>\n",
       "      <td>15030.0</td>\n",
       "      <td>4125506005002</td>\n",
       "      <td>4125506</td>\n",
       "      <td>FEATURE_01_VALUE_10</td>\n",
       "      <td>FEATURE_02_VALUE_04</td>\n",
       "      <td>True</td>\n",
       "      <td>21.76</td>\n",
       "      <td>FEATURE_05_VALUE_04</td>\n",
       "      <td>31</td>\n",
       "      <td>0.168922</td>\n",
       "      <td>0.167659</td>\n",
       "      <td>115.958848</td>\n",
       "      <td>2.349821</td>\n",
       "      <td>FEATURE_11_VALUE_02</td>\n",
       "      <td>FEATURE_12_VALUE_01</td>\n",
       "      <td>100.0</td>\n",
       "      <td>86.9</td>\n",
       "      <td>100.0</td>\n",
       "      <td>100.0</td>\n",
       "      <td>91.1</td>\n",
       "      <td>90.5</td>\n",
       "      <td>3</td>\n",
       "      <td>1</td>\n",
       "      <td>2016</td>\n",
       "    </tr>\n",
       "    <tr>\n",
       "      <th>3</th>\n",
       "      <td>1</td>\n",
       "      <td>2016-04-01</td>\n",
       "      <td>534618.84</td>\n",
       "      <td>12726.0</td>\n",
       "      <td>4125506005002</td>\n",
       "      <td>4125506</td>\n",
       "      <td>FEATURE_01_VALUE_10</td>\n",
       "      <td>FEATURE_02_VALUE_04</td>\n",
       "      <td>True</td>\n",
       "      <td>21.76</td>\n",
       "      <td>FEATURE_05_VALUE_04</td>\n",
       "      <td>31</td>\n",
       "      <td>0.168922</td>\n",
       "      <td>0.167659</td>\n",
       "      <td>115.958848</td>\n",
       "      <td>2.349821</td>\n",
       "      <td>FEATURE_11_VALUE_02</td>\n",
       "      <td>FEATURE_12_VALUE_01</td>\n",
       "      <td>100.0</td>\n",
       "      <td>86.9</td>\n",
       "      <td>100.0</td>\n",
       "      <td>100.0</td>\n",
       "      <td>91.1</td>\n",
       "      <td>90.5</td>\n",
       "      <td>4</td>\n",
       "      <td>2</td>\n",
       "      <td>2016</td>\n",
       "    </tr>\n",
       "    <tr>\n",
       "      <th>4</th>\n",
       "      <td>1</td>\n",
       "      <td>2016-05-01</td>\n",
       "      <td>595477.92</td>\n",
       "      <td>13978.0</td>\n",
       "      <td>4125506005002</td>\n",
       "      <td>4125506</td>\n",
       "      <td>FEATURE_01_VALUE_10</td>\n",
       "      <td>FEATURE_02_VALUE_04</td>\n",
       "      <td>True</td>\n",
       "      <td>21.76</td>\n",
       "      <td>FEATURE_05_VALUE_04</td>\n",
       "      <td>31</td>\n",
       "      <td>0.168922</td>\n",
       "      <td>0.167659</td>\n",
       "      <td>115.958848</td>\n",
       "      <td>2.349821</td>\n",
       "      <td>FEATURE_11_VALUE_02</td>\n",
       "      <td>FEATURE_12_VALUE_01</td>\n",
       "      <td>100.0</td>\n",
       "      <td>86.9</td>\n",
       "      <td>100.0</td>\n",
       "      <td>100.0</td>\n",
       "      <td>91.1</td>\n",
       "      <td>90.5</td>\n",
       "      <td>5</td>\n",
       "      <td>2</td>\n",
       "      <td>2016</td>\n",
       "    </tr>\n",
       "    <tr>\n",
       "      <th>...</th>\n",
       "      <td>...</td>\n",
       "      <td>...</td>\n",
       "      <td>...</td>\n",
       "      <td>...</td>\n",
       "      <td>...</td>\n",
       "      <td>...</td>\n",
       "      <td>...</td>\n",
       "      <td>...</td>\n",
       "      <td>...</td>\n",
       "      <td>...</td>\n",
       "      <td>...</td>\n",
       "      <td>...</td>\n",
       "      <td>...</td>\n",
       "      <td>...</td>\n",
       "      <td>...</td>\n",
       "      <td>...</td>\n",
       "      <td>...</td>\n",
       "      <td>...</td>\n",
       "      <td>...</td>\n",
       "      <td>...</td>\n",
       "      <td>...</td>\n",
       "      <td>...</td>\n",
       "      <td>...</td>\n",
       "      <td>...</td>\n",
       "      <td>...</td>\n",
       "      <td>...</td>\n",
       "      <td>...</td>\n",
       "    </tr>\n",
       "    <tr>\n",
       "      <th>73639</th>\n",
       "      <td>3687</td>\n",
       "      <td>2017-08-01</td>\n",
       "      <td>71171.48</td>\n",
       "      <td>1864.0</td>\n",
       "      <td>4211702001001</td>\n",
       "      <td>4211702</td>\n",
       "      <td>FEATURE_01_VALUE_10</td>\n",
       "      <td>FEATURE_02_VALUE_04</td>\n",
       "      <td>False</td>\n",
       "      <td>26.50</td>\n",
       "      <td>FEATURE_05_VALUE_03</td>\n",
       "      <td>2</td>\n",
       "      <td>0.199854</td>\n",
       "      <td>0.193531</td>\n",
       "      <td>7.701540</td>\n",
       "      <td>4.454541</td>\n",
       "      <td>FEATURE_11_VALUE_02</td>\n",
       "      <td>FEATURE_12_VALUE_01</td>\n",
       "      <td>100.0</td>\n",
       "      <td>86.9</td>\n",
       "      <td>100.0</td>\n",
       "      <td>100.0</td>\n",
       "      <td>91.1</td>\n",
       "      <td>90.5</td>\n",
       "      <td>8</td>\n",
       "      <td>3</td>\n",
       "      <td>2017</td>\n",
       "    </tr>\n",
       "    <tr>\n",
       "      <th>73640</th>\n",
       "      <td>3687</td>\n",
       "      <td>2017-09-01</td>\n",
       "      <td>48284.66</td>\n",
       "      <td>1257.0</td>\n",
       "      <td>4211702001001</td>\n",
       "      <td>4211702</td>\n",
       "      <td>FEATURE_01_VALUE_10</td>\n",
       "      <td>FEATURE_02_VALUE_04</td>\n",
       "      <td>False</td>\n",
       "      <td>26.50</td>\n",
       "      <td>FEATURE_05_VALUE_03</td>\n",
       "      <td>2</td>\n",
       "      <td>0.199854</td>\n",
       "      <td>0.193531</td>\n",
       "      <td>7.701540</td>\n",
       "      <td>4.454541</td>\n",
       "      <td>FEATURE_11_VALUE_02</td>\n",
       "      <td>FEATURE_12_VALUE_01</td>\n",
       "      <td>100.0</td>\n",
       "      <td>86.9</td>\n",
       "      <td>100.0</td>\n",
       "      <td>100.0</td>\n",
       "      <td>91.1</td>\n",
       "      <td>90.5</td>\n",
       "      <td>9</td>\n",
       "      <td>3</td>\n",
       "      <td>2017</td>\n",
       "    </tr>\n",
       "    <tr>\n",
       "      <th>73641</th>\n",
       "      <td>3687</td>\n",
       "      <td>2017-10-01</td>\n",
       "      <td>61198.10</td>\n",
       "      <td>1709.0</td>\n",
       "      <td>4211702001001</td>\n",
       "      <td>4211702</td>\n",
       "      <td>FEATURE_01_VALUE_10</td>\n",
       "      <td>FEATURE_02_VALUE_04</td>\n",
       "      <td>False</td>\n",
       "      <td>26.50</td>\n",
       "      <td>FEATURE_05_VALUE_03</td>\n",
       "      <td>2</td>\n",
       "      <td>0.199854</td>\n",
       "      <td>0.193531</td>\n",
       "      <td>7.701540</td>\n",
       "      <td>4.454541</td>\n",
       "      <td>FEATURE_11_VALUE_02</td>\n",
       "      <td>FEATURE_12_VALUE_01</td>\n",
       "      <td>100.0</td>\n",
       "      <td>86.9</td>\n",
       "      <td>100.0</td>\n",
       "      <td>100.0</td>\n",
       "      <td>91.1</td>\n",
       "      <td>90.5</td>\n",
       "      <td>10</td>\n",
       "      <td>4</td>\n",
       "      <td>2017</td>\n",
       "    </tr>\n",
       "    <tr>\n",
       "      <th>73642</th>\n",
       "      <td>3687</td>\n",
       "      <td>2017-11-01</td>\n",
       "      <td>73877.02</td>\n",
       "      <td>2039.0</td>\n",
       "      <td>4211702001001</td>\n",
       "      <td>4211702</td>\n",
       "      <td>FEATURE_01_VALUE_10</td>\n",
       "      <td>FEATURE_02_VALUE_04</td>\n",
       "      <td>False</td>\n",
       "      <td>26.50</td>\n",
       "      <td>FEATURE_05_VALUE_03</td>\n",
       "      <td>2</td>\n",
       "      <td>0.199854</td>\n",
       "      <td>0.193531</td>\n",
       "      <td>7.701540</td>\n",
       "      <td>4.454541</td>\n",
       "      <td>FEATURE_11_VALUE_02</td>\n",
       "      <td>FEATURE_12_VALUE_01</td>\n",
       "      <td>100.0</td>\n",
       "      <td>86.9</td>\n",
       "      <td>100.0</td>\n",
       "      <td>100.0</td>\n",
       "      <td>91.1</td>\n",
       "      <td>90.5</td>\n",
       "      <td>11</td>\n",
       "      <td>4</td>\n",
       "      <td>2017</td>\n",
       "    </tr>\n",
       "    <tr>\n",
       "      <th>73643</th>\n",
       "      <td>3687</td>\n",
       "      <td>2017-12-01</td>\n",
       "      <td>186545.24</td>\n",
       "      <td>4398.0</td>\n",
       "      <td>4211702001001</td>\n",
       "      <td>4211702</td>\n",
       "      <td>FEATURE_01_VALUE_10</td>\n",
       "      <td>FEATURE_02_VALUE_04</td>\n",
       "      <td>False</td>\n",
       "      <td>26.50</td>\n",
       "      <td>FEATURE_05_VALUE_03</td>\n",
       "      <td>2</td>\n",
       "      <td>0.199854</td>\n",
       "      <td>0.193531</td>\n",
       "      <td>7.701540</td>\n",
       "      <td>4.454541</td>\n",
       "      <td>FEATURE_11_VALUE_02</td>\n",
       "      <td>FEATURE_12_VALUE_01</td>\n",
       "      <td>100.0</td>\n",
       "      <td>86.9</td>\n",
       "      <td>100.0</td>\n",
       "      <td>100.0</td>\n",
       "      <td>91.1</td>\n",
       "      <td>90.5</td>\n",
       "      <td>12</td>\n",
       "      <td>4</td>\n",
       "      <td>2017</td>\n",
       "    </tr>\n",
       "  </tbody>\n",
       "</table>\n",
       "<p>73644 rows × 27 columns</p>\n",
       "</div>"
      ],
      "text/plain": [
       "       cod_loja   datetime    receita     qtde         cod_ap  cod_municipio  \\\n",
       "0             1 2016-01-01  441833.37  13034.0  4125506005002        4125506   \n",
       "1             1 2016-02-01  395340.22  11411.0  4125506005002        4125506   \n",
       "2             1 2016-03-01  587810.18  15030.0  4125506005002        4125506   \n",
       "3             1 2016-04-01  534618.84  12726.0  4125506005002        4125506   \n",
       "4             1 2016-05-01  595477.92  13978.0  4125506005002        4125506   \n",
       "...         ...        ...        ...      ...            ...            ...   \n",
       "73639      3687 2017-08-01   71171.48   1864.0  4211702001001        4211702   \n",
       "73640      3687 2017-09-01   48284.66   1257.0  4211702001001        4211702   \n",
       "73641      3687 2017-10-01   61198.10   1709.0  4211702001001        4211702   \n",
       "73642      3687 2017-11-01   73877.02   2039.0  4211702001001        4211702   \n",
       "73643      3687 2017-12-01  186545.24   4398.0  4211702001001        4211702   \n",
       "\n",
       "                feature_01           feature_02  feature_03  feature_04  \\\n",
       "0      FEATURE_01_VALUE_10  FEATURE_02_VALUE_04        True       21.76   \n",
       "1      FEATURE_01_VALUE_10  FEATURE_02_VALUE_04        True       21.76   \n",
       "2      FEATURE_01_VALUE_10  FEATURE_02_VALUE_04        True       21.76   \n",
       "3      FEATURE_01_VALUE_10  FEATURE_02_VALUE_04        True       21.76   \n",
       "4      FEATURE_01_VALUE_10  FEATURE_02_VALUE_04        True       21.76   \n",
       "...                    ...                  ...         ...         ...   \n",
       "73639  FEATURE_01_VALUE_10  FEATURE_02_VALUE_04       False       26.50   \n",
       "73640  FEATURE_01_VALUE_10  FEATURE_02_VALUE_04       False       26.50   \n",
       "73641  FEATURE_01_VALUE_10  FEATURE_02_VALUE_04       False       26.50   \n",
       "73642  FEATURE_01_VALUE_10  FEATURE_02_VALUE_04       False       26.50   \n",
       "73643  FEATURE_01_VALUE_10  FEATURE_02_VALUE_04       False       26.50   \n",
       "\n",
       "                feature_05  feature_06  feature_07  feature_08  feature_09  \\\n",
       "0      FEATURE_05_VALUE_04          31    0.168922    0.167659  115.958848   \n",
       "1      FEATURE_05_VALUE_04          31    0.168922    0.167659  115.958848   \n",
       "2      FEATURE_05_VALUE_04          31    0.168922    0.167659  115.958848   \n",
       "3      FEATURE_05_VALUE_04          31    0.168922    0.167659  115.958848   \n",
       "4      FEATURE_05_VALUE_04          31    0.168922    0.167659  115.958848   \n",
       "...                    ...         ...         ...         ...         ...   \n",
       "73639  FEATURE_05_VALUE_03           2    0.199854    0.193531    7.701540   \n",
       "73640  FEATURE_05_VALUE_03           2    0.199854    0.193531    7.701540   \n",
       "73641  FEATURE_05_VALUE_03           2    0.199854    0.193531    7.701540   \n",
       "73642  FEATURE_05_VALUE_03           2    0.199854    0.193531    7.701540   \n",
       "73643  FEATURE_05_VALUE_03           2    0.199854    0.193531    7.701540   \n",
       "\n",
       "       feature_10           feature_11           feature_12  feature_13  \\\n",
       "0        2.349821  FEATURE_11_VALUE_02  FEATURE_12_VALUE_01       100.0   \n",
       "1        2.349821  FEATURE_11_VALUE_02  FEATURE_12_VALUE_01       100.0   \n",
       "2        2.349821  FEATURE_11_VALUE_02  FEATURE_12_VALUE_01       100.0   \n",
       "3        2.349821  FEATURE_11_VALUE_02  FEATURE_12_VALUE_01       100.0   \n",
       "4        2.349821  FEATURE_11_VALUE_02  FEATURE_12_VALUE_01       100.0   \n",
       "...           ...                  ...                  ...         ...   \n",
       "73639    4.454541  FEATURE_11_VALUE_02  FEATURE_12_VALUE_01       100.0   \n",
       "73640    4.454541  FEATURE_11_VALUE_02  FEATURE_12_VALUE_01       100.0   \n",
       "73641    4.454541  FEATURE_11_VALUE_02  FEATURE_12_VALUE_01       100.0   \n",
       "73642    4.454541  FEATURE_11_VALUE_02  FEATURE_12_VALUE_01       100.0   \n",
       "73643    4.454541  FEATURE_11_VALUE_02  FEATURE_12_VALUE_01       100.0   \n",
       "\n",
       "       feature_14  feature_15  feature_16  feature_17  feature_18  month  \\\n",
       "0            86.9       100.0       100.0        91.1        90.5      1   \n",
       "1            86.9       100.0       100.0        91.1        90.5      2   \n",
       "2            86.9       100.0       100.0        91.1        90.5      3   \n",
       "3            86.9       100.0       100.0        91.1        90.5      4   \n",
       "4            86.9       100.0       100.0        91.1        90.5      5   \n",
       "...           ...         ...         ...         ...         ...    ...   \n",
       "73639        86.9       100.0       100.0        91.1        90.5      8   \n",
       "73640        86.9       100.0       100.0        91.1        90.5      9   \n",
       "73641        86.9       100.0       100.0        91.1        90.5     10   \n",
       "73642        86.9       100.0       100.0        91.1        90.5     11   \n",
       "73643        86.9       100.0       100.0        91.1        90.5     12   \n",
       "\n",
       "       quarter  year  \n",
       "0            1  2016  \n",
       "1            1  2016  \n",
       "2            1  2016  \n",
       "3            2  2016  \n",
       "4            2  2016  \n",
       "...        ...   ...  \n",
       "73639        3  2017  \n",
       "73640        3  2017  \n",
       "73641        4  2017  \n",
       "73642        4  2017  \n",
       "73643        4  2017  \n",
       "\n",
       "[73644 rows x 27 columns]"
      ]
     },
     "execution_count": 76,
     "metadata": {},
     "output_type": "execute_result"
    }
   ],
   "source": [
    "model_df"
   ]
  },
  {
   "cell_type": "code",
   "execution_count": 86,
   "metadata": {},
   "outputs": [
    {
     "data": {
      "text/plain": [
       "[]"
      ]
     },
     "execution_count": 86,
     "metadata": {},
     "output_type": "execute_result"
    }
   ],
   "source": [
    "preds"
   ]
  },
  {
   "cell_type": "markdown",
   "metadata": {},
   "source": [
    "# Submission"
   ]
  },
  {
   "cell_type": "code",
   "execution_count": 87,
   "metadata": {},
   "outputs": [
    {
     "name": "stdout",
     "output_type": "stream",
     "text": [
      "3130\n"
     ]
    }
   ],
   "source": [
    "'''\n",
    "# copy df_fat_mes\n",
    "train_df = df_fat_mes\n",
    "\n",
    "print(train_df.cod_loja.nunique())\n",
    "\n",
    "# get cols with nans\n",
    "has_na_cols = list()\n",
    "for col in train_df.columns:\n",
    "    if train_df[col].isnull().values.any():\n",
    "        has_na_cols.append(col)\n",
    "# input values\n",
    "for na_col in has_na_cols:\n",
    "    if train_df[na_col].dtype == object:\n",
    "        print(train_df[na_col].mode()[0])\n",
    "        train_df[na_col].fillna(train_df[na_col].mode()[0], inplace=True)\n",
    "    else:\n",
    "        train_df[na_col].fillna(train_df[na_col].median(), inplace=True)\n",
    "\n",
    "# get cols for model\n",
    "cols = train_df.columns\n",
    "model_df = train_df[cols]\n",
    "model_df[\"month\"] = model_df[\"datetime\"].dt.month\n",
    "model_df[\"quarter\"] = model_df[\"datetime\"].dt.quarter\n",
    "model_df[\"year\"] = model_df[\"datetime\"].dt.year\n",
    "\n",
    "# get str and unused cols\n",
    "str_cols = list()\n",
    "for col in model_df.columns.values.tolist():\n",
    "    if model_df[col].dtype == object:\n",
    "        str_cols.append(col)\n",
    "str_cols.append('datetime') \n",
    "str_cols.append('receita')\n",
    "str_cols.append('qtde')\n",
    "\n",
    "# train test split\n",
    "train = model_df[~model_df[\"datetime\"].isin([date(2017,10,1), date(2017,11,1), date(2017,12,1)])]\n",
    "test = model_df[model_df[\"datetime\"].isin([date(2017,10,1), date(2017,11,1), date(2017,12,1)])]\n",
    "\n",
    "print(model_df.cod_loja.nunique())\n",
    "'''\n",
    "\n",
    "# X_train = train.drop(str_cols, axis=1)\n",
    "# y_train = train[\"receita\"]\n",
    "# X_test = test.drop(str_cols, axis=1)\n",
    "# y_test = test[\"receita\"]\n",
    "\n",
    "# predict\n",
    "train_cols = X_train.columns.values.tolist()\n",
    "preds = []\n",
    "i = 0\n",
    "for loja in lojas:\n",
    "    Xloja = model_df[model_df.cod_loja == loja][:1]\n",
    "    i += 1\n",
    "    Xloja = Xloja[train_cols]\n",
    "    Xloja = pd.DataFrame(Xloja.values.tolist()*3, columns=Xloja.columns)\n",
    "    Xloja.month = pd.Series([1,2,3]).values\n",
    "    Xloja.quarter = pd.Series([1,1,1]).values\n",
    "    Xloja.year = pd.Series([2018,2018,2018]).values\n",
    "    yhat = rf.predict(Xloja)\n",
    "    preds.append((loja, yhat))\n",
    "print(i)"
   ]
  },
  {
   "cell_type": "code",
   "execution_count": 88,
   "metadata": {},
   "outputs": [
    {
     "data": {
      "text/plain": [
       "3130"
      ]
     },
     "execution_count": 88,
     "metadata": {},
     "output_type": "execute_result"
    }
   ],
   "source": [
    "submission = pd.DataFrame({'cod_loja': [i[0] for i in preds], 'faturamento': [np.mean(i[1]) for i in preds]})\n",
    "submission.cod_loja.nunique()"
   ]
  },
  {
   "cell_type": "code",
   "execution_count": 89,
   "metadata": {},
   "outputs": [],
   "source": [
    "submission.to_csv(my_data + 'desafio_1.csv', index=False, sep=';')"
   ]
  },
  {
   "cell_type": "code",
   "execution_count": null,
   "metadata": {},
   "outputs": [],
   "source": []
  }
 ],
 "metadata": {
  "kernelspec": {
   "display_name": "Python 3",
   "language": "python",
   "name": "python3"
  },
  "language_info": {
   "codemirror_mode": {
    "name": "ipython",
    "version": 3
   },
   "file_extension": ".py",
   "mimetype": "text/x-python",
   "name": "python",
   "nbconvert_exporter": "python",
   "pygments_lexer": "ipython3",
   "version": "3.8.6"
  }
 },
 "nbformat": 4,
 "nbformat_minor": 4
}
