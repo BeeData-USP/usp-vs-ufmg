{
 "cells": [
  {
   "cell_type": "code",
   "execution_count": 1,
   "metadata": {},
   "outputs": [],
   "source": [
    "%store -r import_all_libs"
   ]
  },
  {
   "cell_type": "code",
   "execution_count": 2,
   "metadata": {},
   "outputs": [],
   "source": [
    "import_all_libs"
   ]
  },
  {
   "cell_type": "code",
   "execution_count": 40,
   "metadata": {},
   "outputs": [],
   "source": [
    "from datetime import date\n",
    "import gc\n",
    "from sklearn.cluster import KMeans, SpectralClustering\n",
    "from sklearn.metrics import silhouette_score\n",
    "from tqdm import tqdm"
   ]
  },
  {
   "cell_type": "code",
   "execution_count": 33,
   "metadata": {},
   "outputs": [],
   "source": [
    "cen_exp = pd.read_csv('/home/tuts/datasets/uspvsufmg/cenarios_expansao.csv')\n",
    "ljs_atuais = pd.read_csv('/home/tuts/datasets/uspvsufmg/lojas_atuais.csv')\n",
    "\n",
    "ibge = pd.read_excel('../ikeda/data/ibge.xls')"
   ]
  },
  {
   "cell_type": "code",
   "execution_count": 5,
   "metadata": {},
   "outputs": [
    {
     "data": {
      "text/html": [
       "<div>\n",
       "<style scoped>\n",
       "    .dataframe tbody tr th:only-of-type {\n",
       "        vertical-align: middle;\n",
       "    }\n",
       "\n",
       "    .dataframe tbody tr th {\n",
       "        vertical-align: top;\n",
       "    }\n",
       "\n",
       "    .dataframe thead th {\n",
       "        text-align: right;\n",
       "    }\n",
       "</style>\n",
       "<table border=\"1\" class=\"dataframe\">\n",
       "  <thead>\n",
       "    <tr style=\"text-align: right;\">\n",
       "      <th></th>\n",
       "      <th>UF</th>\n",
       "      <th>Nome_UF</th>\n",
       "      <th>Mesorregião Geográfica</th>\n",
       "      <th>Nome_Mesorregião</th>\n",
       "      <th>Microrregião Geográfica</th>\n",
       "      <th>Nome_Microrregião</th>\n",
       "      <th>Município</th>\n",
       "      <th>Código Município Completo</th>\n",
       "      <th>Nome_Município</th>\n",
       "    </tr>\n",
       "  </thead>\n",
       "  <tbody>\n",
       "    <tr>\n",
       "      <th>0</th>\n",
       "      <td>11</td>\n",
       "      <td>Rondônia</td>\n",
       "      <td>2</td>\n",
       "      <td>Leste Rondoniense</td>\n",
       "      <td>6</td>\n",
       "      <td>Cacoal</td>\n",
       "      <td>15</td>\n",
       "      <td>1100015</td>\n",
       "      <td>Alta Floresta D'Oeste</td>\n",
       "    </tr>\n",
       "    <tr>\n",
       "      <th>1</th>\n",
       "      <td>11</td>\n",
       "      <td>Rondônia</td>\n",
       "      <td>2</td>\n",
       "      <td>Leste Rondoniense</td>\n",
       "      <td>6</td>\n",
       "      <td>Cacoal</td>\n",
       "      <td>379</td>\n",
       "      <td>1100379</td>\n",
       "      <td>Alto Alegre dos Parecis</td>\n",
       "    </tr>\n",
       "    <tr>\n",
       "      <th>2</th>\n",
       "      <td>11</td>\n",
       "      <td>Rondônia</td>\n",
       "      <td>2</td>\n",
       "      <td>Leste Rondoniense</td>\n",
       "      <td>3</td>\n",
       "      <td>Ariquemes</td>\n",
       "      <td>403</td>\n",
       "      <td>1100403</td>\n",
       "      <td>Alto Paraíso</td>\n",
       "    </tr>\n",
       "    <tr>\n",
       "      <th>3</th>\n",
       "      <td>11</td>\n",
       "      <td>Rondônia</td>\n",
       "      <td>2</td>\n",
       "      <td>Leste Rondoniense</td>\n",
       "      <td>5</td>\n",
       "      <td>Alvorada D'Oeste</td>\n",
       "      <td>346</td>\n",
       "      <td>1100346</td>\n",
       "      <td>Alvorada D'Oeste</td>\n",
       "    </tr>\n",
       "    <tr>\n",
       "      <th>4</th>\n",
       "      <td>11</td>\n",
       "      <td>Rondônia</td>\n",
       "      <td>2</td>\n",
       "      <td>Leste Rondoniense</td>\n",
       "      <td>3</td>\n",
       "      <td>Ariquemes</td>\n",
       "      <td>23</td>\n",
       "      <td>1100023</td>\n",
       "      <td>Ariquemes</td>\n",
       "    </tr>\n",
       "  </tbody>\n",
       "</table>\n",
       "</div>"
      ],
      "text/plain": [
       "   UF   Nome_UF  Mesorregião Geográfica   Nome_Mesorregião  \\\n",
       "0  11  Rondônia                       2  Leste Rondoniense   \n",
       "1  11  Rondônia                       2  Leste Rondoniense   \n",
       "2  11  Rondônia                       2  Leste Rondoniense   \n",
       "3  11  Rondônia                       2  Leste Rondoniense   \n",
       "4  11  Rondônia                       2  Leste Rondoniense   \n",
       "\n",
       "   Microrregião Geográfica Nome_Microrregião  Município  \\\n",
       "0                        6            Cacoal         15   \n",
       "1                        6            Cacoal        379   \n",
       "2                        3         Ariquemes        403   \n",
       "3                        5  Alvorada D'Oeste        346   \n",
       "4                        3         Ariquemes         23   \n",
       "\n",
       "   Código Município Completo           Nome_Município  \n",
       "0                    1100015    Alta Floresta D'Oeste  \n",
       "1                    1100379  Alto Alegre dos Parecis  \n",
       "2                    1100403             Alto Paraíso  \n",
       "3                    1100346         Alvorada D'Oeste  \n",
       "4                    1100023                Ariquemes  "
      ]
     },
     "execution_count": 5,
     "metadata": {},
     "output_type": "execute_result"
    }
   ],
   "source": [
    "ibge.head()"
   ]
  },
  {
   "cell_type": "code",
   "execution_count": 6,
   "metadata": {},
   "outputs": [
    {
     "data": {
      "text/plain": [
       "(5570, 9)"
      ]
     },
     "execution_count": 6,
     "metadata": {},
     "output_type": "execute_result"
    }
   ],
   "source": [
    "ibge.shape"
   ]
  },
  {
   "cell_type": "code",
   "execution_count": 7,
   "metadata": {},
   "outputs": [
    {
     "data": {
      "text/plain": [
       "4     274\n",
       "1     268\n",
       "3     262\n",
       "10    240\n",
       "2     240\n",
       "     ... \n",
       "49     16\n",
       "59     15\n",
       "66     14\n",
       "42     14\n",
       "45     12\n",
       "Name: Microrregião Geográfica, Length: 66, dtype: int64"
      ]
     },
     "execution_count": 7,
     "metadata": {},
     "output_type": "execute_result"
    }
   ],
   "source": [
    "ibge['Microrregião Geográfica'].value_counts()"
   ]
  },
  {
   "cell_type": "code",
   "execution_count": 8,
   "metadata": {},
   "outputs": [
    {
     "data": {
      "text/plain": [
       "1209     4\n",
       "3007     4\n",
       "2504     4\n",
       "807      4\n",
       "609      4\n",
       "        ..\n",
       "12456    1\n",
       "9159     1\n",
       "15304    1\n",
       "4260     1\n",
       "22525    1\n",
       "Name: Município, Length: 4307, dtype: int64"
      ]
     },
     "execution_count": 8,
     "metadata": {},
     "output_type": "execute_result"
    }
   ],
   "source": [
    "ibge['Município'].value_counts()"
   ]
  },
  {
   "cell_type": "code",
   "execution_count": 9,
   "metadata": {},
   "outputs": [
    {
     "data": {
      "text/html": [
       "<div>\n",
       "<style scoped>\n",
       "    .dataframe tbody tr th:only-of-type {\n",
       "        vertical-align: middle;\n",
       "    }\n",
       "\n",
       "    .dataframe tbody tr th {\n",
       "        vertical-align: top;\n",
       "    }\n",
       "\n",
       "    .dataframe thead th {\n",
       "        text-align: right;\n",
       "    }\n",
       "</style>\n",
       "<table border=\"1\" class=\"dataframe\">\n",
       "  <thead>\n",
       "    <tr style=\"text-align: right;\">\n",
       "      <th></th>\n",
       "      <th>cod_loja</th>\n",
       "      <th>cod_ap</th>\n",
       "      <th>cod_municipio</th>\n",
       "      <th>feature_01</th>\n",
       "      <th>feature_02</th>\n",
       "      <th>feature_03</th>\n",
       "      <th>feature_04</th>\n",
       "      <th>feature_05</th>\n",
       "      <th>feature_06</th>\n",
       "      <th>feature_07</th>\n",
       "      <th>feature_08</th>\n",
       "      <th>feature_09</th>\n",
       "      <th>feature_10</th>\n",
       "      <th>feature_11</th>\n",
       "      <th>feature_12</th>\n",
       "      <th>feature_13</th>\n",
       "      <th>feature_14</th>\n",
       "      <th>feature_15</th>\n",
       "      <th>feature_16</th>\n",
       "      <th>feature_17</th>\n",
       "      <th>feature_18</th>\n",
       "    </tr>\n",
       "  </thead>\n",
       "  <tbody>\n",
       "    <tr>\n",
       "      <th>0</th>\n",
       "      <td>10</td>\n",
       "      <td>2933307005008</td>\n",
       "      <td>2933307</td>\n",
       "      <td>FEATURE_01_VALUE_08</td>\n",
       "      <td>FEATURE_02_VALUE_02</td>\n",
       "      <td>False</td>\n",
       "      <td>50.00</td>\n",
       "      <td>FEATURE_05_VALUE_03</td>\n",
       "      <td>6</td>\n",
       "      <td>0.13</td>\n",
       "      <td>0.13</td>\n",
       "      <td>116.19</td>\n",
       "      <td>2.91</td>\n",
       "      <td>FEATURE_11_VALUE_01</td>\n",
       "      <td>FEATURE_12_VALUE_01</td>\n",
       "      <td>100.00</td>\n",
       "      <td>93.40</td>\n",
       "      <td>100.00</td>\n",
       "      <td>100.00</td>\n",
       "      <td>71.70</td>\n",
       "      <td>88.80</td>\n",
       "    </tr>\n",
       "    <tr>\n",
       "      <th>1</th>\n",
       "      <td>13</td>\n",
       "      <td>2916401003002</td>\n",
       "      <td>2916401</td>\n",
       "      <td>FEATURE_01_VALUE_10</td>\n",
       "      <td>FEATURE_02_VALUE_04</td>\n",
       "      <td>False</td>\n",
       "      <td>41.00</td>\n",
       "      <td>FEATURE_05_VALUE_03</td>\n",
       "      <td>4</td>\n",
       "      <td>0.12</td>\n",
       "      <td>0.11</td>\n",
       "      <td>26.35</td>\n",
       "      <td>1.31</td>\n",
       "      <td>NaN</td>\n",
       "      <td>NaN</td>\n",
       "      <td>84.30</td>\n",
       "      <td>77.50</td>\n",
       "      <td>100.00</td>\n",
       "      <td>100.00</td>\n",
       "      <td>63.50</td>\n",
       "      <td>78.80</td>\n",
       "    </tr>\n",
       "    <tr>\n",
       "      <th>2</th>\n",
       "      <td>16</td>\n",
       "      <td>2928703003003</td>\n",
       "      <td>2928703</td>\n",
       "      <td>NaN</td>\n",
       "      <td>FEATURE_02_VALUE_04</td>\n",
       "      <td>False</td>\n",
       "      <td>42.12</td>\n",
       "      <td>FEATURE_05_VALUE_05</td>\n",
       "      <td>2</td>\n",
       "      <td>0.10</td>\n",
       "      <td>0.09</td>\n",
       "      <td>35.36</td>\n",
       "      <td>1.97</td>\n",
       "      <td>NaN</td>\n",
       "      <td>NaN</td>\n",
       "      <td>nan</td>\n",
       "      <td>nan</td>\n",
       "      <td>nan</td>\n",
       "      <td>nan</td>\n",
       "      <td>nan</td>\n",
       "      <td>nan</td>\n",
       "    </tr>\n",
       "    <tr>\n",
       "      <th>3</th>\n",
       "      <td>21</td>\n",
       "      <td>2906006003001</td>\n",
       "      <td>2906006</td>\n",
       "      <td>NaN</td>\n",
       "      <td>FEATURE_02_VALUE_04</td>\n",
       "      <td>False</td>\n",
       "      <td>30.00</td>\n",
       "      <td>FEATURE_05_VALUE_03</td>\n",
       "      <td>6</td>\n",
       "      <td>0.13</td>\n",
       "      <td>0.13</td>\n",
       "      <td>9.86</td>\n",
       "      <td>1.38</td>\n",
       "      <td>NaN</td>\n",
       "      <td>NaN</td>\n",
       "      <td>85.00</td>\n",
       "      <td>76.90</td>\n",
       "      <td>100.00</td>\n",
       "      <td>100.00</td>\n",
       "      <td>100.00</td>\n",
       "      <td>92.90</td>\n",
       "    </tr>\n",
       "    <tr>\n",
       "      <th>4</th>\n",
       "      <td>28</td>\n",
       "      <td>3550308005058</td>\n",
       "      <td>3550308</td>\n",
       "      <td>FEATURE_01_VALUE_10</td>\n",
       "      <td>FEATURE_02_VALUE_02</td>\n",
       "      <td>True</td>\n",
       "      <td>44.31</td>\n",
       "      <td>FEATURE_05_VALUE_03</td>\n",
       "      <td>8</td>\n",
       "      <td>0.19</td>\n",
       "      <td>0.18</td>\n",
       "      <td>5593.91</td>\n",
       "      <td>2.82</td>\n",
       "      <td>FEATURE_11_VALUE_02</td>\n",
       "      <td>FEATURE_12_VALUE_01</td>\n",
       "      <td>nan</td>\n",
       "      <td>nan</td>\n",
       "      <td>nan</td>\n",
       "      <td>nan</td>\n",
       "      <td>nan</td>\n",
       "      <td>nan</td>\n",
       "    </tr>\n",
       "  </tbody>\n",
       "</table>\n",
       "</div>"
      ],
      "text/plain": [
       "   cod_loja         cod_ap  cod_municipio           feature_01  \\\n",
       "0        10  2933307005008        2933307  FEATURE_01_VALUE_08   \n",
       "1        13  2916401003002        2916401  FEATURE_01_VALUE_10   \n",
       "2        16  2928703003003        2928703                  NaN   \n",
       "3        21  2906006003001        2906006                  NaN   \n",
       "4        28  3550308005058        3550308  FEATURE_01_VALUE_10   \n",
       "\n",
       "            feature_02  feature_03  feature_04           feature_05  \\\n",
       "0  FEATURE_02_VALUE_02       False       50.00  FEATURE_05_VALUE_03   \n",
       "1  FEATURE_02_VALUE_04       False       41.00  FEATURE_05_VALUE_03   \n",
       "2  FEATURE_02_VALUE_04       False       42.12  FEATURE_05_VALUE_05   \n",
       "3  FEATURE_02_VALUE_04       False       30.00  FEATURE_05_VALUE_03   \n",
       "4  FEATURE_02_VALUE_02        True       44.31  FEATURE_05_VALUE_03   \n",
       "\n",
       "   feature_06  feature_07  feature_08  feature_09  feature_10  \\\n",
       "0           6        0.13        0.13      116.19        2.91   \n",
       "1           4        0.12        0.11       26.35        1.31   \n",
       "2           2        0.10        0.09       35.36        1.97   \n",
       "3           6        0.13        0.13        9.86        1.38   \n",
       "4           8        0.19        0.18     5593.91        2.82   \n",
       "\n",
       "            feature_11           feature_12  feature_13  feature_14  \\\n",
       "0  FEATURE_11_VALUE_01  FEATURE_12_VALUE_01      100.00       93.40   \n",
       "1                  NaN                  NaN       84.30       77.50   \n",
       "2                  NaN                  NaN         nan         nan   \n",
       "3                  NaN                  NaN       85.00       76.90   \n",
       "4  FEATURE_11_VALUE_02  FEATURE_12_VALUE_01         nan         nan   \n",
       "\n",
       "   feature_15  feature_16  feature_17  feature_18  \n",
       "0      100.00      100.00       71.70       88.80  \n",
       "1      100.00      100.00       63.50       78.80  \n",
       "2         nan         nan         nan         nan  \n",
       "3      100.00      100.00      100.00       92.90  \n",
       "4         nan         nan         nan         nan  "
      ]
     },
     "execution_count": 9,
     "metadata": {},
     "output_type": "execute_result"
    }
   ],
   "source": [
    "cen_exp.head()"
   ]
  },
  {
   "cell_type": "code",
   "execution_count": 10,
   "metadata": {},
   "outputs": [
    {
     "data": {
      "text/plain": [
       "(553, 21)"
      ]
     },
     "execution_count": 10,
     "metadata": {},
     "output_type": "execute_result"
    }
   ],
   "source": [
    "cen_exp.shape"
   ]
  },
  {
   "cell_type": "code",
   "execution_count": 11,
   "metadata": {},
   "outputs": [],
   "source": [
    "ibge.rename(columns={'Código Município Completo': 'cod_municipio'}, inplace=True)"
   ]
  },
  {
   "cell_type": "code",
   "execution_count": 12,
   "metadata": {},
   "outputs": [
    {
     "data": {
      "text/html": [
       "<div>\n",
       "<style scoped>\n",
       "    .dataframe tbody tr th:only-of-type {\n",
       "        vertical-align: middle;\n",
       "    }\n",
       "\n",
       "    .dataframe tbody tr th {\n",
       "        vertical-align: top;\n",
       "    }\n",
       "\n",
       "    .dataframe thead th {\n",
       "        text-align: right;\n",
       "    }\n",
       "</style>\n",
       "<table border=\"1\" class=\"dataframe\">\n",
       "  <thead>\n",
       "    <tr style=\"text-align: right;\">\n",
       "      <th></th>\n",
       "      <th>cod_loja</th>\n",
       "      <th>cod_ap</th>\n",
       "      <th>cod_municipio</th>\n",
       "      <th>feature_01</th>\n",
       "      <th>feature_02</th>\n",
       "      <th>feature_03</th>\n",
       "      <th>feature_04</th>\n",
       "      <th>feature_05</th>\n",
       "      <th>feature_06</th>\n",
       "      <th>feature_07</th>\n",
       "      <th>feature_08</th>\n",
       "      <th>feature_09</th>\n",
       "      <th>feature_10</th>\n",
       "      <th>feature_11</th>\n",
       "      <th>feature_12</th>\n",
       "      <th>feature_13</th>\n",
       "      <th>feature_14</th>\n",
       "      <th>feature_15</th>\n",
       "      <th>feature_16</th>\n",
       "      <th>feature_17</th>\n",
       "      <th>feature_18</th>\n",
       "      <th>UF</th>\n",
       "      <th>Nome_UF</th>\n",
       "      <th>Mesorregião Geográfica</th>\n",
       "      <th>Nome_Mesorregião</th>\n",
       "      <th>Microrregião Geográfica</th>\n",
       "      <th>Nome_Microrregião</th>\n",
       "      <th>Município</th>\n",
       "      <th>Nome_Município</th>\n",
       "    </tr>\n",
       "  </thead>\n",
       "  <tbody>\n",
       "    <tr>\n",
       "      <th>0</th>\n",
       "      <td>10.00</td>\n",
       "      <td>2933307005008.00</td>\n",
       "      <td>2933307</td>\n",
       "      <td>FEATURE_01_VALUE_08</td>\n",
       "      <td>FEATURE_02_VALUE_02</td>\n",
       "      <td>False</td>\n",
       "      <td>50.00</td>\n",
       "      <td>FEATURE_05_VALUE_03</td>\n",
       "      <td>6.00</td>\n",
       "      <td>0.13</td>\n",
       "      <td>0.13</td>\n",
       "      <td>116.19</td>\n",
       "      <td>2.91</td>\n",
       "      <td>FEATURE_11_VALUE_01</td>\n",
       "      <td>FEATURE_12_VALUE_01</td>\n",
       "      <td>100.00</td>\n",
       "      <td>93.40</td>\n",
       "      <td>100.00</td>\n",
       "      <td>100.00</td>\n",
       "      <td>71.70</td>\n",
       "      <td>88.80</td>\n",
       "      <td>29.00</td>\n",
       "      <td>Bahia</td>\n",
       "      <td>6.00</td>\n",
       "      <td>Centro Sul Baiano</td>\n",
       "      <td>28.00</td>\n",
       "      <td>Vitória da Conquista</td>\n",
       "      <td>33307.00</td>\n",
       "      <td>Vitória da Conquista</td>\n",
       "    </tr>\n",
       "    <tr>\n",
       "      <th>1</th>\n",
       "      <td>3213.00</td>\n",
       "      <td>2933307005008.00</td>\n",
       "      <td>2933307</td>\n",
       "      <td>NaN</td>\n",
       "      <td>FEATURE_02_VALUE_02</td>\n",
       "      <td>False</td>\n",
       "      <td>29.50</td>\n",
       "      <td>FEATURE_05_VALUE_02</td>\n",
       "      <td>5.00</td>\n",
       "      <td>0.13</td>\n",
       "      <td>0.13</td>\n",
       "      <td>116.19</td>\n",
       "      <td>2.91</td>\n",
       "      <td>FEATURE_11_VALUE_01</td>\n",
       "      <td>FEATURE_12_VALUE_01</td>\n",
       "      <td>88.00</td>\n",
       "      <td>99.40</td>\n",
       "      <td>100.00</td>\n",
       "      <td>100.00</td>\n",
       "      <td>75.90</td>\n",
       "      <td>88.00</td>\n",
       "      <td>29.00</td>\n",
       "      <td>Bahia</td>\n",
       "      <td>6.00</td>\n",
       "      <td>Centro Sul Baiano</td>\n",
       "      <td>28.00</td>\n",
       "      <td>Vitória da Conquista</td>\n",
       "      <td>33307.00</td>\n",
       "      <td>Vitória da Conquista</td>\n",
       "    </tr>\n",
       "    <tr>\n",
       "      <th>2</th>\n",
       "      <td>13.00</td>\n",
       "      <td>2916401003002.00</td>\n",
       "      <td>2916401</td>\n",
       "      <td>FEATURE_01_VALUE_10</td>\n",
       "      <td>FEATURE_02_VALUE_04</td>\n",
       "      <td>False</td>\n",
       "      <td>41.00</td>\n",
       "      <td>FEATURE_05_VALUE_03</td>\n",
       "      <td>4.00</td>\n",
       "      <td>0.12</td>\n",
       "      <td>0.11</td>\n",
       "      <td>26.35</td>\n",
       "      <td>1.31</td>\n",
       "      <td>NaN</td>\n",
       "      <td>NaN</td>\n",
       "      <td>84.30</td>\n",
       "      <td>77.50</td>\n",
       "      <td>100.00</td>\n",
       "      <td>100.00</td>\n",
       "      <td>63.50</td>\n",
       "      <td>78.80</td>\n",
       "      <td>29.00</td>\n",
       "      <td>Bahia</td>\n",
       "      <td>6.00</td>\n",
       "      <td>Centro Sul Baiano</td>\n",
       "      <td>29.00</td>\n",
       "      <td>Itapetinga</td>\n",
       "      <td>16401.00</td>\n",
       "      <td>Itapetinga</td>\n",
       "    </tr>\n",
       "    <tr>\n",
       "      <th>3</th>\n",
       "      <td>16.00</td>\n",
       "      <td>2928703003003.00</td>\n",
       "      <td>2928703</td>\n",
       "      <td>NaN</td>\n",
       "      <td>FEATURE_02_VALUE_04</td>\n",
       "      <td>False</td>\n",
       "      <td>42.12</td>\n",
       "      <td>FEATURE_05_VALUE_05</td>\n",
       "      <td>2.00</td>\n",
       "      <td>0.10</td>\n",
       "      <td>0.09</td>\n",
       "      <td>35.36</td>\n",
       "      <td>1.97</td>\n",
       "      <td>NaN</td>\n",
       "      <td>NaN</td>\n",
       "      <td>nan</td>\n",
       "      <td>nan</td>\n",
       "      <td>nan</td>\n",
       "      <td>nan</td>\n",
       "      <td>nan</td>\n",
       "      <td>nan</td>\n",
       "      <td>29.00</td>\n",
       "      <td>Bahia</td>\n",
       "      <td>5.00</td>\n",
       "      <td>Metropolitana de Salvador</td>\n",
       "      <td>20.00</td>\n",
       "      <td>Santo Antônio de Jesus</td>\n",
       "      <td>28703.00</td>\n",
       "      <td>Santo Antônio de Jesus</td>\n",
       "    </tr>\n",
       "    <tr>\n",
       "      <th>4</th>\n",
       "      <td>21.00</td>\n",
       "      <td>2906006003001.00</td>\n",
       "      <td>2906006</td>\n",
       "      <td>NaN</td>\n",
       "      <td>FEATURE_02_VALUE_04</td>\n",
       "      <td>False</td>\n",
       "      <td>30.00</td>\n",
       "      <td>FEATURE_05_VALUE_03</td>\n",
       "      <td>6.00</td>\n",
       "      <td>0.13</td>\n",
       "      <td>0.13</td>\n",
       "      <td>9.86</td>\n",
       "      <td>1.38</td>\n",
       "      <td>NaN</td>\n",
       "      <td>NaN</td>\n",
       "      <td>85.00</td>\n",
       "      <td>76.90</td>\n",
       "      <td>100.00</td>\n",
       "      <td>100.00</td>\n",
       "      <td>100.00</td>\n",
       "      <td>92.90</td>\n",
       "      <td>29.00</td>\n",
       "      <td>Bahia</td>\n",
       "      <td>3.00</td>\n",
       "      <td>Centro Norte Baiano</td>\n",
       "      <td>8.00</td>\n",
       "      <td>Senhor do Bonfim</td>\n",
       "      <td>6006.00</td>\n",
       "      <td>Campo Formoso</td>\n",
       "    </tr>\n",
       "  </tbody>\n",
       "</table>\n",
       "</div>"
      ],
      "text/plain": [
       "   cod_loja           cod_ap  cod_municipio           feature_01  \\\n",
       "0     10.00 2933307005008.00        2933307  FEATURE_01_VALUE_08   \n",
       "1   3213.00 2933307005008.00        2933307                  NaN   \n",
       "2     13.00 2916401003002.00        2916401  FEATURE_01_VALUE_10   \n",
       "3     16.00 2928703003003.00        2928703                  NaN   \n",
       "4     21.00 2906006003001.00        2906006                  NaN   \n",
       "\n",
       "            feature_02 feature_03  feature_04           feature_05  \\\n",
       "0  FEATURE_02_VALUE_02      False       50.00  FEATURE_05_VALUE_03   \n",
       "1  FEATURE_02_VALUE_02      False       29.50  FEATURE_05_VALUE_02   \n",
       "2  FEATURE_02_VALUE_04      False       41.00  FEATURE_05_VALUE_03   \n",
       "3  FEATURE_02_VALUE_04      False       42.12  FEATURE_05_VALUE_05   \n",
       "4  FEATURE_02_VALUE_04      False       30.00  FEATURE_05_VALUE_03   \n",
       "\n",
       "   feature_06  feature_07  feature_08  feature_09  feature_10  \\\n",
       "0        6.00        0.13        0.13      116.19        2.91   \n",
       "1        5.00        0.13        0.13      116.19        2.91   \n",
       "2        4.00        0.12        0.11       26.35        1.31   \n",
       "3        2.00        0.10        0.09       35.36        1.97   \n",
       "4        6.00        0.13        0.13        9.86        1.38   \n",
       "\n",
       "            feature_11           feature_12  feature_13  feature_14  \\\n",
       "0  FEATURE_11_VALUE_01  FEATURE_12_VALUE_01      100.00       93.40   \n",
       "1  FEATURE_11_VALUE_01  FEATURE_12_VALUE_01       88.00       99.40   \n",
       "2                  NaN                  NaN       84.30       77.50   \n",
       "3                  NaN                  NaN         nan         nan   \n",
       "4                  NaN                  NaN       85.00       76.90   \n",
       "\n",
       "   feature_15  feature_16  feature_17  feature_18    UF Nome_UF  \\\n",
       "0      100.00      100.00       71.70       88.80 29.00   Bahia   \n",
       "1      100.00      100.00       75.90       88.00 29.00   Bahia   \n",
       "2      100.00      100.00       63.50       78.80 29.00   Bahia   \n",
       "3         nan         nan         nan         nan 29.00   Bahia   \n",
       "4      100.00      100.00      100.00       92.90 29.00   Bahia   \n",
       "\n",
       "   Mesorregião Geográfica           Nome_Mesorregião  Microrregião Geográfica  \\\n",
       "0                    6.00          Centro Sul Baiano                    28.00   \n",
       "1                    6.00          Centro Sul Baiano                    28.00   \n",
       "2                    6.00          Centro Sul Baiano                    29.00   \n",
       "3                    5.00  Metropolitana de Salvador                    20.00   \n",
       "4                    3.00        Centro Norte Baiano                     8.00   \n",
       "\n",
       "        Nome_Microrregião  Município          Nome_Município  \n",
       "0    Vitória da Conquista   33307.00    Vitória da Conquista  \n",
       "1    Vitória da Conquista   33307.00    Vitória da Conquista  \n",
       "2              Itapetinga   16401.00              Itapetinga  \n",
       "3  Santo Antônio de Jesus   28703.00  Santo Antônio de Jesus  \n",
       "4        Senhor do Bonfim    6006.00           Campo Formoso  "
      ]
     },
     "execution_count": 12,
     "metadata": {},
     "output_type": "execute_result"
    }
   ],
   "source": [
    "cen_exp_ibge = cen_exp.merge(ibge, how='outer', on='cod_municipio')\n",
    "cen_exp_ibge.head()"
   ]
  },
  {
   "cell_type": "code",
   "execution_count": 13,
   "metadata": {},
   "outputs": [
    {
     "data": {
      "text/plain": [
       "Minas Gerais           871\n",
       "São Paulo              712\n",
       "Rio Grande do Sul      506\n",
       "Bahia                  428\n",
       "Paraná                 412\n",
       "Santa Catarina         298\n",
       "Goiás                  249\n",
       "Paraíba                224\n",
       "Piauí                  224\n",
       "Maranhão               218\n",
       "Pernambuco             191\n",
       "Ceará                  187\n",
       "Rio Grande do Norte    169\n",
       "Pará                   148\n",
       "Mato Grosso            142\n",
       "Tocantins              139\n",
       "Rio de Janeiro         107\n",
       "Alagoas                103\n",
       "Espírito Santo          83\n",
       "Mato Grosso do Sul      79\n",
       "Sergipe                 77\n",
       "Amazonas                62\n",
       "Rondônia                52\n",
       "Acre                    22\n",
       "Amapá                   16\n",
       "Roraima                 15\n",
       "Distrito Federal         4\n",
       "Name: Nome_UF, dtype: int64"
      ]
     },
     "execution_count": 13,
     "metadata": {},
     "output_type": "execute_result"
    }
   ],
   "source": [
    "cen_exp_ibge.Nome_UF.value_counts()"
   ]
  },
  {
   "cell_type": "code",
   "execution_count": 14,
   "metadata": {},
   "outputs": [
    {
     "data": {
      "text/plain": [
       "1.00     1180\n",
       "3.00      920\n",
       "2.00      830\n",
       "4.00      714\n",
       "5.00      473\n",
       "6.00      391\n",
       "7.00      327\n",
       "10.00     227\n",
       "8.00      188\n",
       "12.00     182\n",
       "15.00      91\n",
       "9.00       85\n",
       "11.00      72\n",
       "13.00      41\n",
       "14.00      17\n",
       "Name: Mesorregião Geográfica, dtype: int64"
      ]
     },
     "execution_count": 14,
     "metadata": {},
     "output_type": "execute_result"
    }
   ],
   "source": [
    "cen_exp_ibge['Mesorregião Geográfica'].value_counts()"
   ]
  },
  {
   "cell_type": "code",
   "execution_count": 15,
   "metadata": {},
   "outputs": [
    {
     "data": {
      "text/plain": [
       "4.00     275\n",
       "1.00     271\n",
       "3.00     262\n",
       "10.00    243\n",
       "2.00     241\n",
       "        ... \n",
       "59.00     16\n",
       "49.00     16\n",
       "42.00     14\n",
       "66.00     14\n",
       "45.00     12\n",
       "Name: Microrregião Geográfica, Length: 66, dtype: int64"
      ]
     },
     "execution_count": 15,
     "metadata": {},
     "output_type": "execute_result"
    }
   ],
   "source": [
    "cen_exp_ibge['Microrregião Geográfica'].value_counts()"
   ]
  },
  {
   "cell_type": "code",
   "execution_count": 16,
   "metadata": {},
   "outputs": [
    {
     "data": {
      "text/plain": [
       "50308.00    41\n",
       "4557.00     13\n",
       "6200.00     11\n",
       "6902.00     10\n",
       "27408.00    10\n",
       "            ..\n",
       "25003.00     1\n",
       "50307.00     1\n",
       "50505.00     1\n",
       "29509.00     1\n",
       "19002.00     1\n",
       "Name: Município, Length: 4307, dtype: int64"
      ]
     },
     "execution_count": 16,
     "metadata": {},
     "output_type": "execute_result"
    }
   ],
   "source": [
    "cen_exp_ibge['Município'].value_counts()"
   ]
  },
  {
   "cell_type": "code",
   "execution_count": 17,
   "metadata": {},
   "outputs": [
    {
     "data": {
      "text/plain": [
       "30"
      ]
     },
     "execution_count": 17,
     "metadata": {},
     "output_type": "execute_result"
    }
   ],
   "source": [
    "cen_exp_ibge['Município'].isna().sum()"
   ]
  },
  {
   "cell_type": "code",
   "execution_count": 18,
   "metadata": {},
   "outputs": [
    {
     "data": {
      "text/plain": [
       "(5768, 29)"
      ]
     },
     "execution_count": 18,
     "metadata": {},
     "output_type": "execute_result"
    }
   ],
   "source": [
    "cen_exp_ibge.shape"
   ]
  },
  {
   "cell_type": "code",
   "execution_count": 19,
   "metadata": {},
   "outputs": [],
   "source": [
    "X = cen_exp[['feature_06', 'feature_07', 'feature_08']]\n",
    "kmeans = KMeans(n_clusters=5, random_state=42).fit(X)"
   ]
  },
  {
   "cell_type": "code",
   "execution_count": 20,
   "metadata": {},
   "outputs": [
    {
     "data": {
      "text/plain": [
       "<matplotlib.collections.PathCollection at 0x7fd4471ff130>"
      ]
     },
     "execution_count": 20,
     "metadata": {},
     "output_type": "execute_result"
    },
    {
     "data": {
      "image/png": "[encoded data removed]",
      "text/plain": [
       "<Figure size 720x720 with 1 Axes>"
      ]
     },
     "metadata": {},
     "output_type": "display_data"
    }
   ],
   "source": [
    "center = kmeans.cluster_centers_\n",
    "plt.figure(figsize=(10,10))\n",
    "# plt.scatter(X['feature_06'], X['feature_07'])\n",
    "# plt.scatter(center[:, 0], center[:, 1], cmap='cividis', c='black')\n",
    "\n",
    "plt.scatter(X['feature_06'], X['feature_08'])\n",
    "plt.scatter(center[:, 0], center[:, 2], cmap='cividis', c='black')"
   ]
  },
  {
   "cell_type": "code",
   "execution_count": 21,
   "metadata": {},
   "outputs": [
    {
     "data": {
      "image/png": "[encoded data removed]",
      "text/plain": [
       "<Figure size 1440x720 with 1 Axes>"
      ]
     },
     "metadata": {},
     "output_type": "display_data"
    }
   ],
   "source": [
    "y_result = kmeans.predict(ljs_atuais[['feature_06', 'feature_07', 'feature_08']])\n",
    "plt.figure(figsize=(20,10))\n",
    "plt.scatter(ljs_atuais['feature_06'], ljs_atuais['feature_07'], cmap='inferno', c=y_result);"
   ]
  },
  {
   "cell_type": "code",
   "execution_count": 26,
   "metadata": {},
   "outputs": [
    {
     "data": {
      "text/plain": [
       "cod_loja            0\n",
       "cod_ap              0\n",
       "cod_municipio       0\n",
       "feature_01       1959\n",
       "feature_02          0\n",
       "feature_03          0\n",
       "feature_04          0\n",
       "feature_05          0\n",
       "feature_06          0\n",
       "feature_07          0\n",
       "feature_08          0\n",
       "feature_09          0\n",
       "feature_10          0\n",
       "feature_11       2885\n",
       "feature_12       2885\n",
       "feature_13       2256\n",
       "feature_14       2256\n",
       "feature_15       2256\n",
       "feature_16       2256\n",
       "feature_17       2256\n",
       "feature_18       2256\n",
       "dtype: int64"
      ]
     },
     "execution_count": 26,
     "metadata": {},
     "output_type": "execute_result"
    }
   ],
   "source": [
    "ljs_atuais.isna().sum()"
   ]
  },
  {
   "cell_type": "code",
   "execution_count": 27,
   "metadata": {},
   "outputs": [
    {
     "data": {
      "text/plain": [
       "cod_loja           0\n",
       "cod_ap             0\n",
       "cod_municipio      0\n",
       "feature_01       364\n",
       "feature_02         0\n",
       "feature_03         0\n",
       "feature_04         0\n",
       "feature_05         0\n",
       "feature_06         0\n",
       "feature_07         0\n",
       "feature_08         0\n",
       "feature_09         0\n",
       "feature_10         0\n",
       "feature_11       512\n",
       "feature_12       512\n",
       "feature_13       394\n",
       "feature_14       394\n",
       "feature_15       394\n",
       "feature_16       394\n",
       "feature_17       394\n",
       "feature_18       394\n",
       "dtype: int64"
      ]
     },
     "execution_count": 27,
     "metadata": {},
     "output_type": "execute_result"
    }
   ],
   "source": [
    "cen_exp.isna().sum()"
   ]
  },
  {
   "cell_type": "code",
   "execution_count": 28,
   "metadata": {},
   "outputs": [],
   "source": [
    "ljs_atuais.dropna(axis=0, inplace=True)\n",
    "cen_exp.dropna(axis=0, inplace=True)"
   ]
  },
  {
   "cell_type": "code",
   "execution_count": 34,
   "metadata": {},
   "outputs": [
    {
     "data": {
      "text/plain": [
       "(3130, 21)"
      ]
     },
     "execution_count": 34,
     "metadata": {},
     "output_type": "execute_result"
    }
   ],
   "source": [
    "ljs_atuais.shape"
   ]
  },
  {
   "cell_type": "code",
   "execution_count": 35,
   "metadata": {},
   "outputs": [
    {
     "data": {
      "text/plain": [
       "(553, 21)"
      ]
     },
     "execution_count": 35,
     "metadata": {},
     "output_type": "execute_result"
    }
   ],
   "source": [
    "cen_exp.shape"
   ]
  },
  {
   "cell_type": "code",
   "execution_count": 70,
   "metadata": {},
   "outputs": [
    {
     "data": {
      "text/plain": [
       "{'cod_ap',\n",
       " 'cod_loja',\n",
       " 'cod_municipio',\n",
       " 'feature_02',\n",
       " 'feature_03',\n",
       " 'feature_04',\n",
       " 'feature_05',\n",
       " 'feature_06',\n",
       " 'feature_07',\n",
       " 'feature_08',\n",
       " 'feature_09',\n",
       " 'feature_10'}"
      ]
     },
     "execution_count": 70,
     "metadata": {},
     "output_type": "execute_result"
    }
   ],
   "source": [
    "columns_in_common = set(ljs_atuais.columns).intersection(set(cen_exp.columns)) - set(['feature_01','feature_11', \n",
    "                                                                                      'feature_12', 'feature_13',\n",
    "                                                                                      'feature_14', 'feature_15', \n",
    "                                                                                      'feature_16', 'feature_17', \n",
    "                                                                                      'feature_18'])\n",
    "columns_in_common"
   ]
  },
  {
   "cell_type": "code",
   "execution_count": 71,
   "metadata": {},
   "outputs": [],
   "source": [
    "X = cen_exp[list(columns_in_common)]\n",
    "ljs_common = ljs_atuais[list(columns_in_common)]"
   ]
  },
  {
   "cell_type": "code",
   "execution_count": 72,
   "metadata": {},
   "outputs": [],
   "source": [
    "X = pd.concat([X, pd.get_dummies(X.feature_02)], axis=1)\n",
    "X = pd.concat([X, pd.get_dummies(X.feature_05)], axis=1)\n",
    "\n",
    "ljs_common = pd.concat([ljs_common, pd.get_dummies(ljs_common.feature_02)], axis=1)\n",
    "ljs_common = pd.concat([ljs_common, pd.get_dummies(ljs_common.feature_05)], axis=1)"
   ]
  },
  {
   "cell_type": "code",
   "execution_count": 73,
   "metadata": {},
   "outputs": [],
   "source": [
    "X.drop('feature_02', axis=1, inplace=True)\n",
    "X.drop('feature_05', axis=1, inplace=True)\n",
    "\n",
    "ljs_common.drop('feature_02', axis=1, inplace=True)\n",
    "ljs_common.drop('feature_05', axis=1, inplace=True)"
   ]
  },
  {
   "cell_type": "code",
   "execution_count": 74,
   "metadata": {},
   "outputs": [
    {
     "data": {
      "text/html": [
       "<div>\n",
       "<style scoped>\n",
       "    .dataframe tbody tr th:only-of-type {\n",
       "        vertical-align: middle;\n",
       "    }\n",
       "\n",
       "    .dataframe tbody tr th {\n",
       "        vertical-align: top;\n",
       "    }\n",
       "\n",
       "    .dataframe thead th {\n",
       "        text-align: right;\n",
       "    }\n",
       "</style>\n",
       "<table border=\"1\" class=\"dataframe\">\n",
       "  <thead>\n",
       "    <tr style=\"text-align: right;\">\n",
       "      <th></th>\n",
       "      <th>feature_07</th>\n",
       "      <th>cod_ap</th>\n",
       "      <th>cod_loja</th>\n",
       "      <th>feature_06</th>\n",
       "      <th>feature_03</th>\n",
       "      <th>feature_10</th>\n",
       "      <th>feature_04</th>\n",
       "      <th>cod_municipio</th>\n",
       "      <th>feature_08</th>\n",
       "      <th>feature_09</th>\n",
       "      <th>FEATURE_02_VALUE_02</th>\n",
       "      <th>FEATURE_02_VALUE_03</th>\n",
       "      <th>FEATURE_02_VALUE_04</th>\n",
       "      <th>FEATURE_02_VALUE_06</th>\n",
       "      <th>FEATURE_05_VALUE_01</th>\n",
       "      <th>FEATURE_05_VALUE_02</th>\n",
       "      <th>FEATURE_05_VALUE_03</th>\n",
       "      <th>FEATURE_05_VALUE_04</th>\n",
       "      <th>FEATURE_05_VALUE_05</th>\n",
       "      <th>FEATURE_05_VALUE_06</th>\n",
       "      <th>FEATURE_05_VALUE_07</th>\n",
       "    </tr>\n",
       "  </thead>\n",
       "  <tbody>\n",
       "    <tr>\n",
       "      <th>0</th>\n",
       "      <td>0.13</td>\n",
       "      <td>2933307005008</td>\n",
       "      <td>10</td>\n",
       "      <td>6</td>\n",
       "      <td>False</td>\n",
       "      <td>2.91</td>\n",
       "      <td>50.00</td>\n",
       "      <td>2933307</td>\n",
       "      <td>0.13</td>\n",
       "      <td>116.19</td>\n",
       "      <td>1</td>\n",
       "      <td>0</td>\n",
       "      <td>0</td>\n",
       "      <td>0</td>\n",
       "      <td>0</td>\n",
       "      <td>0</td>\n",
       "      <td>1</td>\n",
       "      <td>0</td>\n",
       "      <td>0</td>\n",
       "      <td>0</td>\n",
       "      <td>0</td>\n",
       "    </tr>\n",
       "    <tr>\n",
       "      <th>1</th>\n",
       "      <td>0.12</td>\n",
       "      <td>2916401003002</td>\n",
       "      <td>13</td>\n",
       "      <td>4</td>\n",
       "      <td>False</td>\n",
       "      <td>1.31</td>\n",
       "      <td>41.00</td>\n",
       "      <td>2916401</td>\n",
       "      <td>0.11</td>\n",
       "      <td>26.35</td>\n",
       "      <td>0</td>\n",
       "      <td>0</td>\n",
       "      <td>1</td>\n",
       "      <td>0</td>\n",
       "      <td>0</td>\n",
       "      <td>0</td>\n",
       "      <td>1</td>\n",
       "      <td>0</td>\n",
       "      <td>0</td>\n",
       "      <td>0</td>\n",
       "      <td>0</td>\n",
       "    </tr>\n",
       "    <tr>\n",
       "      <th>2</th>\n",
       "      <td>0.10</td>\n",
       "      <td>2928703003003</td>\n",
       "      <td>16</td>\n",
       "      <td>2</td>\n",
       "      <td>False</td>\n",
       "      <td>1.97</td>\n",
       "      <td>42.12</td>\n",
       "      <td>2928703</td>\n",
       "      <td>0.09</td>\n",
       "      <td>35.36</td>\n",
       "      <td>0</td>\n",
       "      <td>0</td>\n",
       "      <td>1</td>\n",
       "      <td>0</td>\n",
       "      <td>0</td>\n",
       "      <td>0</td>\n",
       "      <td>0</td>\n",
       "      <td>0</td>\n",
       "      <td>1</td>\n",
       "      <td>0</td>\n",
       "      <td>0</td>\n",
       "    </tr>\n",
       "    <tr>\n",
       "      <th>3</th>\n",
       "      <td>0.13</td>\n",
       "      <td>2906006003001</td>\n",
       "      <td>21</td>\n",
       "      <td>6</td>\n",
       "      <td>False</td>\n",
       "      <td>1.38</td>\n",
       "      <td>30.00</td>\n",
       "      <td>2906006</td>\n",
       "      <td>0.13</td>\n",
       "      <td>9.86</td>\n",
       "      <td>0</td>\n",
       "      <td>0</td>\n",
       "      <td>1</td>\n",
       "      <td>0</td>\n",
       "      <td>0</td>\n",
       "      <td>0</td>\n",
       "      <td>1</td>\n",
       "      <td>0</td>\n",
       "      <td>0</td>\n",
       "      <td>0</td>\n",
       "      <td>0</td>\n",
       "    </tr>\n",
       "    <tr>\n",
       "      <th>4</th>\n",
       "      <td>0.19</td>\n",
       "      <td>3550308005058</td>\n",
       "      <td>28</td>\n",
       "      <td>8</td>\n",
       "      <td>True</td>\n",
       "      <td>2.82</td>\n",
       "      <td>44.31</td>\n",
       "      <td>3550308</td>\n",
       "      <td>0.18</td>\n",
       "      <td>5593.91</td>\n",
       "      <td>1</td>\n",
       "      <td>0</td>\n",
       "      <td>0</td>\n",
       "      <td>0</td>\n",
       "      <td>0</td>\n",
       "      <td>0</td>\n",
       "      <td>1</td>\n",
       "      <td>0</td>\n",
       "      <td>0</td>\n",
       "      <td>0</td>\n",
       "      <td>0</td>\n",
       "    </tr>\n",
       "  </tbody>\n",
       "</table>\n",
       "</div>"
      ],
      "text/plain": [
       "   feature_07         cod_ap  cod_loja  feature_06  feature_03  feature_10  \\\n",
       "0        0.13  2933307005008        10           6       False        2.91   \n",
       "1        0.12  2916401003002        13           4       False        1.31   \n",
       "2        0.10  2928703003003        16           2       False        1.97   \n",
       "3        0.13  2906006003001        21           6       False        1.38   \n",
       "4        0.19  3550308005058        28           8        True        2.82   \n",
       "\n",
       "   feature_04  cod_municipio  feature_08  feature_09  FEATURE_02_VALUE_02  \\\n",
       "0       50.00        2933307        0.13      116.19                    1   \n",
       "1       41.00        2916401        0.11       26.35                    0   \n",
       "2       42.12        2928703        0.09       35.36                    0   \n",
       "3       30.00        2906006        0.13        9.86                    0   \n",
       "4       44.31        3550308        0.18     5593.91                    1   \n",
       "\n",
       "   FEATURE_02_VALUE_03  FEATURE_02_VALUE_04  FEATURE_02_VALUE_06  \\\n",
       "0                    0                    0                    0   \n",
       "1                    0                    1                    0   \n",
       "2                    0                    1                    0   \n",
       "3                    0                    1                    0   \n",
       "4                    0                    0                    0   \n",
       "\n",
       "   FEATURE_05_VALUE_01  FEATURE_05_VALUE_02  FEATURE_05_VALUE_03  \\\n",
       "0                    0                    0                    1   \n",
       "1                    0                    0                    1   \n",
       "2                    0                    0                    0   \n",
       "3                    0                    0                    1   \n",
       "4                    0                    0                    1   \n",
       "\n",
       "   FEATURE_05_VALUE_04  FEATURE_05_VALUE_05  FEATURE_05_VALUE_06  \\\n",
       "0                    0                    0                    0   \n",
       "1                    0                    0                    0   \n",
       "2                    0                    1                    0   \n",
       "3                    0                    0                    0   \n",
       "4                    0                    0                    0   \n",
       "\n",
       "   FEATURE_05_VALUE_07  \n",
       "0                    0  \n",
       "1                    0  \n",
       "2                    0  \n",
       "3                    0  \n",
       "4                    0  "
      ]
     },
     "execution_count": 74,
     "metadata": {},
     "output_type": "execute_result"
    }
   ],
   "source": [
    "X.head()"
   ]
  },
  {
   "cell_type": "code",
   "execution_count": 75,
   "metadata": {},
   "outputs": [
    {
     "data": {
      "text/html": [
       "<div>\n",
       "<style scoped>\n",
       "    .dataframe tbody tr th:only-of-type {\n",
       "        vertical-align: middle;\n",
       "    }\n",
       "\n",
       "    .dataframe tbody tr th {\n",
       "        vertical-align: top;\n",
       "    }\n",
       "\n",
       "    .dataframe thead th {\n",
       "        text-align: right;\n",
       "    }\n",
       "</style>\n",
       "<table border=\"1\" class=\"dataframe\">\n",
       "  <thead>\n",
       "    <tr style=\"text-align: right;\">\n",
       "      <th></th>\n",
       "      <th>feature_07</th>\n",
       "      <th>cod_ap</th>\n",
       "      <th>cod_loja</th>\n",
       "      <th>feature_06</th>\n",
       "      <th>feature_03</th>\n",
       "      <th>feature_10</th>\n",
       "      <th>feature_04</th>\n",
       "      <th>cod_municipio</th>\n",
       "      <th>feature_08</th>\n",
       "      <th>feature_09</th>\n",
       "      <th>FEATURE_02_VALUE_02</th>\n",
       "      <th>FEATURE_02_VALUE_03</th>\n",
       "      <th>FEATURE_02_VALUE_04</th>\n",
       "      <th>FEATURE_02_VALUE_06</th>\n",
       "      <th>FEATURE_05_VALUE_01</th>\n",
       "      <th>FEATURE_05_VALUE_02</th>\n",
       "      <th>FEATURE_05_VALUE_03</th>\n",
       "      <th>FEATURE_05_VALUE_04</th>\n",
       "      <th>FEATURE_05_VALUE_05</th>\n",
       "      <th>FEATURE_05_VALUE_06</th>\n",
       "      <th>FEATURE_05_VALUE_07</th>\n",
       "      <th>FEATURE_05_VALUE_08</th>\n",
       "    </tr>\n",
       "  </thead>\n",
       "  <tbody>\n",
       "    <tr>\n",
       "      <th>0</th>\n",
       "      <td>0.17</td>\n",
       "      <td>4125506005002</td>\n",
       "      <td>1</td>\n",
       "      <td>31</td>\n",
       "      <td>True</td>\n",
       "      <td>2.35</td>\n",
       "      <td>21.76</td>\n",
       "      <td>4125506</td>\n",
       "      <td>0.17</td>\n",
       "      <td>115.96</td>\n",
       "      <td>0</td>\n",
       "      <td>0</td>\n",
       "      <td>1</td>\n",
       "      <td>0</td>\n",
       "      <td>0</td>\n",
       "      <td>0</td>\n",
       "      <td>0</td>\n",
       "      <td>1</td>\n",
       "      <td>0</td>\n",
       "      <td>0</td>\n",
       "      <td>0</td>\n",
       "      <td>0</td>\n",
       "    </tr>\n",
       "    <tr>\n",
       "      <th>1</th>\n",
       "      <td>0.22</td>\n",
       "      <td>5300108005004</td>\n",
       "      <td>2</td>\n",
       "      <td>27</td>\n",
       "      <td>True</td>\n",
       "      <td>3.67</td>\n",
       "      <td>22.00</td>\n",
       "      <td>5300108</td>\n",
       "      <td>0.20</td>\n",
       "      <td>1562.67</td>\n",
       "      <td>0</td>\n",
       "      <td>1</td>\n",
       "      <td>0</td>\n",
       "      <td>0</td>\n",
       "      <td>0</td>\n",
       "      <td>0</td>\n",
       "      <td>1</td>\n",
       "      <td>0</td>\n",
       "      <td>0</td>\n",
       "      <td>0</td>\n",
       "      <td>0</td>\n",
       "      <td>0</td>\n",
       "    </tr>\n",
       "    <tr>\n",
       "      <th>2</th>\n",
       "      <td>0.19</td>\n",
       "      <td>3550308005052</td>\n",
       "      <td>3</td>\n",
       "      <td>6</td>\n",
       "      <td>True</td>\n",
       "      <td>2.82</td>\n",
       "      <td>45.66</td>\n",
       "      <td>3550308</td>\n",
       "      <td>0.18</td>\n",
       "      <td>5593.91</td>\n",
       "      <td>0</td>\n",
       "      <td>1</td>\n",
       "      <td>0</td>\n",
       "      <td>0</td>\n",
       "      <td>0</td>\n",
       "      <td>0</td>\n",
       "      <td>1</td>\n",
       "      <td>0</td>\n",
       "      <td>0</td>\n",
       "      <td>0</td>\n",
       "      <td>0</td>\n",
       "      <td>0</td>\n",
       "    </tr>\n",
       "    <tr>\n",
       "      <th>3</th>\n",
       "      <td>0.14</td>\n",
       "      <td>3145604003002</td>\n",
       "      <td>4</td>\n",
       "      <td>3</td>\n",
       "      <td>False</td>\n",
       "      <td>7.22</td>\n",
       "      <td>30.00</td>\n",
       "      <td>3145604</td>\n",
       "      <td>0.14</td>\n",
       "      <td>12.82</td>\n",
       "      <td>0</td>\n",
       "      <td>0</td>\n",
       "      <td>1</td>\n",
       "      <td>0</td>\n",
       "      <td>0</td>\n",
       "      <td>0</td>\n",
       "      <td>1</td>\n",
       "      <td>0</td>\n",
       "      <td>0</td>\n",
       "      <td>0</td>\n",
       "      <td>0</td>\n",
       "      <td>0</td>\n",
       "    </tr>\n",
       "    <tr>\n",
       "      <th>4</th>\n",
       "      <td>0.11</td>\n",
       "      <td>1600303005010</td>\n",
       "      <td>5</td>\n",
       "      <td>30</td>\n",
       "      <td>False</td>\n",
       "      <td>1.97</td>\n",
       "      <td>62.49</td>\n",
       "      <td>1600303</td>\n",
       "      <td>0.10</td>\n",
       "      <td>325.53</td>\n",
       "      <td>1</td>\n",
       "      <td>0</td>\n",
       "      <td>0</td>\n",
       "      <td>0</td>\n",
       "      <td>0</td>\n",
       "      <td>0</td>\n",
       "      <td>1</td>\n",
       "      <td>0</td>\n",
       "      <td>0</td>\n",
       "      <td>0</td>\n",
       "      <td>0</td>\n",
       "      <td>0</td>\n",
       "    </tr>\n",
       "  </tbody>\n",
       "</table>\n",
       "</div>"
      ],
      "text/plain": [
       "   feature_07         cod_ap  cod_loja  feature_06  feature_03  feature_10  \\\n",
       "0        0.17  4125506005002         1          31        True        2.35   \n",
       "1        0.22  5300108005004         2          27        True        3.67   \n",
       "2        0.19  3550308005052         3           6        True        2.82   \n",
       "3        0.14  3145604003002         4           3       False        7.22   \n",
       "4        0.11  1600303005010         5          30       False        1.97   \n",
       "\n",
       "   feature_04  cod_municipio  feature_08  feature_09  FEATURE_02_VALUE_02  \\\n",
       "0       21.76        4125506        0.17      115.96                    0   \n",
       "1       22.00        5300108        0.20     1562.67                    0   \n",
       "2       45.66        3550308        0.18     5593.91                    0   \n",
       "3       30.00        3145604        0.14       12.82                    0   \n",
       "4       62.49        1600303        0.10      325.53                    1   \n",
       "\n",
       "   FEATURE_02_VALUE_03  FEATURE_02_VALUE_04  FEATURE_02_VALUE_06  \\\n",
       "0                    0                    1                    0   \n",
       "1                    1                    0                    0   \n",
       "2                    1                    0                    0   \n",
       "3                    0                    1                    0   \n",
       "4                    0                    0                    0   \n",
       "\n",
       "   FEATURE_05_VALUE_01  FEATURE_05_VALUE_02  FEATURE_05_VALUE_03  \\\n",
       "0                    0                    0                    0   \n",
       "1                    0                    0                    1   \n",
       "2                    0                    0                    1   \n",
       "3                    0                    0                    1   \n",
       "4                    0                    0                    1   \n",
       "\n",
       "   FEATURE_05_VALUE_04  FEATURE_05_VALUE_05  FEATURE_05_VALUE_06  \\\n",
       "0                    1                    0                    0   \n",
       "1                    0                    0                    0   \n",
       "2                    0                    0                    0   \n",
       "3                    0                    0                    0   \n",
       "4                    0                    0                    0   \n",
       "\n",
       "   FEATURE_05_VALUE_07  FEATURE_05_VALUE_08  \n",
       "0                    0                    0  \n",
       "1                    0                    0  \n",
       "2                    0                    0  \n",
       "3                    0                    0  \n",
       "4                    0                    0  "
      ]
     },
     "execution_count": 75,
     "metadata": {},
     "output_type": "execute_result"
    }
   ],
   "source": [
    "ljs_common.head()"
   ]
  },
  {
   "cell_type": "code",
   "execution_count": 76,
   "metadata": {},
   "outputs": [
    {
     "data": {
      "text/plain": [
       "{'FEATURE_02_VALUE_02',\n",
       " 'FEATURE_02_VALUE_03',\n",
       " 'FEATURE_02_VALUE_04',\n",
       " 'FEATURE_02_VALUE_06',\n",
       " 'FEATURE_05_VALUE_01',\n",
       " 'FEATURE_05_VALUE_02',\n",
       " 'FEATURE_05_VALUE_03',\n",
       " 'FEATURE_05_VALUE_04',\n",
       " 'FEATURE_05_VALUE_05',\n",
       " 'FEATURE_05_VALUE_06',\n",
       " 'FEATURE_05_VALUE_07',\n",
       " 'cod_ap',\n",
       " 'cod_loja',\n",
       " 'cod_municipio',\n",
       " 'feature_03',\n",
       " 'feature_04',\n",
       " 'feature_06',\n",
       " 'feature_07',\n",
       " 'feature_08',\n",
       " 'feature_09',\n",
       " 'feature_10'}"
      ]
     },
     "execution_count": 76,
     "metadata": {},
     "output_type": "execute_result"
    }
   ],
   "source": [
    "columns_in_common = set(ljs_common.columns).intersection(set(X.columns))\n",
    "columns_in_common"
   ]
  },
  {
   "cell_type": "code",
   "execution_count": 78,
   "metadata": {},
   "outputs": [],
   "source": [
    "X = X[list(columns_in_common)]\n",
    "ljs_common = ljs_common[list(columns_in_common)]"
   ]
  },
  {
   "cell_type": "code",
   "execution_count": 82,
   "metadata": {},
   "outputs": [
    {
     "name": "stderr",
     "output_type": "stream",
     "text": [
      "100%|██████████| 97/97 [03:08<00:00,  1.94s/it]\n"
     ]
    }
   ],
   "source": [
    "n_clusters = range(3, 100)\n",
    "models = list()\n",
    "scores = list()\n",
    "for n_cluster in tqdm(n_clusters):\n",
    "    kmeans = KMeans(n_clusters=n_cluster)\n",
    "    models.append(kmeans)\n",
    "    kmeans.fit(X)\n",
    "    y_hat = kmeans.predict(ljs_common)\n",
    "    sscore = silhouette_score(ljs_common, y_hat)\n",
    "    scores.append(sscore)"
   ]
  },
  {
   "cell_type": "code",
   "execution_count": 83,
   "metadata": {},
   "outputs": [
    {
     "data": {
      "image/png": "[encoded data removed]",
      "text/plain": [
       "<Figure size 432x288 with 1 Axes>"
      ]
     },
     "metadata": {},
     "output_type": "display_data"
    }
   ],
   "source": [
    "plt.plot(n_clusters, scores);"
   ]
  },
  {
   "cell_type": "code",
   "execution_count": 84,
   "metadata": {},
   "outputs": [
    {
     "data": {
      "text/plain": [
       "0.861675431432882"
      ]
     },
     "execution_count": 84,
     "metadata": {},
     "output_type": "execute_result"
    }
   ],
   "source": [
    "max(scores)"
   ]
  },
  {
   "cell_type": "code",
   "execution_count": 87,
   "metadata": {},
   "outputs": [],
   "source": [
    "scores = np.array(scores)"
   ]
  },
  {
   "cell_type": "code",
   "execution_count": 89,
   "metadata": {},
   "outputs": [
    {
     "data": {
      "text/plain": [
       "27"
      ]
     },
     "execution_count": 89,
     "metadata": {},
     "output_type": "execute_result"
    }
   ],
   "source": [
    "scores.argmax()"
   ]
  },
  {
   "cell_type": "code",
   "execution_count": 90,
   "metadata": {},
   "outputs": [
    {
     "data": {
      "text/plain": [
       "KMeans(n_clusters=30)"
      ]
     },
     "execution_count": 90,
     "metadata": {},
     "output_type": "execute_result"
    }
   ],
   "source": [
    "models[27]"
   ]
  },
  {
   "cell_type": "code",
   "execution_count": 91,
   "metadata": {},
   "outputs": [
    {
     "data": {
      "text/plain": [
       "array([ 1, 25,  6, ...,  1, 27, 14], dtype=int32)"
      ]
     },
     "execution_count": 91,
     "metadata": {},
     "output_type": "execute_result"
    }
   ],
   "source": [
    "kmeans = KMeans(n_clusters=30)\n",
    "kmeans.fit(X)\n",
    "y_hat = kmeans.predict(ljs_common)\n",
    "y_hat"
   ]
  },
  {
   "cell_type": "code",
   "execution_count": 92,
   "metadata": {},
   "outputs": [
    {
     "data": {
      "text/plain": [
       "0        1\n",
       "1       25\n",
       "2        6\n",
       "3       16\n",
       "4       28\n",
       "        ..\n",
       "3125    15\n",
       "3126     2\n",
       "3127     1\n",
       "3128    27\n",
       "3129    14\n",
       "Length: 3130, dtype: int32"
      ]
     },
     "execution_count": 92,
     "metadata": {},
     "output_type": "execute_result"
    }
   ],
   "source": [
    "y_hat = pd.Series(y_hat)\n",
    "y_hat"
   ]
  },
  {
   "cell_type": "code",
   "execution_count": 96,
   "metadata": {},
   "outputs": [
    {
     "data": {
      "text/plain": [
       "6     425\n",
       "27    229\n",
       "1     188\n",
       "19    179\n",
       "9     175\n",
       "4     175\n",
       "10    171\n",
       "0     151\n",
       "16    140\n",
       "8     139\n",
       "2     137\n",
       "14    119\n",
       "21    115\n",
       "3      97\n",
       "20     73\n",
       "5      68\n",
       "17     62\n",
       "12     60\n",
       "15     59\n",
       "23     53\n",
       "26     53\n",
       "29     43\n",
       "22     43\n",
       "7      41\n",
       "25     35\n",
       "18     31\n",
       "11     31\n",
       "13     18\n",
       "28     12\n",
       "24      8\n",
       "dtype: int64"
      ]
     },
     "execution_count": 96,
     "metadata": {},
     "output_type": "execute_result"
    }
   ],
   "source": [
    "y_hat.value_counts()"
   ]
  },
  {
   "cell_type": "code",
   "execution_count": 94,
   "metadata": {},
   "outputs": [
    {
     "data": {
      "text/plain": [
       "0      10\n",
       "1      10\n",
       "2      10\n",
       "3      10\n",
       "4       6\n",
       "       ..\n",
       "548    10\n",
       "549     0\n",
       "550     3\n",
       "551    14\n",
       "552    10\n",
       "Length: 553, dtype: int32"
      ]
     },
     "execution_count": 94,
     "metadata": {},
     "output_type": "execute_result"
    }
   ],
   "source": [
    "y_hatX = pd.Series(kmeans.predict(X))\n",
    "y_hatX"
   ]
  },
  {
   "cell_type": "code",
   "execution_count": 95,
   "metadata": {},
   "outputs": [
    {
     "data": {
      "text/plain": [
       "6     73\n",
       "1     40\n",
       "16    37\n",
       "9     37\n",
       "10    37\n",
       "27    34\n",
       "0     30\n",
       "19    30\n",
       "4     28\n",
       "8     25\n",
       "2     22\n",
       "14    20\n",
       "3     17\n",
       "17    16\n",
       "20    14\n",
       "5     14\n",
       "21    14\n",
       "12    11\n",
       "15    10\n",
       "22     8\n",
       "18     7\n",
       "23     6\n",
       "13     5\n",
       "7      4\n",
       "25     4\n",
       "11     3\n",
       "26     3\n",
       "24     2\n",
       "28     1\n",
       "29     1\n",
       "dtype: int64"
      ]
     },
     "execution_count": 95,
     "metadata": {},
     "output_type": "execute_result"
    }
   ],
   "source": [
    "y_hatX.value_counts()"
   ]
  },
  {
   "cell_type": "code",
   "execution_count": 99,
   "metadata": {},
   "outputs": [],
   "source": [
    "cen_exp_cluster = pd.concat([cen_exp, y_hatX], axis=1)"
   ]
  },
  {
   "cell_type": "code",
   "execution_count": 100,
   "metadata": {},
   "outputs": [],
   "source": [
    "ljs_atuais_cluster = pd.concat([ljs_atuais, y_hat], axis=1)"
   ]
  },
  {
   "cell_type": "code",
   "execution_count": 101,
   "metadata": {},
   "outputs": [],
   "source": [
    "cen_exp_cluster.to_csv('/home/tuts/repos/others/usp-vs-ufmg/tutss/cen_exp_cluster.csv', index=False)\n",
    "ljs_atuais_cluster.to_csv('/home/tuts/repos/others/usp-vs-ufmg/tutss/ljs_atuais_cluster.csv', index=False)"
   ]
  },
  {
   "cell_type": "code",
   "execution_count": null,
   "metadata": {},
   "outputs": [],
   "source": []
  }
 ],
 "metadata": {
  "kernelspec": {
   "display_name": "Python 3",
   "language": "python",
   "name": "python3"
  },
  "language_info": {
   "codemirror_mode": {
    "name": "ipython",
    "version": 3
   },
   "file_extension": ".py",
   "mimetype": "text/x-python",
   "name": "python",
   "nbconvert_exporter": "python",
   "pygments_lexer": "ipython3",
   "version": "3.8.5"
  }
 },
 "nbformat": 4,
 "nbformat_minor": 4
}
