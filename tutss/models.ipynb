{
 "cells": [
  {
   "cell_type": "code",
   "execution_count": 1,
   "metadata": {},
   "outputs": [],
   "source": [
    "%store -r import_all_libs"
   ]
  },
  {
   "cell_type": "code",
   "execution_count": 2,
   "metadata": {},
   "outputs": [],
   "source": [
    "import_all_libs"
   ]
  },
  {
   "cell_type": "code",
   "execution_count": 3,
   "metadata": {},
   "outputs": [],
   "source": [
    "from datetime import date\n",
    "import gc"
   ]
  },
  {
   "cell_type": "code",
   "execution_count": 4,
   "metadata": {},
   "outputs": [],
   "source": [
    "fat_ljs_atual = pd.read_csv('/home/tuts/datasets/uspvsufmg/faturamento_lojas_atuais.csv')\n",
    "cen_exp = pd.read_csv('/home/tuts/datasets/uspvsufmg/cenarios_expansao.csv')\n",
    "ljs_atual = pd.read_csv('/home/tuts/datasets/uspvsufmg/lojas_atuais.csv')"
   ]
  },
  {
   "cell_type": "code",
   "execution_count": 5,
   "metadata": {},
   "outputs": [
    {
     "data": {
      "text/plain": [
       "3130"
      ]
     },
     "execution_count": 5,
     "metadata": {},
     "output_type": "execute_result"
    }
   ],
   "source": [
    "ljs_atual.cod_loja.nunique()"
   ]
  },
  {
   "cell_type": "code",
   "execution_count": 6,
   "metadata": {},
   "outputs": [
    {
     "data": {
      "text/html": [
       "<div>\n",
       "<style scoped>\n",
       "    .dataframe tbody tr th:only-of-type {\n",
       "        vertical-align: middle;\n",
       "    }\n",
       "\n",
       "    .dataframe tbody tr th {\n",
       "        vertical-align: top;\n",
       "    }\n",
       "\n",
       "    .dataframe thead th {\n",
       "        text-align: right;\n",
       "    }\n",
       "</style>\n",
       "<table border=\"1\" class=\"dataframe\">\n",
       "  <thead>\n",
       "    <tr style=\"text-align: right;\">\n",
       "      <th></th>\n",
       "      <th>cod_loja</th>\n",
       "      <th>cod_ap</th>\n",
       "      <th>cod_municipio</th>\n",
       "      <th>feature_01</th>\n",
       "      <th>feature_02</th>\n",
       "      <th>feature_03</th>\n",
       "      <th>feature_04</th>\n",
       "      <th>feature_05</th>\n",
       "      <th>feature_06</th>\n",
       "      <th>feature_07</th>\n",
       "      <th>feature_08</th>\n",
       "      <th>feature_09</th>\n",
       "      <th>feature_10</th>\n",
       "      <th>feature_11</th>\n",
       "      <th>feature_12</th>\n",
       "      <th>feature_13</th>\n",
       "      <th>feature_14</th>\n",
       "      <th>feature_15</th>\n",
       "      <th>feature_16</th>\n",
       "      <th>feature_17</th>\n",
       "      <th>feature_18</th>\n",
       "    </tr>\n",
       "  </thead>\n",
       "  <tbody>\n",
       "    <tr>\n",
       "      <th>0</th>\n",
       "      <td>10</td>\n",
       "      <td>2933307005008</td>\n",
       "      <td>2933307</td>\n",
       "      <td>FEATURE_01_VALUE_08</td>\n",
       "      <td>FEATURE_02_VALUE_02</td>\n",
       "      <td>False</td>\n",
       "      <td>50.00</td>\n",
       "      <td>FEATURE_05_VALUE_03</td>\n",
       "      <td>6</td>\n",
       "      <td>0.13</td>\n",
       "      <td>0.13</td>\n",
       "      <td>116.19</td>\n",
       "      <td>2.91</td>\n",
       "      <td>FEATURE_11_VALUE_01</td>\n",
       "      <td>FEATURE_12_VALUE_01</td>\n",
       "      <td>100.00</td>\n",
       "      <td>93.40</td>\n",
       "      <td>100.00</td>\n",
       "      <td>100.00</td>\n",
       "      <td>71.70</td>\n",
       "      <td>88.80</td>\n",
       "    </tr>\n",
       "    <tr>\n",
       "      <th>1</th>\n",
       "      <td>13</td>\n",
       "      <td>2916401003002</td>\n",
       "      <td>2916401</td>\n",
       "      <td>FEATURE_01_VALUE_10</td>\n",
       "      <td>FEATURE_02_VALUE_04</td>\n",
       "      <td>False</td>\n",
       "      <td>41.00</td>\n",
       "      <td>FEATURE_05_VALUE_03</td>\n",
       "      <td>4</td>\n",
       "      <td>0.12</td>\n",
       "      <td>0.11</td>\n",
       "      <td>26.35</td>\n",
       "      <td>1.31</td>\n",
       "      <td>NaN</td>\n",
       "      <td>NaN</td>\n",
       "      <td>84.30</td>\n",
       "      <td>77.50</td>\n",
       "      <td>100.00</td>\n",
       "      <td>100.00</td>\n",
       "      <td>63.50</td>\n",
       "      <td>78.80</td>\n",
       "    </tr>\n",
       "    <tr>\n",
       "      <th>2</th>\n",
       "      <td>16</td>\n",
       "      <td>2928703003003</td>\n",
       "      <td>2928703</td>\n",
       "      <td>NaN</td>\n",
       "      <td>FEATURE_02_VALUE_04</td>\n",
       "      <td>False</td>\n",
       "      <td>42.12</td>\n",
       "      <td>FEATURE_05_VALUE_05</td>\n",
       "      <td>2</td>\n",
       "      <td>0.10</td>\n",
       "      <td>0.09</td>\n",
       "      <td>35.36</td>\n",
       "      <td>1.97</td>\n",
       "      <td>NaN</td>\n",
       "      <td>NaN</td>\n",
       "      <td>nan</td>\n",
       "      <td>nan</td>\n",
       "      <td>nan</td>\n",
       "      <td>nan</td>\n",
       "      <td>nan</td>\n",
       "      <td>nan</td>\n",
       "    </tr>\n",
       "    <tr>\n",
       "      <th>3</th>\n",
       "      <td>21</td>\n",
       "      <td>2906006003001</td>\n",
       "      <td>2906006</td>\n",
       "      <td>NaN</td>\n",
       "      <td>FEATURE_02_VALUE_04</td>\n",
       "      <td>False</td>\n",
       "      <td>30.00</td>\n",
       "      <td>FEATURE_05_VALUE_03</td>\n",
       "      <td>6</td>\n",
       "      <td>0.13</td>\n",
       "      <td>0.13</td>\n",
       "      <td>9.86</td>\n",
       "      <td>1.38</td>\n",
       "      <td>NaN</td>\n",
       "      <td>NaN</td>\n",
       "      <td>85.00</td>\n",
       "      <td>76.90</td>\n",
       "      <td>100.00</td>\n",
       "      <td>100.00</td>\n",
       "      <td>100.00</td>\n",
       "      <td>92.90</td>\n",
       "    </tr>\n",
       "    <tr>\n",
       "      <th>4</th>\n",
       "      <td>28</td>\n",
       "      <td>3550308005058</td>\n",
       "      <td>3550308</td>\n",
       "      <td>FEATURE_01_VALUE_10</td>\n",
       "      <td>FEATURE_02_VALUE_02</td>\n",
       "      <td>True</td>\n",
       "      <td>44.31</td>\n",
       "      <td>FEATURE_05_VALUE_03</td>\n",
       "      <td>8</td>\n",
       "      <td>0.19</td>\n",
       "      <td>0.18</td>\n",
       "      <td>5593.91</td>\n",
       "      <td>2.82</td>\n",
       "      <td>FEATURE_11_VALUE_02</td>\n",
       "      <td>FEATURE_12_VALUE_01</td>\n",
       "      <td>nan</td>\n",
       "      <td>nan</td>\n",
       "      <td>nan</td>\n",
       "      <td>nan</td>\n",
       "      <td>nan</td>\n",
       "      <td>nan</td>\n",
       "    </tr>\n",
       "  </tbody>\n",
       "</table>\n",
       "</div>"
      ],
      "text/plain": [
       "   cod_loja         cod_ap  cod_municipio           feature_01  \\\n",
       "0        10  2933307005008        2933307  FEATURE_01_VALUE_08   \n",
       "1        13  2916401003002        2916401  FEATURE_01_VALUE_10   \n",
       "2        16  2928703003003        2928703                  NaN   \n",
       "3        21  2906006003001        2906006                  NaN   \n",
       "4        28  3550308005058        3550308  FEATURE_01_VALUE_10   \n",
       "\n",
       "            feature_02  feature_03  feature_04           feature_05  \\\n",
       "0  FEATURE_02_VALUE_02       False       50.00  FEATURE_05_VALUE_03   \n",
       "1  FEATURE_02_VALUE_04       False       41.00  FEATURE_05_VALUE_03   \n",
       "2  FEATURE_02_VALUE_04       False       42.12  FEATURE_05_VALUE_05   \n",
       "3  FEATURE_02_VALUE_04       False       30.00  FEATURE_05_VALUE_03   \n",
       "4  FEATURE_02_VALUE_02        True       44.31  FEATURE_05_VALUE_03   \n",
       "\n",
       "   feature_06  feature_07  feature_08  feature_09  feature_10  \\\n",
       "0           6        0.13        0.13      116.19        2.91   \n",
       "1           4        0.12        0.11       26.35        1.31   \n",
       "2           2        0.10        0.09       35.36        1.97   \n",
       "3           6        0.13        0.13        9.86        1.38   \n",
       "4           8        0.19        0.18     5593.91        2.82   \n",
       "\n",
       "            feature_11           feature_12  feature_13  feature_14  \\\n",
       "0  FEATURE_11_VALUE_01  FEATURE_12_VALUE_01      100.00       93.40   \n",
       "1                  NaN                  NaN       84.30       77.50   \n",
       "2                  NaN                  NaN         nan         nan   \n",
       "3                  NaN                  NaN       85.00       76.90   \n",
       "4  FEATURE_11_VALUE_02  FEATURE_12_VALUE_01         nan         nan   \n",
       "\n",
       "   feature_15  feature_16  feature_17  feature_18  \n",
       "0      100.00      100.00       71.70       88.80  \n",
       "1      100.00      100.00       63.50       78.80  \n",
       "2         nan         nan         nan         nan  \n",
       "3      100.00      100.00      100.00       92.90  \n",
       "4         nan         nan         nan         nan  "
      ]
     },
     "execution_count": 6,
     "metadata": {},
     "output_type": "execute_result"
    }
   ],
   "source": [
    "cen_exp.head()"
   ]
  },
  {
   "cell_type": "code",
   "execution_count": 7,
   "metadata": {},
   "outputs": [],
   "source": [
    "df = fat_ljs_atual.merge(ljs_atual, on='cod_loja', how='inner')\n",
    "df[\"datetime\"] = pd.to_datetime(df.ano*100 + df.mes, format='%Y%m')\n",
    "df.drop([\"ano\", \"mes\"], axis=1, inplace=True)"
   ]
  },
  {
   "cell_type": "code",
   "execution_count": 8,
   "metadata": {},
   "outputs": [
    {
     "data": {
      "text/plain": [
       "{'categoria', 'cod_loja', 'datetime', 'qtde', 'receita'}"
      ]
     },
     "execution_count": 8,
     "metadata": {},
     "output_type": "execute_result"
    }
   ],
   "source": [
    "s = set(fat_ljs_atual.columns) - set(['ano', 'mes'])\n",
    "s.add('datetime')\n",
    "s"
   ]
  },
  {
   "cell_type": "code",
   "execution_count": 9,
   "metadata": {},
   "outputs": [],
   "source": [
    "fat_mes_df = df[list(s)].groupby([\"cod_loja\", \"datetime\"] , as_index=False).sum()"
   ]
  },
  {
   "cell_type": "code",
   "execution_count": 10,
   "metadata": {},
   "outputs": [],
   "source": [
    "df_fat_mes = fat_mes_df.merge(ljs_atual, on=\"cod_loja\", how='inner')"
   ]
  },
  {
   "cell_type": "code",
   "execution_count": 11,
   "metadata": {},
   "outputs": [],
   "source": [
    "lojas_sem_24_meses = []\n",
    "for i in df_fat_mes[\"cod_loja\"].unique():\n",
    "    if df_fat_mes[df_fat_mes[\"cod_loja\"] == i].shape[0] != 24:\n",
    "        lojas_sem_24_meses.append(i)\n",
    "\n",
    "train_df = df_fat_mes[~df_fat_mes[\"cod_loja\"].isin(lojas_sem_24_meses).values]"
   ]
  },
  {
   "cell_type": "markdown",
   "metadata": {},
   "source": [
    "# Imputing"
   ]
  },
  {
   "cell_type": "code",
   "execution_count": 12,
   "metadata": {},
   "outputs": [
    {
     "name": "stdout",
     "output_type": "stream",
     "text": [
      "## FEATURE 1 ##\n",
      "count                   25440\n",
      "unique                      3\n",
      "top       FEATURE_01_VALUE_10\n",
      "freq                    14808\n",
      "Name: feature_01, dtype: object\n",
      "## FEATURE 11 ##\n",
      "count                    5760\n",
      "unique                      7\n",
      "top       FEATURE_11_VALUE_02\n",
      "freq                     2304\n",
      "Name: feature_11, dtype: object\n",
      "## FEATURE 12 ##\n",
      "count                    5760\n",
      "unique                      2\n",
      "top       FEATURE_12_VALUE_01\n",
      "freq                     3600\n",
      "Name: feature_12, dtype: object\n",
      "## FEATURE 13 ##\n",
      "count   20736.00\n",
      "mean       94.81\n",
      "std         8.60\n",
      "min        44.10\n",
      "25%        92.20\n",
      "50%       100.00\n",
      "75%       100.00\n",
      "max       100.00\n",
      "Name: feature_13, dtype: float64\n",
      "## FEATURE 14 ##\n",
      "count   20736.00\n",
      "mean       83.70\n",
      "std        13.58\n",
      "min         0.00\n",
      "25%        79.68\n",
      "50%        86.90\n",
      "75%        91.90\n",
      "max       100.00\n",
      "Name: feature_14, dtype: float64\n",
      "## FEATURE 15 ##\n",
      "count   20736.00\n",
      "mean       82.66\n",
      "std        34.42\n",
      "min         0.00\n",
      "25%       100.00\n",
      "50%       100.00\n",
      "75%       100.00\n",
      "max       100.00\n",
      "Name: feature_15, dtype: float64\n",
      "## FEATURE 16 ##\n",
      "count   20736.00\n",
      "mean       96.24\n",
      "std        12.94\n",
      "min        50.00\n",
      "25%       100.00\n",
      "50%       100.00\n",
      "75%       100.00\n",
      "max       100.00\n",
      "Name: feature_16, dtype: float64\n",
      "## FEATURE 17 ##\n",
      "count   20736.00\n",
      "mean       83.37\n",
      "std        17.35\n",
      "min        13.10\n",
      "25%        71.97\n",
      "50%        91.05\n",
      "75%        97.60\n",
      "max       100.00\n",
      "Name: feature_17, dtype: float64\n",
      "## FEATURE 18 ##\n",
      "count   20736.00\n",
      "mean       88.32\n",
      "std         9.18\n",
      "min        42.10\n",
      "25%        83.50\n",
      "50%        90.50\n",
      "75%        95.60\n",
      "max        99.90\n",
      "Name: feature_18, dtype: float64\n"
     ]
    }
   ],
   "source": [
    "print('## FEATURE 1 ##')\n",
    "print(train_df.feature_01.describe())\n",
    "print('## FEATURE 11 ##')\n",
    "print(train_df.feature_11.describe())\n",
    "print('## FEATURE 12 ##')\n",
    "print(train_df.feature_12.describe())\n",
    "print('## FEATURE 13 ##')\n",
    "print(train_df.feature_13.describe())\n",
    "print('## FEATURE 14 ##')\n",
    "print(train_df.feature_14.describe())\n",
    "print('## FEATURE 15 ##')\n",
    "print(train_df.feature_15.describe())\n",
    "print('## FEATURE 16 ##')\n",
    "print(train_df.feature_16.describe())\n",
    "print('## FEATURE 17 ##')\n",
    "print(train_df.feature_17.describe())\n",
    "print('## FEATURE 18 ##')\n",
    "print(train_df.feature_18.describe())"
   ]
  },
  {
   "cell_type": "code",
   "execution_count": 13,
   "metadata": {},
   "outputs": [
    {
     "data": {
      "text/plain": [
       "['feature_01',\n",
       " 'feature_11',\n",
       " 'feature_12',\n",
       " 'feature_13',\n",
       " 'feature_14',\n",
       " 'feature_15',\n",
       " 'feature_16',\n",
       " 'feature_17',\n",
       " 'feature_18']"
      ]
     },
     "execution_count": 13,
     "metadata": {},
     "output_type": "execute_result"
    }
   ],
   "source": [
    "has_na_cols = list()\n",
    "for col in train_df.columns:\n",
    "    if train_df[col].isnull().values.any():\n",
    "        has_na_cols.append(col)\n",
    "has_na_cols"
   ]
  },
  {
   "cell_type": "code",
   "execution_count": 14,
   "metadata": {},
   "outputs": [
    {
     "name": "stdout",
     "output_type": "stream",
     "text": [
      "FEATURE_01_VALUE_10\n",
      "FEATURE_11_VALUE_02\n",
      "FEATURE_12_VALUE_01\n"
     ]
    },
    {
     "name": "stderr",
     "output_type": "stream",
     "text": [
      "\n",
      "A value is trying to be set on a copy of a slice from a DataFrame\n",
      "\n",
      "See the caveats in the documentation: https://pandas.pydata.org/pandas-docs/stable/user_guide/indexing.html#returning-a-view-versus-a-copy\n"
     ]
    }
   ],
   "source": [
    "for na_col in has_na_cols:\n",
    "    if train_df[na_col].dtype == object:\n",
    "        print(train_df[na_col].mode()[0])\n",
    "        train_df[na_col].fillna(train_df[na_col].mode()[0], inplace=True)\n",
    "    else:\n",
    "        train_df[na_col].fillna(train_df[na_col].median(), inplace=True)"
   ]
  },
  {
   "cell_type": "code",
   "execution_count": 18,
   "metadata": {},
   "outputs": [
    {
     "name": "stdout",
     "output_type": "stream",
     "text": [
      "feature_01\n",
      "FEATURE_01_VALUE_10    60480\n",
      "FEATURE_01_VALUE_08     5832\n",
      "FEATURE_01_VALUE_03     4800\n",
      "Name: feature_01, dtype: int64\n",
      "feature_02\n",
      "FEATURE_02_VALUE_06    20400\n",
      "FEATURE_02_VALUE_03    19608\n",
      "FEATURE_02_VALUE_02    16272\n",
      "FEATURE_02_VALUE_04    14832\n",
      "Name: feature_02, dtype: int64\n",
      "feature_05\n",
      "FEATURE_05_VALUE_03    45816\n",
      "FEATURE_05_VALUE_06    11088\n",
      "FEATURE_05_VALUE_05    11064\n",
      "FEATURE_05_VALUE_02     2616\n",
      "FEATURE_05_VALUE_01      336\n",
      "FEATURE_05_VALUE_07      144\n",
      "FEATURE_05_VALUE_08       24\n",
      "FEATURE_05_VALUE_04       24\n",
      "Name: feature_05, dtype: int64\n",
      "feature_11\n",
      "FEATURE_11_VALUE_02    67656\n",
      "FEATURE_11_VALUE_01     1416\n",
      "FEATURE_11_VALUE_06     1104\n",
      "FEATURE_11_VALUE_07      672\n",
      "FEATURE_11_VALUE_04       96\n",
      "FEATURE_11_VALUE_03       96\n",
      "FEATURE_11_VALUE_05       72\n",
      "Name: feature_11, dtype: int64\n",
      "feature_12\n",
      "FEATURE_12_VALUE_01    68952\n",
      "FEATURE_12_VALUE_02     2160\n",
      "Name: feature_12, dtype: int64\n"
     ]
    }
   ],
   "source": [
    "cols = train_df.columns\n",
    "for col in cols:\n",
    "    if train_df[col].dtype == object:\n",
    "        print(col)\n",
    "        print(train_df[col].value_counts())\n",
    "        train_df = pd.concat([train_df, pd.get_dummies(train_df[col])], axis=1)"
   ]
  },
  {
   "cell_type": "code",
   "execution_count": 20,
   "metadata": {},
   "outputs": [
    {
     "data": {
      "text/plain": [
       "(71112, 48)"
      ]
     },
     "execution_count": 20,
     "metadata": {},
     "output_type": "execute_result"
    }
   ],
   "source": [
    "train_df.shape"
   ]
  },
  {
   "cell_type": "code",
   "execution_count": 33,
   "metadata": {},
   "outputs": [],
   "source": [
    "cols = train_df.columns"
   ]
  },
  {
   "cell_type": "code",
   "execution_count": 34,
   "metadata": {},
   "outputs": [],
   "source": [
    "model_df = train_df[cols]\n",
    "model_df[\"month\"] = model_df[\"datetime\"].dt.month\n",
    "model_df[\"quarter\"] = model_df[\"datetime\"].dt.quarter\n",
    "model_df[\"year\"] = model_df[\"datetime\"].dt.year"
   ]
  },
  {
   "cell_type": "code",
   "execution_count": 35,
   "metadata": {},
   "outputs": [],
   "source": [
    "str_cols = list()\n",
    "for col in model_df.columns.values.tolist():\n",
    "    if model_df[col].dtype == object:\n",
    "        str_cols.append(col)"
   ]
  },
  {
   "cell_type": "code",
   "execution_count": 36,
   "metadata": {},
   "outputs": [],
   "source": [
    "str_cols.append('datetime') \n",
    "str_cols.append('receita')\n",
    "str_cols.append('qtde')"
   ]
  },
  {
   "cell_type": "code",
   "execution_count": 37,
   "metadata": {},
   "outputs": [
    {
     "data": {
      "text/plain": [
       "['feature_01',\n",
       " 'feature_02',\n",
       " 'feature_05',\n",
       " 'feature_11',\n",
       " 'feature_12',\n",
       " 'datetime',\n",
       " 'receita',\n",
       " 'qtde']"
      ]
     },
     "execution_count": 37,
     "metadata": {},
     "output_type": "execute_result"
    }
   ],
   "source": [
    "str_cols"
   ]
  },
  {
   "cell_type": "code",
   "execution_count": 38,
   "metadata": {},
   "outputs": [],
   "source": [
    "train = model_df[~model_df[\"datetime\"].isin([date(2017,10,1), date(2017,11,1), date(2017,12,1)])]\n",
    "test = model_df[model_df[\"datetime\"].isin([date(2017,10,1), date(2017,11,1), date(2017,12,1)])]\n",
    "\n",
    "X_train = train.drop(str_cols, axis=1)\n",
    "y_train = train[\"receita\"]\n",
    "\n",
    "X_test = test.drop(str_cols, axis=1)\n",
    "y_test = test[\"receita\"]"
   ]
  },
  {
   "cell_type": "code",
   "execution_count": 39,
   "metadata": {},
   "outputs": [
    {
     "data": {
      "text/plain": [
       "Index(['cod_loja', 'cod_ap', 'cod_municipio', 'feature_03', 'feature_04',\n",
       "       'feature_06', 'feature_07', 'feature_08', 'feature_09', 'feature_10',\n",
       "       'feature_13', 'feature_14', 'feature_15', 'feature_16', 'feature_17',\n",
       "       'feature_18', 'FEATURE_01_VALUE_03', 'FEATURE_01_VALUE_08',\n",
       "       'FEATURE_01_VALUE_10', 'FEATURE_02_VALUE_02', 'FEATURE_02_VALUE_03',\n",
       "       'FEATURE_02_VALUE_04', 'FEATURE_02_VALUE_06', 'FEATURE_05_VALUE_01',\n",
       "       'FEATURE_05_VALUE_02', 'FEATURE_05_VALUE_03', 'FEATURE_05_VALUE_04',\n",
       "       'FEATURE_05_VALUE_05', 'FEATURE_05_VALUE_06', 'FEATURE_05_VALUE_07',\n",
       "       'FEATURE_05_VALUE_08', 'FEATURE_11_VALUE_01', 'FEATURE_11_VALUE_02',\n",
       "       'FEATURE_11_VALUE_03', 'FEATURE_11_VALUE_04', 'FEATURE_11_VALUE_05',\n",
       "       'FEATURE_11_VALUE_06', 'FEATURE_11_VALUE_07', 'FEATURE_12_VALUE_01',\n",
       "       'FEATURE_12_VALUE_02', 'month', 'quarter', 'year'],\n",
       "      dtype='object')"
      ]
     },
     "execution_count": 39,
     "metadata": {},
     "output_type": "execute_result"
    }
   ],
   "source": [
    "X_train.columns"
   ]
  },
  {
   "cell_type": "markdown",
   "metadata": {},
   "source": [
    "# Train"
   ]
  },
  {
   "cell_type": "code",
   "execution_count": 40,
   "metadata": {},
   "outputs": [],
   "source": [
    "errors = list()"
   ]
  },
  {
   "cell_type": "code",
   "execution_count": 41,
   "metadata": {},
   "outputs": [
    {
     "data": {
      "text/plain": [
       "34051.41257654828"
      ]
     },
     "execution_count": 41,
     "metadata": {},
     "output_type": "execute_result"
    }
   ],
   "source": [
    "rf = RandomForestRegressor(n_estimators=400, n_jobs=-1)\n",
    "\n",
    "rf.fit(X_train.values, y_train.values)\n",
    "y_pred = rf.predict(X_test)\n",
    "m = np.sqrt(mean_squared_error(y_test, y_pred))\n",
    "errors.append(m)\n",
    "m"
   ]
  },
  {
   "cell_type": "code",
   "execution_count": 42,
   "metadata": {},
   "outputs": [
    {
     "data": {
      "text/plain": [
       "Index(['cod_loja', 'cod_ap', 'cod_municipio', 'feature_03', 'feature_04',\n",
       "       'feature_06', 'feature_07', 'feature_08', 'feature_09', 'feature_10',\n",
       "       'feature_13', 'feature_14', 'feature_15', 'feature_16', 'feature_17',\n",
       "       'feature_18', 'FEATURE_01_VALUE_03', 'FEATURE_01_VALUE_08',\n",
       "       'FEATURE_01_VALUE_10', 'FEATURE_02_VALUE_02', 'FEATURE_02_VALUE_03',\n",
       "       'FEATURE_02_VALUE_04', 'FEATURE_02_VALUE_06', 'FEATURE_05_VALUE_01',\n",
       "       'FEATURE_05_VALUE_02', 'FEATURE_05_VALUE_03', 'FEATURE_05_VALUE_04',\n",
       "       'FEATURE_05_VALUE_05', 'FEATURE_05_VALUE_06', 'FEATURE_05_VALUE_07',\n",
       "       'FEATURE_05_VALUE_08', 'FEATURE_11_VALUE_01', 'FEATURE_11_VALUE_02',\n",
       "       'FEATURE_11_VALUE_03', 'FEATURE_11_VALUE_04', 'FEATURE_11_VALUE_05',\n",
       "       'FEATURE_11_VALUE_06', 'FEATURE_11_VALUE_07', 'FEATURE_12_VALUE_01',\n",
       "       'FEATURE_12_VALUE_02', 'month', 'quarter', 'year'],\n",
       "      dtype='object')"
      ]
     },
     "execution_count": 42,
     "metadata": {},
     "output_type": "execute_result"
    }
   ],
   "source": [
    "X_train.columns"
   ]
  },
  {
   "cell_type": "code",
   "execution_count": 44,
   "metadata": {},
   "outputs": [
    {
     "data": {
      "image/png": "[encoded data removed]",
      "text/plain": [
       "<Figure size 1440x720 with 1 Axes>"
      ]
     },
     "metadata": {},
     "output_type": "display_data"
    }
   ],
   "source": [
    "def print_feature_importances(model, cols):\n",
    "    features = cols\n",
    "    importances = model.feature_importances_\n",
    "    indices = np.argsort(importances)\n",
    "    plt.title('Feature Importances')\n",
    "    plt.barh(range(len(indices)), importances[indices], color='b', align='center')\n",
    "    plt.yticks(range(len(indices)), [features[i] for i in indices])\n",
    "    plt.xlabel('Relative Importance');\n",
    "\n",
    "plt.figure(figsize=(20,10))\n",
    "print_feature_importances(rf, X_train.columns)"
   ]
  },
  {
   "cell_type": "code",
   "execution_count": 29,
   "metadata": {},
   "outputs": [],
   "source": [
    "lojas = ljs_atual.cod_loja.unique()"
   ]
  },
  {
   "cell_type": "code",
   "execution_count": 44,
   "metadata": {},
   "outputs": [
    {
     "data": {
      "text/plain": [
       "3130"
      ]
     },
     "execution_count": 44,
     "metadata": {},
     "output_type": "execute_result"
    }
   ],
   "source": [
    "len(lojas)"
   ]
  },
  {
   "cell_type": "markdown",
   "metadata": {},
   "source": [
    "* todas as lojas:\n",
    "    - valores da loja\n",
    "    - datas tem que ser 1° trimestre de 2018\n",
    "    - preve\n",
    "    - coloca no df"
   ]
  },
  {
   "cell_type": "code",
   "execution_count": 26,
   "metadata": {},
   "outputs": [
    {
     "data": {
      "text/plain": [
       "181"
      ]
     },
     "execution_count": 26,
     "metadata": {},
     "output_type": "execute_result"
    }
   ],
   "source": [
    "del model_df, train, test, X_train, X_test, y_train, y_test, train_df\n",
    "gc.collect()"
   ]
  },
  {
   "cell_type": "markdown",
   "metadata": {},
   "source": [
    "# Submission"
   ]
  },
  {
   "cell_type": "code",
   "execution_count": 45,
   "metadata": {},
   "outputs": [
    {
     "name": "stdout",
     "output_type": "stream",
     "text": [
      "3130\n",
      "3130\n",
      "3130\n"
     ]
    }
   ],
   "source": [
    "# copy df_fat_mes\n",
    "train_df = df_fat_mes\n",
    "\n",
    "print(train_df.cod_loja.nunique())\n",
    "\n",
    "# get cols with nans\n",
    "has_na_cols = list()\n",
    "for col in train_df.columns:\n",
    "    if train_df[col].isnull().values.any():\n",
    "        has_na_cols.append(col)\n",
    "# input values\n",
    "for na_col in has_na_cols:\n",
    "    if train_df[na_col].dtype == object:\n",
    "        print(train_df[na_col].mode()[0])\n",
    "        train_df[na_col].fillna(train_df[na_col].mode()[0], inplace=True)\n",
    "    else:\n",
    "        train_df[na_col].fillna(train_df[na_col].median(), inplace=True)\n",
    "\n",
    "# get cols for model\n",
    "cols = train_df.columns\n",
    "model_df = train_df[cols]\n",
    "model_df[\"month\"] = model_df[\"datetime\"].dt.month\n",
    "model_df[\"quarter\"] = model_df[\"datetime\"].dt.quarter\n",
    "model_df[\"year\"] = model_df[\"datetime\"].dt.year\n",
    "\n",
    "# get str and unused cols\n",
    "str_cols = list()\n",
    "for col in model_df.columns.values.tolist():\n",
    "    if model_df[col].dtype == object:\n",
    "        str_cols.append(col)\n",
    "str_cols.append('datetime') \n",
    "str_cols.append('receita')\n",
    "str_cols.append('qtde')\n",
    "\n",
    "# train test split\n",
    "train = model_df[~model_df[\"datetime\"].isin([date(2017,10,1), date(2017,11,1), date(2017,12,1)])]\n",
    "test = model_df[model_df[\"datetime\"].isin([date(2017,10,1), date(2017,11,1), date(2017,12,1)])]\n",
    "\n",
    "print(model_df.cod_loja.nunique())\n",
    "\n",
    "# X_train = train.drop(str_cols, axis=1)\n",
    "# y_train = train[\"receita\"]\n",
    "# X_test = test.drop(str_cols, axis=1)\n",
    "# y_test = test[\"receita\"]\n",
    "\n",
    "# predict\n",
    "train_cols = X_train.columns.values.tolist()\n",
    "preds = []\n",
    "i = 0\n",
    "for loja in lojas:\n",
    "    Xloja = model_df[model_df.cod_loja == loja][:1]\n",
    "    i += 1\n",
    "    Xloja = Xloja[train_cols]\n",
    "    Xloja = pd.DataFrame(Xloja.values.tolist()*3, columns=Xloja.columns)\n",
    "    Xloja.month = pd.Series([1,2,3]).values\n",
    "    Xloja.quarter = pd.Series([1,1,1]).values\n",
    "    Xloja.year = pd.Series([2018,2018,2018]).values\n",
    "    yhat = rf.predict(Xloja)\n",
    "    preds.append((loja, yhat))\n",
    "print(i)"
   ]
  },
  {
   "cell_type": "code",
   "execution_count": 46,
   "metadata": {},
   "outputs": [
    {
     "data": {
      "text/plain": [
       "3130"
      ]
     },
     "execution_count": 46,
     "metadata": {},
     "output_type": "execute_result"
    }
   ],
   "source": [
    "submission = pd.DataFrame({'cod_loja': [i[0] for i in preds], 'faturamento': [np.sum(i[1]) for i in preds]})\n",
    "submission.cod_loja.nunique()"
   ]
  },
  {
   "cell_type": "code",
   "execution_count": 47,
   "metadata": {},
   "outputs": [],
   "source": [
    "submission.to_csv('/home/tuts/repos/others/usp-vs-ufmg/tutss/desafio_1.csv', index=False, sep=';')"
   ]
  },
  {
   "cell_type": "code",
   "execution_count": null,
   "metadata": {},
   "outputs": [],
   "source": []
  }
 ],
 "metadata": {
  "kernelspec": {
   "display_name": "Python 3",
   "language": "python",
   "name": "python3"
  },
  "language_info": {
   "codemirror_mode": {
    "name": "ipython",
    "version": 3
   },
   "file_extension": ".py",
   "mimetype": "text/x-python",
   "name": "python",
   "nbconvert_exporter": "python",
   "pygments_lexer": "ipython3",
   "version": "3.8.5"
  }
 },
 "nbformat": 4,
 "nbformat_minor": 4
}
